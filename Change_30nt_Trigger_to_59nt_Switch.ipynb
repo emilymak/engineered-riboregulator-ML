{
 "cells": [
  {
   "cell_type": "code",
   "execution_count": 10,
   "metadata": {},
   "outputs": [],
   "source": [
    "# import statements\n",
    "import pandas as pd"
   ]
  },
  {
   "cell_type": "markdown",
   "metadata": {},
   "source": [
    "# Part 1: Load in sequence data. \n",
    "## Change file_name here!"
   ]
  },
  {
   "cell_type": "code",
   "execution_count": 11,
   "metadata": {},
   "outputs": [
    {
     "data": {
      "text/html": [
       "<div>\n",
       "<style scoped>\n",
       "    .dataframe tbody tr th:only-of-type {\n",
       "        vertical-align: middle;\n",
       "    }\n",
       "\n",
       "    .dataframe tbody tr th {\n",
       "        vertical-align: top;\n",
       "    }\n",
       "\n",
       "    .dataframe thead th {\n",
       "        text-align: right;\n",
       "    }\n",
       "</style>\n",
       "<table border=\"1\" class=\"dataframe\">\n",
       "  <thead>\n",
       "    <tr style=\"text-align: right;\">\n",
       "      <th></th>\n",
       "      <th>30_nt_sequence</th>\n",
       "    </tr>\n",
       "  </thead>\n",
       "  <tbody>\n",
       "    <tr>\n",
       "      <th>0</th>\n",
       "      <td>AAAAAAAAAAAAAAAAAATGGAAAACAGTT</td>\n",
       "    </tr>\n",
       "    <tr>\n",
       "      <th>1</th>\n",
       "      <td>AAAAAAAAAAAAATGGAAAACAGTTACTAA</td>\n",
       "    </tr>\n",
       "    <tr>\n",
       "      <th>2</th>\n",
       "      <td>AAAAAAAAATTACTACTATTGTTAATTTAG</td>\n",
       "    </tr>\n",
       "  </tbody>\n",
       "</table>\n",
       "</div>"
      ],
      "text/plain": [
       "                   30_nt_sequence\n",
       "0  AAAAAAAAAAAAAAAAAATGGAAAACAGTT\n",
       "1  AAAAAAAAAAAAATGGAAAACAGTTACTAA\n",
       "2  AAAAAAAAATTACTACTATTGTTAATTTAG"
      ]
     },
     "execution_count": 11,
     "metadata": {},
     "output_type": "execute_result"
    }
   ],
   "source": [
    "# enter a .csv with sequences\n",
    "data_dir = 'toehold_sequences/'\n",
    "file_name = '30_nt_sequences.csv' # CHANGE FILENAME!\n",
    "data_df = pd.read_csv(data_dir + file_name,sep=',', header=0)\n",
    "data_df.rename(columns = {0:'switch_sequence'}, inplace = True) \n",
    "data_df.head(3)"
   ]
  },
  {
   "cell_type": "code",
   "execution_count": 12,
   "metadata": {},
   "outputs": [],
   "source": [
    "switches = data_df['30_nt_sequence'] # may need to change depending on your column name"
   ]
  },
  {
   "cell_type": "markdown",
   "metadata": {},
   "source": [
    "# Part 2: Helper functions for 30nt-->59nt"
   ]
  },
  {
   "cell_type": "code",
   "execution_count": 13,
   "metadata": {
    "scrolled": true
   },
   "outputs": [],
   "source": [
    "rbs = 'AACAGAGGAGA'\n",
    "start_codon = 'ATG'"
   ]
  },
  {
   "cell_type": "code",
   "execution_count": 14,
   "metadata": {},
   "outputs": [],
   "source": [
    "# Make function to generate reverse compliment of the DNA strand\n",
    "def make_rev_complement(string):\n",
    "    new_str = ''\n",
    "    for s in string:\n",
    "        char = ''\n",
    "        if s == 'A':\n",
    "            char = 'T'\n",
    "        elif s == 'T':\n",
    "            char = 'A'\n",
    "        elif s == 'C':\n",
    "            char = 'G'\n",
    "        elif s == 'G':\n",
    "            char = 'C'\n",
    "        else:\n",
    "            print('UH OH! Character not A, T, C, or G')\n",
    "        new_str += char\n",
    "    new_str = new_str[::-1]\n",
    "    return new_str"
   ]
  },
  {
   "cell_type": "code",
   "execution_count": 15,
   "metadata": {},
   "outputs": [],
   "source": [
    "# Make function to check for stop codons\n",
    "def check_for_stop(toehold): \n",
    "    stop_codons = ['TAG', 'TAA', 'TGA']\n",
    "    location_of_start = 47\n",
    "    search1 = toehold.find(stop_codons[0]) == location_of_start\n",
    "    search2 = toehold.find(stop_codons[1]) == location_of_start\n",
    "    search3 = toehold.find(stop_codons[2]) == location_of_start\n",
    "    return (search1 | search2  | search3)"
   ]
  },
  {
   "cell_type": "markdown",
   "metadata": {},
   "source": [
    "# Part 3: Transform 30nt to 59nt"
   ]
  },
  {
   "cell_type": "code",
   "execution_count": 16,
   "metadata": {},
   "outputs": [],
   "source": [
    "# Make function to actually turn trigger into toehold\n",
    "def turn_switch_to_toehold(switch):\n",
    "    stem1 = make_rev_complement(switch[24:30])\n",
    "    stem2 = make_rev_complement(switch[12:21])\n",
    "    toehold = switch + rbs + stem1 + start_codon + stem2\n",
    "    return toehold"
   ]
  },
  {
   "cell_type": "code",
   "execution_count": 17,
   "metadata": {},
   "outputs": [
    {
     "name": "stdout",
     "output_type": "stream",
     "text": [
      "Total of 99 number of switches.\n",
      "After checking for stop codons, total of 99 number of switches.\n"
     ]
    }
   ],
   "source": [
    "toeholds = [turn_switch_to_toehold(x) for x in switches]\n",
    "print('Total of ' + str(len(toeholds)) + ' number of switches.')\n",
    "no_stop = [x for x in toeholds if not check_for_stop(x)]\n",
    "print('After checking for stop codons, total of ' + str(len(no_stop)) + ' number of switches.')"
   ]
  },
  {
   "cell_type": "code",
   "execution_count": 18,
   "metadata": {},
   "outputs": [
    {
     "data": {
      "text/html": [
       "<div>\n",
       "<style scoped>\n",
       "    .dataframe tbody tr th:only-of-type {\n",
       "        vertical-align: middle;\n",
       "    }\n",
       "\n",
       "    .dataframe tbody tr th {\n",
       "        vertical-align: top;\n",
       "    }\n",
       "\n",
       "    .dataframe thead th {\n",
       "        text-align: right;\n",
       "    }\n",
       "</style>\n",
       "<table border=\"1\" class=\"dataframe\">\n",
       "  <thead>\n",
       "    <tr style=\"text-align: right;\">\n",
       "      <th></th>\n",
       "      <th>59_nt_sequence</th>\n",
       "    </tr>\n",
       "  </thead>\n",
       "  <tbody>\n",
       "    <tr>\n",
       "      <th>0</th>\n",
       "      <td>AAAAAAAAAAAAAAAAAATGGAAAACAGTTAACAGAGGAGAAACTG...</td>\n",
       "    </tr>\n",
       "    <tr>\n",
       "      <th>1</th>\n",
       "      <td>AAAAAAAAAAAAATGGAAAACAGTTACTAAAACAGAGGAGATTAGT...</td>\n",
       "    </tr>\n",
       "    <tr>\n",
       "      <th>2</th>\n",
       "      <td>AAAAAAAAATTACTACTATTGTTAATTTAGAACAGAGGAGACTAAA...</td>\n",
       "    </tr>\n",
       "    <tr>\n",
       "      <th>3</th>\n",
       "      <td>AAAAAAAATAACGTAGGACTACTACTTGGAAACAGAGGAGATCCAA...</td>\n",
       "    </tr>\n",
       "    <tr>\n",
       "      <th>4</th>\n",
       "      <td>AAAAAAAATGGAAAACAGTTACTAATATGTAACAGAGGAGAACATA...</td>\n",
       "    </tr>\n",
       "  </tbody>\n",
       "</table>\n",
       "</div>"
      ],
      "text/plain": [
       "                                      59_nt_sequence\n",
       "0  AAAAAAAAAAAAAAAAAATGGAAAACAGTTAACAGAGGAGAAACTG...\n",
       "1  AAAAAAAAAAAAATGGAAAACAGTTACTAAAACAGAGGAGATTAGT...\n",
       "2  AAAAAAAAATTACTACTATTGTTAATTTAGAACAGAGGAGACTAAA...\n",
       "3  AAAAAAAATAACGTAGGACTACTACTTGGAAACAGAGGAGATCCAA...\n",
       "4  AAAAAAAATGGAAAACAGTTACTAATATGTAACAGAGGAGAACATA..."
      ]
     },
     "execution_count": 18,
     "metadata": {},
     "output_type": "execute_result"
    }
   ],
   "source": [
    "all_new_toeholds = pd.DataFrame(no_stop)\n",
    "all_new_toeholds.rename(columns = {0:'59_nt_sequence'}, inplace = True) \n",
    "all_new_toeholds.to_csv(data_dir + '59_nt_sequences.csv') # change if you would like to save to different directory\n",
    "all_new_toeholds.head()"
   ]
  },
  {
   "cell_type": "code",
   "execution_count": null,
   "metadata": {},
   "outputs": [],
   "source": []
  }
 ],
 "metadata": {
  "kernelspec": {
   "display_name": "Python 3",
   "language": "python",
   "name": "python3"
  },
  "language_info": {
   "codemirror_mode": {
    "name": "ipython",
    "version": 3
   },
   "file_extension": ".py",
   "mimetype": "text/x-python",
   "name": "python",
   "nbconvert_exporter": "python",
   "pygments_lexer": "ipython3",
   "version": "3.7.1"
  }
 },
 "nbformat": 4,
 "nbformat_minor": 2
}
