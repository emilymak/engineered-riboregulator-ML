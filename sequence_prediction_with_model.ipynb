{
 "cells": [
  {
   "cell_type": "markdown",
   "metadata": {},
   "source": [
    "\n",
    "# Goal: Quickly predict the ON and OFF values for sequences in bulk by using trained model. \n",
    "\n",
    "### Instructions: Please change the file_name in the second code block to sequences you are interested in predicting the ON and OFF values for. The format should be a .csv file with one column, and the column should not have a header or column title."
   ]
  },
  {
   "cell_type": "code",
   "execution_count": 13,
   "metadata": {},
   "outputs": [],
   "source": [
    "# import statements \n",
    "import numpy as np\n",
    "import matplotlib.pyplot as plt\n",
    "import pandas as pd\n",
    "import tensorflow as tf\n",
    "from tensorflow.python.saved_model import tag_constants\n",
    "%matplotlib inline\n",
    "\n",
    "import keras as keras\n",
    "from keras.models import load_model\n",
    "\n",
    "from pysster.One_Hot_Encoder import One_Hot_Encoder\n",
    "from sklearn import preprocessing\n",
    "from keras.utils import to_categorical"
   ]
  },
  {
   "cell_type": "markdown",
   "metadata": {},
   "source": [
    "# Part 1: Load in bulk sequence data. \n",
    "## Change file_name here!"
   ]
  },
  {
   "cell_type": "code",
   "execution_count": 14,
   "metadata": {},
   "outputs": [
    {
     "data": {
      "text/html": [
       "<div>\n",
       "<style scoped>\n",
       "    .dataframe tbody tr th:only-of-type {\n",
       "        vertical-align: middle;\n",
       "    }\n",
       "\n",
       "    .dataframe tbody tr th {\n",
       "        vertical-align: top;\n",
       "    }\n",
       "\n",
       "    .dataframe thead th {\n",
       "        text-align: right;\n",
       "    }\n",
       "</style>\n",
       "<table border=\"1\" class=\"dataframe\">\n",
       "  <thead>\n",
       "    <tr style=\"text-align: right;\">\n",
       "      <th></th>\n",
       "      <th>switch_sequence</th>\n",
       "    </tr>\n",
       "  </thead>\n",
       "  <tbody>\n",
       "    <tr>\n",
       "      <th>0</th>\n",
       "      <td>AAAAAAAAAAAAAAAAAATGGAAAACAGTTAACAGAGGAGAAACTG...</td>\n",
       "    </tr>\n",
       "    <tr>\n",
       "      <th>1</th>\n",
       "      <td>AAAAAAAAAAAAATGGAAAACAGTTACTAAAACAGAGGAGATTAGT...</td>\n",
       "    </tr>\n",
       "    <tr>\n",
       "      <th>2</th>\n",
       "      <td>AAAAAAAAATTACTACTATTGTTAATTTAGAACAGAGGAGACTAAA...</td>\n",
       "    </tr>\n",
       "  </tbody>\n",
       "</table>\n",
       "</div>"
      ],
      "text/plain": [
       "                                     switch_sequence\n",
       "0  AAAAAAAAAAAAAAAAAATGGAAAACAGTTAACAGAGGAGAAACTG...\n",
       "1  AAAAAAAAAAAAATGGAAAACAGTTACTAAAACAGAGGAGATTAGT...\n",
       "2  AAAAAAAAATTACTACTATTGTTAATTTAGAACAGAGGAGACTAAA..."
      ]
     },
     "execution_count": 14,
     "metadata": {},
     "output_type": "execute_result"
    }
   ],
   "source": [
    "# enter a .csv with sequences\n",
    "data_dir = 'toehold_sequences/'\n",
    "file_name = 'example_switches.csv' # CHANGE FILENAME!\n",
    "data_df = pd.read_csv(data_dir + file_name,sep=',', header=None)\n",
    "data_df.rename(columns = {0:'switch_sequence'}, inplace = True) \n",
    "data_df.head(3)"
   ]
  },
  {
   "cell_type": "code",
   "execution_count": 15,
   "metadata": {},
   "outputs": [
    {
     "name": "stdout",
     "output_type": "stream",
     "text": [
      "Toehold length:  59\n",
      "Number of sequences:  99\n"
     ]
    }
   ],
   "source": [
    "toehold_seqs = data_df['switch_sequence']\n",
    "seq_len = len(toehold_seqs[0])\n",
    "print('Toehold length: ', seq_len)\n",
    "num_seqs = len(data_df)\n",
    "print('Number of sequences: ', num_seqs)"
   ]
  },
  {
   "cell_type": "markdown",
   "metadata": {},
   "source": [
    "# Part 2. Transform Data. One-hot encode sequences and extact target on and off values."
   ]
  },
  {
   "cell_type": "code",
   "execution_count": 16,
   "metadata": {},
   "outputs": [
    {
     "name": "stdout",
     "output_type": "stream",
     "text": [
      "input shape:  (99, 59, 4)\n"
     ]
    }
   ],
   "source": [
    "# create DNA alphabet- may need to change if you have RNA toeholds. Just change to 'AUCG' in the first line\n",
    "alph_letters = sorted('ATCG')\n",
    "alph = list(alph_letters)\n",
    "\n",
    "# one-hot encode with pysster (very fast and simple encoding)  \n",
    "one = One_Hot_Encoder(alph_letters)\n",
    "def _get_one_hot_encoding(seq):\n",
    "    one_hot_seq = one.encode(seq)                         \n",
    "    return one_hot_seq\n",
    "\n",
    "# now convert the data into one_hot_encoding \n",
    "input_col_name = 'switch_sequence'\n",
    "X = np.stack([_get_one_hot_encoding(s) for s in toehold_seqs]).astype(np.float32)\n",
    "\n",
    "print('input shape: ', X.shape)"
   ]
  },
  {
   "cell_type": "markdown",
   "metadata": {},
   "source": [
    "# Part 3. Load in final model. "
   ]
  },
  {
   "cell_type": "code",
   "execution_count": 17,
   "metadata": {},
   "outputs": [],
   "source": [
    "model_dir = 'trained_model/'\n",
    "final_model_path = model_dir + 'final_trained_model.h5'\n",
    "final_weights_path = model_dir + 'final_trained_model_weights.h5'\n",
    "model = load_model(final_model_path)\n",
    "model.load_weights(final_weights_path)"
   ]
  },
  {
   "cell_type": "code",
   "execution_count": 18,
   "metadata": {},
   "outputs": [
    {
     "name": "stdout",
     "output_type": "stream",
     "text": [
      "__________________________________________________________________________________________________\n",
      "Layer (type)                    Output Shape         Param #     Connected to                     \n",
      "==================================================================================================\n",
      "input_2 (InputLayer)            (None, 59, 4)        0                                            \n",
      "__________________________________________________________________________________________________\n",
      "conv_0 (Conv1D)                 (None, 59, 10)       210         input_2[0][0]                    \n",
      "__________________________________________________________________________________________________\n",
      "conv_1 (Conv1D)                 (None, 59, 5)        155         conv_0[0][0]                     \n",
      "__________________________________________________________________________________________________\n",
      "flatten_2 (Flatten)             (None, 295)          0           conv_1[0][0]                     \n",
      "__________________________________________________________________________________________________\n",
      "dropout_4 (Dropout)             (None, 295)          0           flatten_2[0][0]                  \n",
      "__________________________________________________________________________________________________\n",
      "dense_0 (Dense)                 (None, 150)          44400       dropout_4[0][0]                  \n",
      "__________________________________________________________________________________________________\n",
      "dropout_5 (Dropout)             (None, 150)          0           dense_0[0][0]                    \n",
      "__________________________________________________________________________________________________\n",
      "dense_1 (Dense)                 (None, 60)           9060        dropout_5[0][0]                  \n",
      "__________________________________________________________________________________________________\n",
      "dropout_6 (Dropout)             (None, 60)           0           dense_1[0][0]                    \n",
      "__________________________________________________________________________________________________\n",
      "dense_2 (Dense)                 (None, 15)           915         dropout_6[0][0]                  \n",
      "__________________________________________________________________________________________________\n",
      "on_output (Dense)               (None, 1)            16          dense_2[0][0]                    \n",
      "__________________________________________________________________________________________________\n",
      "off_output (Dense)              (None, 1)            16          dense_2[0][0]                    \n",
      "==================================================================================================\n",
      "Total params: 54,772\n",
      "Trainable params: 54,772\n",
      "Non-trainable params: 0\n",
      "__________________________________________________________________________________________________\n"
     ]
    }
   ],
   "source": [
    "# visually inspect architecture\n",
    "model.summary()"
   ]
  },
  {
   "cell_type": "markdown",
   "metadata": {},
   "source": [
    "# Part 4. Use model to predict ON and OFF values per sequence.\n"
   ]
  },
  {
   "cell_type": "code",
   "execution_count": 19,
   "metadata": {},
   "outputs": [],
   "source": [
    "predictions = model.predict(X)"
   ]
  },
  {
   "cell_type": "markdown",
   "metadata": {},
   "source": [
    "# Part 5. Save ON and OFF values per sequence. "
   ]
  },
  {
   "cell_type": "code",
   "execution_count": 20,
   "metadata": {},
   "outputs": [],
   "source": [
    "on_preds = predictions[0]\n",
    "off_preds = predictions[1]\n",
    "\n",
    "data_df['on_preds'] = np.reshape(on_preds, [num_seqs,])\n",
    "data_df['off_preds'] = np.reshape(off_preds, [num_seqs,])"
   ]
  },
  {
   "cell_type": "code",
   "execution_count": 21,
   "metadata": {},
   "outputs": [
    {
     "data": {
      "text/html": [
       "<div>\n",
       "<style scoped>\n",
       "    .dataframe tbody tr th:only-of-type {\n",
       "        vertical-align: middle;\n",
       "    }\n",
       "\n",
       "    .dataframe tbody tr th {\n",
       "        vertical-align: top;\n",
       "    }\n",
       "\n",
       "    .dataframe thead th {\n",
       "        text-align: right;\n",
       "    }\n",
       "</style>\n",
       "<table border=\"1\" class=\"dataframe\">\n",
       "  <thead>\n",
       "    <tr style=\"text-align: right;\">\n",
       "      <th></th>\n",
       "      <th>switch_sequence</th>\n",
       "      <th>on_preds</th>\n",
       "      <th>off_preds</th>\n",
       "    </tr>\n",
       "  </thead>\n",
       "  <tbody>\n",
       "    <tr>\n",
       "      <th>0</th>\n",
       "      <td>AAAAAAAAAAAAAAAAAATGGAAAACAGTTAACAGAGGAGAAACTG...</td>\n",
       "      <td>0.653590</td>\n",
       "      <td>0.218043</td>\n",
       "    </tr>\n",
       "    <tr>\n",
       "      <th>1</th>\n",
       "      <td>AAAAAAAAAAAAATGGAAAACAGTTACTAAAACAGAGGAGATTAGT...</td>\n",
       "      <td>0.619147</td>\n",
       "      <td>0.251494</td>\n",
       "    </tr>\n",
       "    <tr>\n",
       "      <th>2</th>\n",
       "      <td>AAAAAAAAATTACTACTATTGTTAATTTAGAACAGAGGAGACTAAA...</td>\n",
       "      <td>0.107543</td>\n",
       "      <td>0.037083</td>\n",
       "    </tr>\n",
       "    <tr>\n",
       "      <th>3</th>\n",
       "      <td>AAAAAAAATAACGTAGGACTACTACTTGGAAACAGAGGAGATCCAA...</td>\n",
       "      <td>0.085016</td>\n",
       "      <td>0.040952</td>\n",
       "    </tr>\n",
       "    <tr>\n",
       "      <th>4</th>\n",
       "      <td>AAAAAAAATGGAAAACAGTTACTAATATGTAACAGAGGAGAACATA...</td>\n",
       "      <td>0.113206</td>\n",
       "      <td>0.035373</td>\n",
       "    </tr>\n",
       "  </tbody>\n",
       "</table>\n",
       "</div>"
      ],
      "text/plain": [
       "                                     switch_sequence  on_preds  off_preds\n",
       "0  AAAAAAAAAAAAAAAAAATGGAAAACAGTTAACAGAGGAGAAACTG...  0.653590   0.218043\n",
       "1  AAAAAAAAAAAAATGGAAAACAGTTACTAAAACAGAGGAGATTAGT...  0.619147   0.251494\n",
       "2  AAAAAAAAATTACTACTATTGTTAATTTAGAACAGAGGAGACTAAA...  0.107543   0.037083\n",
       "3  AAAAAAAATAACGTAGGACTACTACTTGGAAACAGAGGAGATCCAA...  0.085016   0.040952\n",
       "4  AAAAAAAATGGAAAACAGTTACTAATATGTAACAGAGGAGAACATA...  0.113206   0.035373"
      ]
     },
     "execution_count": 21,
     "metadata": {},
     "output_type": "execute_result"
    }
   ],
   "source": [
    "data_df.to_csv(data_dir + 'predicted_values.csv') # change if you would like to save to different directory\n",
    "data_df.head()"
   ]
  },
  {
   "cell_type": "code",
   "execution_count": 22,
   "metadata": {},
   "outputs": [
    {
     "data": {
      "text/plain": [
       "Text(0, 0.5, 'Number of Sequences')"
      ]
     },
     "execution_count": 22,
     "metadata": {},
     "output_type": "execute_result"
    },
    {
     "data": {
      "image/png": "[encoded data removed]",
      "text/plain": [
       "<Figure size 720x720 with 1 Axes>"
      ]
     },
     "metadata": {
      "needs_background": "light"
     },
     "output_type": "display_data"
    }
   ],
   "source": [
    "# Plot ON and OFF values on the same histogram\n",
    "fig, ax = plt.subplots(figsize = (10, 10))\n",
    "plt.hist(data_df['on_preds'], bins = 15, alpha = 0.5, color = 'tab:blue', edgecolor = 'black')\n",
    "plt.hist(data_df['off_preds'], bins = 15, alpha = 0.5, color = 'tab:orange', edgecolor = 'black')\n",
    "plt.legend(('ON Value', 'OFF Value'))\n",
    "ax.tick_params(length = 10, width = 1)\n",
    "ax.set_xlabel('Predicted ON/OFF Value')\n",
    "ax.set_ylabel('Number of Sequences')"
   ]
  },
  {
   "cell_type": "code",
   "execution_count": 23,
   "metadata": {},
   "outputs": [
    {
     "name": "stdout",
     "output_type": "stream",
     "text": [
      "0    0.435547\n",
      "1    0.367653\n",
      "2    0.070460\n",
      "3    0.044064\n",
      "4    0.077832\n",
      "dtype: float32\n"
     ]
    }
   ],
   "source": [
    "# calculate ON/OFF ratios for each sequence\n",
    "onoff_rat = data_df['on_preds'] - data_df['off_preds']\n",
    "print(onoff_rat[0:5])"
   ]
  },
  {
   "cell_type": "code",
   "execution_count": 24,
   "metadata": {},
   "outputs": [
    {
     "data": {
      "text/plain": [
       "Text(0, 0.5, 'Number of Sequences')"
      ]
     },
     "execution_count": 24,
     "metadata": {},
     "output_type": "execute_result"
    },
    {
     "data": {
      "image/png": "[encoded data removed]",
      "text/plain": [
       "<Figure size 720x720 with 1 Axes>"
      ]
     },
     "metadata": {
      "needs_background": "light"
     },
     "output_type": "display_data"
    }
   ],
   "source": [
    "# plot ON/OFF ratios as a histogram\n",
    "fig, ax = plt.subplots(figsize = (10, 10))\n",
    "plt.hist(onoff_rat, bins = 20, color = 'tab:blue', edgecolor = 'black')\n",
    "ax.tick_params(length = 10, width = 1)\n",
    "ax.set_xlabel('Predicted ON/OFF Value')\n",
    "ax.set_ylabel('Number of Sequences')"
   ]
  },
  {
   "cell_type": "code",
   "execution_count": null,
   "metadata": {},
   "outputs": [],
   "source": []
  }
 ],
 "metadata": {
  "kernelspec": {
   "display_name": "Python 3",
   "language": "python",
   "name": "python3"
  },
  "language_info": {
   "codemirror_mode": {
    "name": "ipython",
    "version": 3
   },
   "file_extension": ".py",
   "mimetype": "text/x-python",
   "name": "python",
   "nbconvert_exporter": "python",
   "pygments_lexer": "ipython3",
   "version": "3.7.1"
  }
 },
 "nbformat": 4,
 "nbformat_minor": 2
}
