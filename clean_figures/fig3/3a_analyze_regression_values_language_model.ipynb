{
 "cells": [
  {
   "cell_type": "code",
   "execution_count": 1,
   "metadata": {},
   "outputs": [],
   "source": [
    "import numpy as np\n",
    "import seaborn as sns\n",
    "import pandas as pd\n",
    "import scipy.stats as sp"
   ]
  },
  {
   "cell_type": "markdown",
   "metadata": {},
   "source": [
    "# Part 1: Load in data"
   ]
  },
  {
   "cell_type": "code",
   "execution_count": 2,
   "metadata": {},
   "outputs": [
    {
     "data": {
      "text/html": [
       "<div>\n",
       "<style scoped>\n",
       "    .dataframe tbody tr th:only-of-type {\n",
       "        vertical-align: middle;\n",
       "    }\n",
       "\n",
       "    .dataframe tbody tr th {\n",
       "        vertical-align: top;\n",
       "    }\n",
       "\n",
       "    .dataframe thead th {\n",
       "        text-align: right;\n",
       "    }\n",
       "</style>\n",
       "<table border=\"1\" class=\"dataframe\">\n",
       "  <thead>\n",
       "    <tr style=\"text-align: right;\">\n",
       "      <th></th>\n",
       "      <th>Unnamed: 0</th>\n",
       "      <th>Toehold</th>\n",
       "      <th>Toehold.1</th>\n",
       "      <th>Toehold.2</th>\n",
       "      <th>Toehold.3</th>\n",
       "      <th>Toehold.4</th>\n",
       "      <th>Shuffled Toehold k-mers</th>\n",
       "      <th>Shuffled Toehold k-mers.1</th>\n",
       "      <th>Shuffled Toehold k-mers.2</th>\n",
       "      <th>Shuffled Toehold k-mers.3</th>\n",
       "      <th>Shuffled Toehold k-mers.4</th>\n",
       "      <th>Scrambled Toehold Sequence</th>\n",
       "      <th>Scrambled Toehold Sequence.1</th>\n",
       "      <th>Scrambled Toehold Sequence.2</th>\n",
       "      <th>Scrambled Toehold Sequence.3</th>\n",
       "      <th>Scrambled Toehold Sequence.4</th>\n",
       "    </tr>\n",
       "  </thead>\n",
       "  <tbody>\n",
       "    <tr>\n",
       "      <th>0</th>\n",
       "      <td>Toehold LM</td>\n",
       "      <td>0.490896</td>\n",
       "      <td>0.501869</td>\n",
       "      <td>0.500985</td>\n",
       "      <td>0.500773</td>\n",
       "      <td>0.495163</td>\n",
       "      <td>0.075687</td>\n",
       "      <td>0.089933</td>\n",
       "      <td>0.078919</td>\n",
       "      <td>0.088229</td>\n",
       "      <td>0.082757</td>\n",
       "      <td>0.053562</td>\n",
       "      <td>0.045172</td>\n",
       "      <td>0.054865</td>\n",
       "      <td>0.045889</td>\n",
       "      <td>0.054555</td>\n",
       "    </tr>\n",
       "    <tr>\n",
       "      <th>1</th>\n",
       "      <td>Shuffled Toehold LM</td>\n",
       "      <td>0.149350</td>\n",
       "      <td>0.123975</td>\n",
       "      <td>0.129155</td>\n",
       "      <td>0.133855</td>\n",
       "      <td>0.131635</td>\n",
       "      <td>0.028851</td>\n",
       "      <td>0.054501</td>\n",
       "      <td>0.050589</td>\n",
       "      <td>0.050589</td>\n",
       "      <td>0.056898</td>\n",
       "      <td>0.026948</td>\n",
       "      <td>0.015559</td>\n",
       "      <td>0.028253</td>\n",
       "      <td>0.026501</td>\n",
       "      <td>0.024840</td>\n",
       "    </tr>\n",
       "    <tr>\n",
       "      <th>2</th>\n",
       "      <td>Scrambled Toehold LM</td>\n",
       "      <td>0.066362</td>\n",
       "      <td>0.085578</td>\n",
       "      <td>0.076141</td>\n",
       "      <td>0.056360</td>\n",
       "      <td>0.085691</td>\n",
       "      <td>0.031427</td>\n",
       "      <td>0.034503</td>\n",
       "      <td>0.031252</td>\n",
       "      <td>0.018447</td>\n",
       "      <td>0.046775</td>\n",
       "      <td>0.003816</td>\n",
       "      <td>0.014049</td>\n",
       "      <td>0.019060</td>\n",
       "      <td>0.007104</td>\n",
       "      <td>0.024008</td>\n",
       "    </tr>\n",
       "  </tbody>\n",
       "</table>\n",
       "</div>"
      ],
      "text/plain": [
       "             Unnamed: 0   Toehold  Toehold.1  Toehold.2  Toehold.3  Toehold.4  \\\n",
       "0            Toehold LM  0.490896   0.501869   0.500985   0.500773   0.495163   \n",
       "1   Shuffled Toehold LM  0.149350   0.123975   0.129155   0.133855   0.131635   \n",
       "2  Scrambled Toehold LM  0.066362   0.085578   0.076141   0.056360   0.085691   \n",
       "\n",
       "   Shuffled Toehold k-mers  Shuffled Toehold k-mers.1  \\\n",
       "0                 0.075687                   0.089933   \n",
       "1                 0.028851                   0.054501   \n",
       "2                 0.031427                   0.034503   \n",
       "\n",
       "   Shuffled Toehold k-mers.2  Shuffled Toehold k-mers.3  \\\n",
       "0                   0.078919                   0.088229   \n",
       "1                   0.050589                   0.050589   \n",
       "2                   0.031252                   0.018447   \n",
       "\n",
       "   Shuffled Toehold k-mers.4  Scrambled Toehold Sequence  \\\n",
       "0                   0.082757                    0.053562   \n",
       "1                   0.056898                    0.026948   \n",
       "2                   0.046775                    0.003816   \n",
       "\n",
       "   Scrambled Toehold Sequence.1  Scrambled Toehold Sequence.2  \\\n",
       "0                      0.045172                      0.054865   \n",
       "1                      0.015559                      0.028253   \n",
       "2                      0.014049                      0.019060   \n",
       "\n",
       "   Scrambled Toehold Sequence.3  Scrambled Toehold Sequence.4  \n",
       "0                      0.045889                      0.054555  \n",
       "1                      0.026501                      0.024840  \n",
       "2                      0.007104                      0.024008  "
      ]
     },
     "execution_count": 2,
     "metadata": {},
     "output_type": "execute_result"
    }
   ],
   "source": [
    "full_df = pd.read_csv('regression_table_cross_vals/Fig3A.csv')\n",
    "full_df"
   ]
  },
  {
   "cell_type": "markdown",
   "metadata": {},
   "source": [
    "# Part 2: Do statistical testing"
   ]
  },
  {
   "cell_type": "code",
   "execution_count": 3,
   "metadata": {},
   "outputs": [
    {
     "name": "stdout",
     "output_type": "stream",
     "text": [
      "real model\n",
      "Ttest_indResult(statistic=120.86349658784073, pvalue=2.45471341964239e-14)\n",
      "Ttest_indResult(statistic=147.3730896613542, pvalue=5.026859273264541e-15)\n"
     ]
    }
   ],
   "source": [
    "# mcc real toeholds model\n",
    "realmodel_realtoehold = full_df.iloc[0, 1:6]\n",
    "realmodel_shufftoehold = full_df.iloc[0, 6:11]\n",
    "realmodel_scramtoehold = full_df.iloc[0, 11:16]\n",
    "\n",
    "print('real model')\n",
    "print(sp.ttest_ind(realmodel_realtoehold, realmodel_shufftoehold))\n",
    "print(sp.ttest_ind(realmodel_realtoehold, realmodel_scramtoehold))"
   ]
  },
  {
   "cell_type": "code",
   "execution_count": 4,
   "metadata": {},
   "outputs": [
    {
     "name": "stdout",
     "output_type": "stream",
     "text": [
      "shuff model\n",
      "Ttest_indResult(statistic=12.968091853101592, pvalue=1.184462609019106e-06)\n",
      "Ttest_indResult(statistic=22.55762355267623, pvalue=1.5793516771578892e-08)\n"
     ]
    }
   ],
   "source": [
    "# mcc shuff toeholds model\n",
    "shuffmodel_realtoehold = full_df.iloc[1, 1:6]\n",
    "shuffmodel_shufftoehold = full_df.iloc[1, 6:11]\n",
    "shuffmodel_scramtoehold = full_df.iloc[1, 11:16]\n",
    "\n",
    "print('shuff model')\n",
    "print(sp.ttest_ind(shuffmodel_realtoehold, shuffmodel_shufftoehold))\n",
    "print(sp.ttest_ind(shuffmodel_realtoehold, shuffmodel_scramtoehold))"
   ]
  },
  {
   "cell_type": "code",
   "execution_count": 5,
   "metadata": {},
   "outputs": [
    {
     "name": "stdout",
     "output_type": "stream",
     "text": [
      "scram model\n",
      "Ttest_indResult(statistic=5.726156142403114, pvalue=0.00044090139631788996)\n",
      "Ttest_indResult(statistic=8.902881729201646, pvalue=2.006844214689685e-05)\n"
     ]
    }
   ],
   "source": [
    "# mcc scram toeholds model\n",
    "scrammodel_realtoehold = full_df.iloc[2, 1:6]\n",
    "scrammodel_shufftoehold = full_df.iloc[2, 6:11]\n",
    "scrammodel_scramtoehold = full_df.iloc[2, 11:16]\n",
    "\n",
    "print('scram model')\n",
    "print(sp.ttest_ind(scrammodel_realtoehold, scrammodel_shufftoehold))\n",
    "print(sp.ttest_ind(scrammodel_realtoehold, scrammodel_scramtoehold))"
   ]
  },
  {
   "cell_type": "code",
   "execution_count": null,
   "metadata": {},
   "outputs": [],
   "source": []
  }
 ],
 "metadata": {
  "kernelspec": {
   "display_name": "Python 3",
   "language": "python",
   "name": "python3"
  },
  "language_info": {
   "codemirror_mode": {
    "name": "ipython",
    "version": 3
   },
   "file_extension": ".py",
   "mimetype": "text/x-python",
   "name": "python",
   "nbconvert_exporter": "python",
   "pygments_lexer": "ipython3",
   "version": "3.8.3"
  }
 },
 "nbformat": 4,
 "nbformat_minor": 2
}
