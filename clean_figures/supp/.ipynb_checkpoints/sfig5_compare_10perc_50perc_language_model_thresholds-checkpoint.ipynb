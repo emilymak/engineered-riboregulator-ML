{
 "cells": [
  {
   "cell_type": "code",
   "execution_count": 1,
   "metadata": {},
   "outputs": [],
   "source": [
    "import numpy as np\n",
    "import seaborn as sns\n",
    "import pandas as pd\n",
    "import scipy.stats as sp"
   ]
  },
  {
   "cell_type": "markdown",
   "metadata": {},
   "source": [
    "# Part 1: Load in data for S5A"
   ]
  },
  {
   "cell_type": "code",
   "execution_count": 2,
   "metadata": {},
   "outputs": [
    {
     "data": {
      "text/html": [
       "<div>\n",
       "<style scoped>\n",
       "    .dataframe tbody tr th:only-of-type {\n",
       "        vertical-align: middle;\n",
       "    }\n",
       "\n",
       "    .dataframe tbody tr th {\n",
       "        vertical-align: top;\n",
       "    }\n",
       "\n",
       "    .dataframe thead th {\n",
       "        text-align: right;\n",
       "    }\n",
       "</style>\n",
       "<table border=\"1\" class=\"dataframe\">\n",
       "  <thead>\n",
       "    <tr style=\"text-align: right;\">\n",
       "      <th></th>\n",
       "      <th>Unnamed: 0</th>\n",
       "      <th>Toehold</th>\n",
       "      <th>Toehold.1</th>\n",
       "      <th>Toehold.2</th>\n",
       "      <th>Toehold.3</th>\n",
       "      <th>Toehold.4</th>\n",
       "      <th>Shuffled Toehold k-mers</th>\n",
       "      <th>Shuffled Toehold k-mers.1</th>\n",
       "      <th>Shuffled Toehold k-mers.2</th>\n",
       "      <th>Shuffled Toehold k-mers.3</th>\n",
       "      <th>Shuffled Toehold k-mers.4</th>\n",
       "      <th>Scrambled Toehold Sequence</th>\n",
       "      <th>Scrambled Toehold Sequence.1</th>\n",
       "      <th>Scrambled Toehold Sequence.2</th>\n",
       "      <th>Scrambled Toehold Sequence.3</th>\n",
       "      <th>Scrambled Toehold Sequence.4</th>\n",
       "    </tr>\n",
       "  </thead>\n",
       "  <tbody>\n",
       "    <tr>\n",
       "      <th>0</th>\n",
       "      <td>ON</td>\n",
       "      <td>0.368617</td>\n",
       "      <td>0.424466</td>\n",
       "      <td>0.423166</td>\n",
       "      <td>0.411760</td>\n",
       "      <td>0.385163</td>\n",
       "      <td>0.065189</td>\n",
       "      <td>0.078228</td>\n",
       "      <td>0.091717</td>\n",
       "      <td>0.098821</td>\n",
       "      <td>0.079979</td>\n",
       "      <td>0.072227</td>\n",
       "      <td>0.066992</td>\n",
       "      <td>0.074219</td>\n",
       "      <td>0.073462</td>\n",
       "      <td>0.080744</td>\n",
       "    </tr>\n",
       "    <tr>\n",
       "      <th>1</th>\n",
       "      <td>ON / OFF</td>\n",
       "      <td>0.271824</td>\n",
       "      <td>0.270961</td>\n",
       "      <td>0.289993</td>\n",
       "      <td>0.298607</td>\n",
       "      <td>0.287319</td>\n",
       "      <td>0.016207</td>\n",
       "      <td>0.045088</td>\n",
       "      <td>0.035757</td>\n",
       "      <td>0.040464</td>\n",
       "      <td>0.038282</td>\n",
       "      <td>0.024300</td>\n",
       "      <td>0.024051</td>\n",
       "      <td>0.011376</td>\n",
       "      <td>0.030700</td>\n",
       "      <td>0.048583</td>\n",
       "    </tr>\n",
       "    <tr>\n",
       "      <th>2</th>\n",
       "      <td>OFF</td>\n",
       "      <td>0.000000</td>\n",
       "      <td>0.000000</td>\n",
       "      <td>0.000000</td>\n",
       "      <td>0.000000</td>\n",
       "      <td>0.000000</td>\n",
       "      <td>0.000000</td>\n",
       "      <td>0.000000</td>\n",
       "      <td>0.000000</td>\n",
       "      <td>0.000000</td>\n",
       "      <td>0.000000</td>\n",
       "      <td>0.000000</td>\n",
       "      <td>0.000000</td>\n",
       "      <td>0.000000</td>\n",
       "      <td>0.000000</td>\n",
       "      <td>0.000000</td>\n",
       "    </tr>\n",
       "  </tbody>\n",
       "</table>\n",
       "</div>"
      ],
      "text/plain": [
       "  Unnamed: 0   Toehold  Toehold.1  Toehold.2  Toehold.3  Toehold.4  \\\n",
       "0         ON  0.368617   0.424466   0.423166   0.411760   0.385163   \n",
       "1   ON / OFF  0.271824   0.270961   0.289993   0.298607   0.287319   \n",
       "2        OFF  0.000000   0.000000   0.000000   0.000000   0.000000   \n",
       "\n",
       "   Shuffled Toehold k-mers  Shuffled Toehold k-mers.1  \\\n",
       "0                 0.065189                   0.078228   \n",
       "1                 0.016207                   0.045088   \n",
       "2                 0.000000                   0.000000   \n",
       "\n",
       "   Shuffled Toehold k-mers.2  Shuffled Toehold k-mers.3  \\\n",
       "0                   0.091717                   0.098821   \n",
       "1                   0.035757                   0.040464   \n",
       "2                   0.000000                   0.000000   \n",
       "\n",
       "   Shuffled Toehold k-mers.4  Scrambled Toehold Sequence  \\\n",
       "0                   0.079979                    0.072227   \n",
       "1                   0.038282                    0.024300   \n",
       "2                   0.000000                    0.000000   \n",
       "\n",
       "   Scrambled Toehold Sequence.1  Scrambled Toehold Sequence.2  \\\n",
       "0                      0.066992                      0.074219   \n",
       "1                      0.024051                      0.011376   \n",
       "2                      0.000000                      0.000000   \n",
       "\n",
       "   Scrambled Toehold Sequence.3  Scrambled Toehold Sequence.4  \n",
       "0                      0.073462                      0.080744  \n",
       "1                      0.030700                      0.048583  \n",
       "2                      0.000000                      0.000000  "
      ]
     },
     "execution_count": 2,
     "metadata": {},
     "output_type": "execute_result"
    }
   ],
   "source": [
    "full_df = pd.read_csv('data/FigS5A.csv')\n",
    "full_df"
   ]
  },
  {
   "cell_type": "markdown",
   "metadata": {},
   "source": [
    "# Part 2: Do statistical testing"
   ]
  },
  {
   "cell_type": "code",
   "execution_count": 3,
   "metadata": {},
   "outputs": [
    {
     "name": "stdout",
     "output_type": "stream",
     "text": [
      "ON pred\n",
      "Ttest_indResult(statistic=25.612298100043418, pvalue=5.789968032669404e-09)\n",
      "Ttest_indResult(statistic=29.19876592870007, pvalue=2.0497397208142245e-09)\n"
     ]
    }
   ],
   "source": [
    "# mcc ON 10% thresh\n",
    "on_realtoehold = full_df.iloc[0, 1:6]\n",
    "on_shufftoehold = full_df.iloc[0, 6:11]\n",
    "on_scramtoehold = full_df.iloc[0, 11:16]\n",
    "\n",
    "print('ON pred')\n",
    "print(sp.ttest_ind(on_realtoehold, on_shufftoehold))\n",
    "print(sp.ttest_ind(on_realtoehold, on_scramtoehold))"
   ]
  },
  {
   "cell_type": "code",
   "execution_count": 4,
   "metadata": {},
   "outputs": [
    {
     "name": "stdout",
     "output_type": "stream",
     "text": [
      "ON/OFF pred\n",
      "Ttest_indResult(statistic=33.91742343781733, pvalue=6.237343444602218e-10)\n",
      "Ttest_indResult(statistic=31.567676637776742, pvalue=1.1035066773642516e-09)\n"
     ]
    }
   ],
   "source": [
    "# mcc ON/OFF 10% thresh\n",
    "onoff_realtoehold = full_df.iloc[1, 1:6]\n",
    "onoff_shufftoehold = full_df.iloc[1, 6:11]\n",
    "onoff_scramtoehold = full_df.iloc[1, 11:16]\n",
    "\n",
    "print('ON/OFF pred')\n",
    "print(sp.ttest_ind(onoff_realtoehold, onoff_shufftoehold))\n",
    "print(sp.ttest_ind(onoff_realtoehold, onoff_scramtoehold))"
   ]
  },
  {
   "cell_type": "code",
   "execution_count": 5,
   "metadata": {},
   "outputs": [
    {
     "name": "stdout",
     "output_type": "stream",
     "text": [
      "OFF pred\n",
      "Ttest_indResult(statistic=nan, pvalue=nan)\n",
      "Ttest_indResult(statistic=nan, pvalue=nan)\n"
     ]
    }
   ],
   "source": [
    "# mcc OFF 10% thresh\n",
    "off_realtoehold = full_df.iloc[2, 1:6]\n",
    "off_shufftoehold = full_df.iloc[2, 6:11]\n",
    "off_scramtoehold = full_df.iloc[2, 11:16]\n",
    "\n",
    "print('OFF pred')\n",
    "print(sp.ttest_ind(off_realtoehold, off_shufftoehold))\n",
    "print(sp.ttest_ind(off_realtoehold, off_scramtoehold))"
   ]
  },
  {
   "cell_type": "markdown",
   "metadata": {},
   "source": [
    "# Part 3: Load in data for S5B"
   ]
  },
  {
   "cell_type": "code",
   "execution_count": 6,
   "metadata": {},
   "outputs": [
    {
     "data": {
      "text/html": [
       "<div>\n",
       "<style scoped>\n",
       "    .dataframe tbody tr th:only-of-type {\n",
       "        vertical-align: middle;\n",
       "    }\n",
       "\n",
       "    .dataframe tbody tr th {\n",
       "        vertical-align: top;\n",
       "    }\n",
       "\n",
       "    .dataframe thead th {\n",
       "        text-align: right;\n",
       "    }\n",
       "</style>\n",
       "<table border=\"1\" class=\"dataframe\">\n",
       "  <thead>\n",
       "    <tr style=\"text-align: right;\">\n",
       "      <th></th>\n",
       "      <th>Unnamed: 0</th>\n",
       "      <th>Toehold</th>\n",
       "      <th>Toehold.1</th>\n",
       "      <th>Toehold.2</th>\n",
       "      <th>Toehold.3</th>\n",
       "      <th>Toehold.4</th>\n",
       "      <th>Shuffled Toehold k-mers</th>\n",
       "      <th>Shuffled Toehold k-mers.1</th>\n",
       "      <th>Shuffled Toehold k-mers.2</th>\n",
       "      <th>Shuffled Toehold k-mers.3</th>\n",
       "      <th>Shuffled Toehold k-mers.4</th>\n",
       "      <th>Scrambled Toehold Sequence</th>\n",
       "      <th>Scrambled Toehold Sequence.1</th>\n",
       "      <th>Scrambled Toehold Sequence.2</th>\n",
       "      <th>Scrambled Toehold Sequence.3</th>\n",
       "      <th>Scrambled Toehold Sequence.4</th>\n",
       "    </tr>\n",
       "  </thead>\n",
       "  <tbody>\n",
       "    <tr>\n",
       "      <th>0</th>\n",
       "      <td>ON</td>\n",
       "      <td>0.720682</td>\n",
       "      <td>0.704709</td>\n",
       "      <td>0.707211</td>\n",
       "      <td>0.709230</td>\n",
       "      <td>0.707355</td>\n",
       "      <td>0.189873</td>\n",
       "      <td>0.215132</td>\n",
       "      <td>0.216082</td>\n",
       "      <td>0.200787</td>\n",
       "      <td>0.205594</td>\n",
       "      <td>0.109024</td>\n",
       "      <td>0.127012</td>\n",
       "      <td>0.117571</td>\n",
       "      <td>0.114119</td>\n",
       "      <td>0.111898</td>\n",
       "    </tr>\n",
       "    <tr>\n",
       "      <th>1</th>\n",
       "      <td>ON / OFF</td>\n",
       "      <td>0.528955</td>\n",
       "      <td>0.528488</td>\n",
       "      <td>0.527344</td>\n",
       "      <td>0.522644</td>\n",
       "      <td>0.520776</td>\n",
       "      <td>0.111081</td>\n",
       "      <td>0.137318</td>\n",
       "      <td>0.141937</td>\n",
       "      <td>0.134900</td>\n",
       "      <td>0.140129</td>\n",
       "      <td>0.055276</td>\n",
       "      <td>0.045229</td>\n",
       "      <td>0.048286</td>\n",
       "      <td>0.049600</td>\n",
       "      <td>0.053966</td>\n",
       "    </tr>\n",
       "    <tr>\n",
       "      <th>2</th>\n",
       "      <td>OFF</td>\n",
       "      <td>0.559260</td>\n",
       "      <td>0.566030</td>\n",
       "      <td>0.565606</td>\n",
       "      <td>0.565512</td>\n",
       "      <td>0.566069</td>\n",
       "      <td>0.172267</td>\n",
       "      <td>0.175266</td>\n",
       "      <td>0.166109</td>\n",
       "      <td>0.171290</td>\n",
       "      <td>0.171274</td>\n",
       "      <td>0.089023</td>\n",
       "      <td>0.083355</td>\n",
       "      <td>0.078240</td>\n",
       "      <td>0.077234</td>\n",
       "      <td>0.076748</td>\n",
       "    </tr>\n",
       "  </tbody>\n",
       "</table>\n",
       "</div>"
      ],
      "text/plain": [
       "  Unnamed: 0   Toehold  Toehold.1  Toehold.2  Toehold.3  Toehold.4  \\\n",
       "0         ON  0.720682   0.704709   0.707211   0.709230   0.707355   \n",
       "1   ON / OFF  0.528955   0.528488   0.527344   0.522644   0.520776   \n",
       "2        OFF  0.559260   0.566030   0.565606   0.565512   0.566069   \n",
       "\n",
       "   Shuffled Toehold k-mers  Shuffled Toehold k-mers.1  \\\n",
       "0                 0.189873                   0.215132   \n",
       "1                 0.111081                   0.137318   \n",
       "2                 0.172267                   0.175266   \n",
       "\n",
       "   Shuffled Toehold k-mers.2  Shuffled Toehold k-mers.3  \\\n",
       "0                   0.216082                   0.200787   \n",
       "1                   0.141937                   0.134900   \n",
       "2                   0.166109                   0.171290   \n",
       "\n",
       "   Shuffled Toehold k-mers.4  Scrambled Toehold Sequence  \\\n",
       "0                   0.205594                    0.109024   \n",
       "1                   0.140129                    0.055276   \n",
       "2                   0.171274                    0.089023   \n",
       "\n",
       "   Scrambled Toehold Sequence.1  Scrambled Toehold Sequence.2  \\\n",
       "0                      0.127012                      0.117571   \n",
       "1                      0.045229                      0.048286   \n",
       "2                      0.083355                      0.078240   \n",
       "\n",
       "   Scrambled Toehold Sequence.3  Scrambled Toehold Sequence.4  \n",
       "0                      0.114119                      0.111898  \n",
       "1                      0.049600                      0.053966  \n",
       "2                      0.077234                      0.076748  "
      ]
     },
     "execution_count": 6,
     "metadata": {},
     "output_type": "execute_result"
    }
   ],
   "source": [
    "full_df = pd.read_csv('data/FigS5B.csv')\n",
    "full_df"
   ]
  },
  {
   "cell_type": "markdown",
   "metadata": {},
   "source": [
    "# Part 4: Do statistical testing"
   ]
  },
  {
   "cell_type": "code",
   "execution_count": 7,
   "metadata": {},
   "outputs": [
    {
     "name": "stdout",
     "output_type": "stream",
     "text": [
      "ON pred\n",
      "Ttest_indResult(statistic=89.96775641702082, pvalue=2.6000301567439585e-13)\n",
      "Ttest_indResult(statistic=141.95557029434417, pvalue=6.7823148617592595e-15)\n"
     ]
    }
   ],
   "source": [
    "# mcc ON 50% thresh\n",
    "on_realtoehold = full_df.iloc[0, 1:6]\n",
    "on_shufftoehold = full_df.iloc[0, 6:11]\n",
    "on_scramtoehold = full_df.iloc[0, 11:16]\n",
    "\n",
    "print('ON pred')\n",
    "print(sp.ttest_ind(on_realtoehold, on_shufftoehold))\n",
    "print(sp.ttest_ind(on_realtoehold, on_scramtoehold))"
   ]
  },
  {
   "cell_type": "code",
   "execution_count": 8,
   "metadata": {},
   "outputs": [
    {
     "name": "stdout",
     "output_type": "stream",
     "text": [
      "ON/OFF pred\n",
      "Ttest_indResult(statistic=66.93156359699906, pvalue=2.7629988801037532e-12)\n",
      "Ttest_indResult(statistic=191.642765353974, pvalue=6.150891533006469e-16)\n"
     ]
    }
   ],
   "source": [
    "# mcc ON/OFF 50% thresh\n",
    "onoff_realtoehold = full_df.iloc[1, 1:6]\n",
    "onoff_shufftoehold = full_df.iloc[1, 6:11]\n",
    "onoff_scramtoehold = full_df.iloc[1, 11:16]\n",
    "\n",
    "print('ON/OFF pred')\n",
    "print(sp.ttest_ind(onoff_realtoehold, onoff_shufftoehold))\n",
    "print(sp.ttest_ind(onoff_realtoehold, onoff_scramtoehold))"
   ]
  },
  {
   "cell_type": "code",
   "execution_count": 9,
   "metadata": {},
   "outputs": [
    {
     "name": "stdout",
     "output_type": "stream",
     "text": [
      "OFF pred\n",
      "Ttest_indResult(statistic=198.990525799049, pvalue=4.552426941465725e-16)\n",
      "Ttest_indResult(statistic=180.04959895242163, pvalue=1.013199521010825e-15)\n"
     ]
    }
   ],
   "source": [
    "# mcc OFF 50% thresh\n",
    "off_realtoehold = full_df.iloc[2, 1:6]\n",
    "off_shufftoehold = full_df.iloc[2, 6:11]\n",
    "off_scramtoehold = full_df.iloc[2, 11:16]\n",
    "\n",
    "print('OFF pred')\n",
    "print(sp.ttest_ind(off_realtoehold, off_shufftoehold))\n",
    "print(sp.ttest_ind(off_realtoehold, off_scramtoehold))"
   ]
  },
  {
   "cell_type": "code",
   "execution_count": null,
   "metadata": {},
   "outputs": [],
   "source": []
  }
 ],
 "metadata": {
  "kernelspec": {
   "display_name": "Python 3",
   "language": "python",
   "name": "python3"
  },
  "language_info": {
   "codemirror_mode": {
    "name": "ipython",
    "version": 3
   },
   "file_extension": ".py",
   "mimetype": "text/x-python",
   "name": "python",
   "nbconvert_exporter": "python",
   "pygments_lexer": "ipython3",
   "version": "3.8.3"
  }
 },
 "nbformat": 4,
 "nbformat_minor": 2
}
