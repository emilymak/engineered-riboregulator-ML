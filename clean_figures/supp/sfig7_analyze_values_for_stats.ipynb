{
 "cells": [
  {
   "cell_type": "code",
   "execution_count": 1,
   "metadata": {},
   "outputs": [],
   "source": [
    "import numpy as np\n",
    "import seaborn as sns\n",
    "import pandas as pd\n",
    "import scipy.stats as sp"
   ]
  },
  {
   "cell_type": "markdown",
   "metadata": {},
   "source": [
    "# Part 1: Load in data"
   ]
  },
  {
   "cell_type": "code",
   "execution_count": 2,
   "metadata": {},
   "outputs": [
    {
     "data": {
      "text/html": [
       "<div>\n",
       "<style scoped>\n",
       "    .dataframe tbody tr th:only-of-type {\n",
       "        vertical-align: middle;\n",
       "    }\n",
       "\n",
       "    .dataframe tbody tr th {\n",
       "        vertical-align: top;\n",
       "    }\n",
       "\n",
       "    .dataframe thead th {\n",
       "        text-align: right;\n",
       "    }\n",
       "</style>\n",
       "<table border=\"1\" class=\"dataframe\">\n",
       "  <thead>\n",
       "    <tr style=\"text-align: right;\">\n",
       "      <th></th>\n",
       "      <th>Naive Bayes</th>\n",
       "      <th>Logistic Regression</th>\n",
       "      <th>Random Forest</th>\n",
       "      <th>LSTM</th>\n",
       "      <th>BiD-LSTM</th>\n",
       "      <th>BiD-LSTM + Attn.</th>\n",
       "      <th>CNN-LSTM</th>\n",
       "      <th>Toehold LM</th>\n",
       "    </tr>\n",
       "  </thead>\n",
       "  <tbody>\n",
       "    <tr>\n",
       "      <th>0</th>\n",
       "      <td>0.144550</td>\n",
       "      <td>0.176347</td>\n",
       "      <td>0.054467</td>\n",
       "      <td>0.285926</td>\n",
       "      <td>0.304871</td>\n",
       "      <td>0.404347</td>\n",
       "      <td>0.330503</td>\n",
       "      <td>0.490896</td>\n",
       "    </tr>\n",
       "    <tr>\n",
       "      <th>1</th>\n",
       "      <td>0.150874</td>\n",
       "      <td>0.182737</td>\n",
       "      <td>0.046842</td>\n",
       "      <td>0.294829</td>\n",
       "      <td>0.241269</td>\n",
       "      <td>0.417720</td>\n",
       "      <td>0.336747</td>\n",
       "      <td>0.501869</td>\n",
       "    </tr>\n",
       "    <tr>\n",
       "      <th>2</th>\n",
       "      <td>0.146190</td>\n",
       "      <td>0.160259</td>\n",
       "      <td>0.048774</td>\n",
       "      <td>0.295331</td>\n",
       "      <td>0.270839</td>\n",
       "      <td>0.436249</td>\n",
       "      <td>0.338469</td>\n",
       "      <td>0.500985</td>\n",
       "    </tr>\n",
       "    <tr>\n",
       "      <th>3</th>\n",
       "      <td>0.136289</td>\n",
       "      <td>0.155363</td>\n",
       "      <td>0.048081</td>\n",
       "      <td>0.238717</td>\n",
       "      <td>0.299697</td>\n",
       "      <td>0.408707</td>\n",
       "      <td>0.396527</td>\n",
       "      <td>0.500773</td>\n",
       "    </tr>\n",
       "    <tr>\n",
       "      <th>4</th>\n",
       "      <td>0.173272</td>\n",
       "      <td>0.175046</td>\n",
       "      <td>0.059325</td>\n",
       "      <td>0.281230</td>\n",
       "      <td>0.268883</td>\n",
       "      <td>0.388977</td>\n",
       "      <td>0.341247</td>\n",
       "      <td>0.495163</td>\n",
       "    </tr>\n",
       "  </tbody>\n",
       "</table>\n",
       "</div>"
      ],
      "text/plain": [
       "   Naive Bayes  Logistic Regression  Random Forest      LSTM  BiD-LSTM  \\\n",
       "0     0.144550             0.176347       0.054467  0.285926  0.304871   \n",
       "1     0.150874             0.182737       0.046842  0.294829  0.241269   \n",
       "2     0.146190             0.160259       0.048774  0.295331  0.270839   \n",
       "3     0.136289             0.155363       0.048081  0.238717  0.299697   \n",
       "4     0.173272             0.175046       0.059325  0.281230  0.268883   \n",
       "\n",
       "   BiD-LSTM + Attn.  CNN-LSTM  Toehold LM  \n",
       "0          0.404347  0.330503    0.490896  \n",
       "1          0.417720  0.336747    0.501869  \n",
       "2          0.436249  0.338469    0.500985  \n",
       "3          0.408707  0.396527    0.500773  \n",
       "4          0.388977  0.341247    0.495163  "
      ]
     },
     "execution_count": 2,
     "metadata": {},
     "output_type": "execute_result"
    }
   ],
   "source": [
    "full_df = pd.read_csv('data/FigS7.csv')\n",
    "full_df"
   ]
  },
  {
   "cell_type": "code",
   "execution_count": 4,
   "metadata": {},
   "outputs": [
    {
     "name": "stdout",
     "output_type": "stream",
     "text": [
      "Ttest_indResult(statistic=-10.729331440181268, pvalue=5.006520777910345e-06)\n"
     ]
    }
   ],
   "source": [
    "print(sp.ttest_ind(full_df.loc[:,'BiD-LSTM + Attn.'], full_df.loc[:, 'Toehold LM']))"
   ]
  },
  {
   "cell_type": "code",
   "execution_count": null,
   "metadata": {},
   "outputs": [],
   "source": []
  }
 ],
 "metadata": {
  "kernelspec": {
   "display_name": "Python 3",
   "language": "python",
   "name": "python3"
  },
  "language_info": {
   "codemirror_mode": {
    "name": "ipython",
    "version": 3
   },
   "file_extension": ".py",
   "mimetype": "text/x-python",
   "name": "python",
   "nbconvert_exporter": "python",
   "pygments_lexer": "ipython3",
   "version": "3.8.3"
  }
 },
 "nbformat": 4,
 "nbformat_minor": 2
}
