{
 "cells": [
  {
   "cell_type": "code",
   "execution_count": 22,
   "metadata": {},
   "outputs": [],
   "source": [
    "# import statements \n",
    "import numpy as np\n",
    "import matplotlib.pyplot as plt\n",
    "import pandas as pd\n",
    "import tensorflow as tf\n",
    "from tensorflow.python.saved_model import tag_constants\n",
    "%matplotlib inline\n",
    "\n",
    "import keras as keras\n",
    "from keras.models import load_model\n",
    "\n",
    "from pysster.One_Hot_Encoder import One_Hot_Encoder\n",
    "from sklearn import preprocessing\n",
    "from keras.utils import to_categorical\n",
    "\n",
    "from keras import backend as K \n",
    "from scipy.stats import pearsonr, spearmanr "
   ]
  },
  {
   "cell_type": "markdown",
   "metadata": {},
   "source": [
    "# Part 1: Load in sequence data. "
   ]
  },
  {
   "cell_type": "code",
   "execution_count": 23,
   "metadata": {},
   "outputs": [
    {
     "name": "stdout",
     "output_type": "stream",
     "text": [
      "   Unnamed: 0  Toehold ID                                   Toehold sequence  \\\n",
      "0          11          68  AATGTATGTAATAGTTCGTCGAGGTGTCCAAGCAGAGGAGATGGAC...   \n",
      "1         117         110  ATGATAATGTAGAGGTGCGGAGTGATTGTAAACAGAGGAGATACAA...   \n",
      "2         108         100  CGAAGTATTGTAAGGTGTAGTGTGCGTTGAGACAGAGGAGATCAAC...   \n",
      "3         122         116  TAAGTAAATGAAAGTGTATGTATGTTGCTGGACAGAGGAGACAGCA...   \n",
      "4          17         117  TCAATAAGGCGGAGTTCGTCGAGGTGCCTGAGCAGAGGAGACAGGC...   \n",
      "\n",
      "                    Switch region                         Trigger  Avg ONOFF  \\\n",
      "0  AATGTATGTAATAGTTCGTCGAGGTGTCCA  TGGACACCTCGACGAACTATTACATACATT       24.8   \n",
      "1  ATGATAATGTAGAGGTGCGGAGTGATTGTA  TACAATCACTCCGCACCTCTACATTATCAT        9.7   \n",
      "2  CGAAGTATTGTAAGGTGTAGTGTGCGTTGA  TCAACGCACACTACACCTTACAATACTTCG       13.6   \n",
      "3  TAAGTAAATGAAAGTGTATGTATGTTGCTG  CAGCAACATACATACACTTTCATTTACTTA        8.7   \n",
      "4  TCAATAAGGCGGAGTTCGTCGAGGTGCCTG  CAGGCACCTCGACGAACTCCGCCTTATTGA        8.5   \n",
      "\n",
      "   sdev ONOFF Toehold Rating  \n",
      "0         2.2            Bad  \n",
      "1         1.1            Bad  \n",
      "2         1.5            Bad  \n",
      "3         1.1            Bad  \n",
      "4         1.4            Bad  \n"
     ]
    }
   ],
   "source": [
    "# Load in data\n",
    "data_dir = 'make_tf_learning_models/'\n",
    "sequence_file = 'Green2014_clean.csv' # data from Green et al 2014\n",
    "sequences = pd.read_csv(data_dir + sequence_file,sep=',')\n",
    "print(sequences.head(5))"
   ]
  },
  {
   "cell_type": "code",
   "execution_count": 24,
   "metadata": {},
   "outputs": [],
   "source": [
    "seqs = sequences['Toehold sequence']\n",
    "onoff_vals = sequences['Avg ONOFF'] # this is normalized ON value from Green et al 2014"
   ]
  },
  {
   "cell_type": "markdown",
   "metadata": {},
   "source": [
    "# Part 2. Transform Data. One-hot encode sequences and extact target on and off values."
   ]
  },
  {
   "cell_type": "code",
   "execution_count": 25,
   "metadata": {},
   "outputs": [
    {
     "name": "stdout",
     "output_type": "stream",
     "text": [
      "input shape:  (168, 59, 4)\n",
      "modified shape:  (168, 59, 4)\n"
     ]
    }
   ],
   "source": [
    "from pysster.One_Hot_Encoder import One_Hot_Encoder\n",
    "alph_letters = 'ATCG'\n",
    "alph = list(alph_letters)\n",
    "\n",
    "# one-hot encode\n",
    "one = One_Hot_Encoder(alph_letters)\n",
    "def _get_one_hot_encoding(seq):\n",
    "    one_hot_seq = one.encode(seq)                         \n",
    "    return one_hot_seq\n",
    "\n",
    "X = np.stack(\n",
    "    [_get_one_hot_encoding(s) for s in seqs]).astype(np.float32)\n",
    "nsamples, nx, ny = X.shape # have to flatten the one hot encoded into one dimension\n",
    "\n",
    "# reformat for CNN if needd\n",
    "print('input shape: ', X.shape)\n",
    "alph_len = len(alph)\n",
    "seq_len = len(seqs[0])\n",
    "X = X.reshape(X.shape[0], seq_len, alph_len).astype('float32')\n",
    "print('modified shape: ', X.shape)"
   ]
  },
  {
   "cell_type": "code",
   "execution_count": 26,
   "metadata": {},
   "outputs": [
    {
     "name": "stdout",
     "output_type": "stream",
     "text": [
      "target shape:  (168, 1)\n"
     ]
    }
   ],
   "source": [
    "# reshape target if needed\n",
    "y = np.array(onoff_vals)\n",
    "y = np.transpose(np.array([y]))\n",
    "print('target shape: ', y.shape)"
   ]
  },
  {
   "cell_type": "markdown",
   "metadata": {},
   "source": [
    "# Part 3. Load in original CNN model trained on Angenent-Mari et al. 2020 data."
   ]
  },
  {
   "cell_type": "code",
   "execution_count": 27,
   "metadata": {},
   "outputs": [],
   "source": [
    "model_dir = 'models/'\n",
    "final_model_path = model_dir + 'onoff_original_model.h5'\n",
    "final_weights_path = model_dir + 'onoff_original_model_weights.h5'\n",
    "model = load_model(final_model_path)\n",
    "model.load_weights(final_weights_path)"
   ]
  },
  {
   "cell_type": "code",
   "execution_count": 28,
   "metadata": {},
   "outputs": [],
   "source": [
    "predictions = model.predict(X)\n",
    "on_preds = predictions\n",
    "sequences['simple_onoff_original_kc_preds'] = np.reshape(on_preds, [len(seqs),])\n",
    "K.clear_session()"
   ]
  },
  {
   "cell_type": "markdown",
   "metadata": {},
   "source": [
    "# Part 4. Load in model trained on only Green et al. 2014 data."
   ]
  },
  {
   "cell_type": "code",
   "execution_count": 29,
   "metadata": {},
   "outputs": [],
   "source": [
    "final_model_path = model_dir + 'only_green_trained_model.h5'\n",
    "final_weights_path = model_dir + 'only_green_trained_model_weights.h5'\n",
    "model = load_model(final_model_path)\n",
    "model.load_weights(final_weights_path)"
   ]
  },
  {
   "cell_type": "code",
   "execution_count": 30,
   "metadata": {},
   "outputs": [],
   "source": [
    "predictions = model.predict(X)\n",
    "on_preds = predictions\n",
    "sequences['green_onoff_preds'] = np.reshape(on_preds, [len(seqs),])\n",
    "K.clear_session()"
   ]
  },
  {
   "cell_type": "markdown",
   "metadata": {},
   "source": [
    "# Part 5. Load in transfer learning model initialized with Angenent-Mari weights."
   ]
  },
  {
   "cell_type": "code",
   "execution_count": 31,
   "metadata": {},
   "outputs": [],
   "source": [
    "final_model_path = model_dir + 'initialization_weights_tf_onoff_model.h5'\n",
    "final_weights_path = model_dir + 'initialization_weights_tf_onoff_model_weights.h5'\n",
    "model = load_model(final_model_path)\n",
    "model.load_weights(final_weights_path)"
   ]
  },
  {
   "cell_type": "code",
   "execution_count": 32,
   "metadata": {},
   "outputs": [],
   "source": [
    "predictions = model.predict(X)\n",
    "on_preds = predictions\n",
    "sequences['weight_initialization_onoff_preds'] = np.reshape(on_preds, [len(seqs),])\n",
    "K.clear_session()"
   ]
  },
  {
   "cell_type": "markdown",
   "metadata": {},
   "source": [
    "# Part 6. Load in transfer learning model with Angenent-Mari weights frozen in the CNN layers."
   ]
  },
  {
   "cell_type": "code",
   "execution_count": 33,
   "metadata": {},
   "outputs": [],
   "source": [
    "final_model_path = model_dir + 'freeze_weights_tf_onoff_model.h5'\n",
    "final_weights_path = model_dir + 'freeze_weights_tf_onoff_model_weights.h5'\n",
    "model = load_model(final_model_path)\n",
    "model.load_weights(final_weights_path)"
   ]
  },
  {
   "cell_type": "code",
   "execution_count": 34,
   "metadata": {},
   "outputs": [],
   "source": [
    "predictions = model.predict(X)\n",
    "on_preds = predictions\n",
    "sequences['layer_freeze_onoff_preds'] = np.reshape(on_preds, [len(seqs),])"
   ]
  },
  {
   "cell_type": "markdown",
   "metadata": {},
   "source": [
    "# Part 7. Look at results"
   ]
  },
  {
   "cell_type": "code",
   "execution_count": 35,
   "metadata": {},
   "outputs": [
    {
     "data": {
      "text/html": [
       "<div>\n",
       "<style scoped>\n",
       "    .dataframe tbody tr th:only-of-type {\n",
       "        vertical-align: middle;\n",
       "    }\n",
       "\n",
       "    .dataframe tbody tr th {\n",
       "        vertical-align: top;\n",
       "    }\n",
       "\n",
       "    .dataframe thead th {\n",
       "        text-align: right;\n",
       "    }\n",
       "</style>\n",
       "<table border=\"1\" class=\"dataframe\">\n",
       "  <thead>\n",
       "    <tr style=\"text-align: right;\">\n",
       "      <th></th>\n",
       "      <th>Unnamed: 0</th>\n",
       "      <th>Toehold ID</th>\n",
       "      <th>Toehold sequence</th>\n",
       "      <th>Switch region</th>\n",
       "      <th>Trigger</th>\n",
       "      <th>Avg ONOFF</th>\n",
       "      <th>sdev ONOFF</th>\n",
       "      <th>Toehold Rating</th>\n",
       "      <th>simple_onoff_original_kc_preds</th>\n",
       "      <th>green_onoff_preds</th>\n",
       "      <th>weight_initialization_onoff_preds</th>\n",
       "      <th>layer_freeze_onoff_preds</th>\n",
       "    </tr>\n",
       "  </thead>\n",
       "  <tbody>\n",
       "    <tr>\n",
       "      <th>0</th>\n",
       "      <td>11</td>\n",
       "      <td>68</td>\n",
       "      <td>AATGTATGTAATAGTTCGTCGAGGTGTCCAAGCAGAGGAGATGGAC...</td>\n",
       "      <td>AATGTATGTAATAGTTCGTCGAGGTGTCCA</td>\n",
       "      <td>TGGACACCTCGACGAACTATTACATACATT</td>\n",
       "      <td>24.8</td>\n",
       "      <td>2.2</td>\n",
       "      <td>Bad</td>\n",
       "      <td>0.241781</td>\n",
       "      <td>0.018677</td>\n",
       "      <td>0.103607</td>\n",
       "      <td>0.049510</td>\n",
       "    </tr>\n",
       "    <tr>\n",
       "      <th>1</th>\n",
       "      <td>117</td>\n",
       "      <td>110</td>\n",
       "      <td>ATGATAATGTAGAGGTGCGGAGTGATTGTAAACAGAGGAGATACAA...</td>\n",
       "      <td>ATGATAATGTAGAGGTGCGGAGTGATTGTA</td>\n",
       "      <td>TACAATCACTCCGCACCTCTACATTATCAT</td>\n",
       "      <td>9.7</td>\n",
       "      <td>1.1</td>\n",
       "      <td>Bad</td>\n",
       "      <td>0.105242</td>\n",
       "      <td>0.060443</td>\n",
       "      <td>0.144504</td>\n",
       "      <td>0.092114</td>\n",
       "    </tr>\n",
       "    <tr>\n",
       "      <th>2</th>\n",
       "      <td>108</td>\n",
       "      <td>100</td>\n",
       "      <td>CGAAGTATTGTAAGGTGTAGTGTGCGTTGAGACAGAGGAGATCAAC...</td>\n",
       "      <td>CGAAGTATTGTAAGGTGTAGTGTGCGTTGA</td>\n",
       "      <td>TCAACGCACACTACACCTTACAATACTTCG</td>\n",
       "      <td>13.6</td>\n",
       "      <td>1.5</td>\n",
       "      <td>Bad</td>\n",
       "      <td>0.494880</td>\n",
       "      <td>-0.024859</td>\n",
       "      <td>0.099984</td>\n",
       "      <td>0.068302</td>\n",
       "    </tr>\n",
       "    <tr>\n",
       "      <th>3</th>\n",
       "      <td>122</td>\n",
       "      <td>116</td>\n",
       "      <td>TAAGTAAATGAAAGTGTATGTATGTTGCTGGACAGAGGAGACAGCA...</td>\n",
       "      <td>TAAGTAAATGAAAGTGTATGTATGTTGCTG</td>\n",
       "      <td>CAGCAACATACATACACTTTCATTTACTTA</td>\n",
       "      <td>8.7</td>\n",
       "      <td>1.1</td>\n",
       "      <td>Bad</td>\n",
       "      <td>0.404838</td>\n",
       "      <td>-0.003045</td>\n",
       "      <td>0.109763</td>\n",
       "      <td>0.033609</td>\n",
       "    </tr>\n",
       "    <tr>\n",
       "      <th>4</th>\n",
       "      <td>17</td>\n",
       "      <td>117</td>\n",
       "      <td>TCAATAAGGCGGAGTTCGTCGAGGTGCCTGAGCAGAGGAGACAGGC...</td>\n",
       "      <td>TCAATAAGGCGGAGTTCGTCGAGGTGCCTG</td>\n",
       "      <td>CAGGCACCTCGACGAACTCCGCCTTATTGA</td>\n",
       "      <td>8.5</td>\n",
       "      <td>1.4</td>\n",
       "      <td>Bad</td>\n",
       "      <td>0.695428</td>\n",
       "      <td>-0.005056</td>\n",
       "      <td>0.065643</td>\n",
       "      <td>0.029860</td>\n",
       "    </tr>\n",
       "  </tbody>\n",
       "</table>\n",
       "</div>"
      ],
      "text/plain": [
       "   Unnamed: 0  Toehold ID                                   Toehold sequence  \\\n",
       "0          11          68  AATGTATGTAATAGTTCGTCGAGGTGTCCAAGCAGAGGAGATGGAC...   \n",
       "1         117         110  ATGATAATGTAGAGGTGCGGAGTGATTGTAAACAGAGGAGATACAA...   \n",
       "2         108         100  CGAAGTATTGTAAGGTGTAGTGTGCGTTGAGACAGAGGAGATCAAC...   \n",
       "3         122         116  TAAGTAAATGAAAGTGTATGTATGTTGCTGGACAGAGGAGACAGCA...   \n",
       "4          17         117  TCAATAAGGCGGAGTTCGTCGAGGTGCCTGAGCAGAGGAGACAGGC...   \n",
       "\n",
       "                    Switch region                         Trigger  Avg ONOFF  \\\n",
       "0  AATGTATGTAATAGTTCGTCGAGGTGTCCA  TGGACACCTCGACGAACTATTACATACATT       24.8   \n",
       "1  ATGATAATGTAGAGGTGCGGAGTGATTGTA  TACAATCACTCCGCACCTCTACATTATCAT        9.7   \n",
       "2  CGAAGTATTGTAAGGTGTAGTGTGCGTTGA  TCAACGCACACTACACCTTACAATACTTCG       13.6   \n",
       "3  TAAGTAAATGAAAGTGTATGTATGTTGCTG  CAGCAACATACATACACTTTCATTTACTTA        8.7   \n",
       "4  TCAATAAGGCGGAGTTCGTCGAGGTGCCTG  CAGGCACCTCGACGAACTCCGCCTTATTGA        8.5   \n",
       "\n",
       "   sdev ONOFF Toehold Rating  simple_onoff_original_kc_preds  \\\n",
       "0         2.2            Bad                        0.241781   \n",
       "1         1.1            Bad                        0.105242   \n",
       "2         1.5            Bad                        0.494880   \n",
       "3         1.1            Bad                        0.404838   \n",
       "4         1.4            Bad                        0.695428   \n",
       "\n",
       "   green_onoff_preds  weight_initialization_onoff_preds  \\\n",
       "0           0.018677                           0.103607   \n",
       "1           0.060443                           0.144504   \n",
       "2          -0.024859                           0.099984   \n",
       "3          -0.003045                           0.109763   \n",
       "4          -0.005056                           0.065643   \n",
       "\n",
       "   layer_freeze_onoff_preds  \n",
       "0                  0.049510  \n",
       "1                  0.092114  \n",
       "2                  0.068302  \n",
       "3                  0.033609  \n",
       "4                  0.029860  "
      ]
     },
     "execution_count": 35,
     "metadata": {},
     "output_type": "execute_result"
    }
   ],
   "source": [
    "sequences.head(5)"
   ]
  },
  {
   "cell_type": "code",
   "execution_count": 36,
   "metadata": {},
   "outputs": [],
   "source": [
    "def r2(preds_y, true_y):\n",
    "    return pearsonr(preds_y, true_y)[0] ** 2\n",
    "\n",
    "def compute_metrics(preds_y, true_y): \n",
    "    r2_score = r2(preds_y, true_y)\n",
    "\n",
    "    pearson_corr = pearsonr(preds_y, true_y)[0]\n",
    "    spearman_corr = spearmanr(preds_y, true_y)[0]\n",
    "    print('R2: ', r2_score)\n",
    "    print('Pearson: ', pearson_corr)\n",
    "    print('Spearman: ', spearman_corr)\n",
    "    return[r2_score, pearson_corr, spearman_corr]"
   ]
  },
  {
   "cell_type": "code",
   "execution_count": 40,
   "metadata": {},
   "outputs": [
    {
     "name": "stdout",
     "output_type": "stream",
     "text": [
      "R2:  0.00018705497816400357\n",
      "Pearson:  -0.013676804384212109\n",
      "Spearman:  -0.03460180027775038\n",
      "R2:  0.7275583582304104\n",
      "Pearson:  0.8529703149760901\n",
      "Spearman:  0.6877042949764046\n",
      "R2:  0.3606370845251086\n",
      "Pearson:  0.6005306690961825\n",
      "Spearman:  0.4979948599020488\n",
      "R2:  0.594702915739662\n",
      "Pearson:  0.7711698358595609\n",
      "Spearman:  0.6386292916932552\n"
     ]
    }
   ],
   "source": [
    "onoff_vals = np.array(sequences['Avg ONOFF'])\n",
    "onoff_vals = preprocessing.MinMaxScaler().fit_transform(onoff_vals.reshape(-1, 1))\n",
    "onoff_vals = onoff_vals.flatten()\n",
    "\n",
    "onoff_original_metrics = compute_metrics(sequences['simple_onoff_original_kc_preds'], onoff_vals)\n",
    "green_metrics = compute_metrics(sequences['green_onoff_preds'], onoff_vals)\n",
    "tf_init_metrics = compute_metrics(sequences['weight_initialization_onoff_preds'], onoff_vals)\n",
    "tf_weight_mettrics = compute_metrics(sequences['layer_freeze_onoff_preds'], onoff_vals)"
   ]
  },
  {
   "cell_type": "code",
   "execution_count": 38,
   "metadata": {},
   "outputs": [
    {
     "data": {
      "text/html": [
       "<div>\n",
       "<style scoped>\n",
       "    .dataframe tbody tr th:only-of-type {\n",
       "        vertical-align: middle;\n",
       "    }\n",
       "\n",
       "    .dataframe tbody tr th {\n",
       "        vertical-align: top;\n",
       "    }\n",
       "\n",
       "    .dataframe thead th {\n",
       "        text-align: right;\n",
       "    }\n",
       "</style>\n",
       "<table border=\"1\" class=\"dataframe\">\n",
       "  <thead>\n",
       "    <tr style=\"text-align: right;\">\n",
       "      <th></th>\n",
       "      <th>r2</th>\n",
       "      <th>pearson</th>\n",
       "      <th>spearman</th>\n",
       "      <th>model</th>\n",
       "    </tr>\n",
       "  </thead>\n",
       "  <tbody>\n",
       "    <tr>\n",
       "      <th>0</th>\n",
       "      <td>0.000187</td>\n",
       "      <td>-0.013677</td>\n",
       "      <td>-0.034602</td>\n",
       "      <td>onoff_original</td>\n",
       "    </tr>\n",
       "    <tr>\n",
       "      <th>1</th>\n",
       "      <td>0.727558</td>\n",
       "      <td>0.852970</td>\n",
       "      <td>0.687704</td>\n",
       "      <td>just_green</td>\n",
       "    </tr>\n",
       "    <tr>\n",
       "      <th>2</th>\n",
       "      <td>0.360637</td>\n",
       "      <td>0.600531</td>\n",
       "      <td>0.497995</td>\n",
       "      <td>tf_initialization</td>\n",
       "    </tr>\n",
       "    <tr>\n",
       "      <th>3</th>\n",
       "      <td>0.594703</td>\n",
       "      <td>0.771170</td>\n",
       "      <td>0.638629</td>\n",
       "      <td>tf_freeze_weights</td>\n",
       "    </tr>\n",
       "  </tbody>\n",
       "</table>\n",
       "</div>"
      ],
      "text/plain": [
       "         r2   pearson  spearman              model\n",
       "0  0.000187 -0.013677 -0.034602     onoff_original\n",
       "1  0.727558  0.852970  0.687704         just_green\n",
       "2  0.360637  0.600531  0.497995  tf_initialization\n",
       "3  0.594703  0.771170  0.638629  tf_freeze_weights"
      ]
     },
     "execution_count": 38,
     "metadata": {},
     "output_type": "execute_result"
    }
   ],
   "source": [
    "tf_matrix = pd.DataFrame([onoff_original_metrics, green_metrics, tf_init_metrics, tf_weight_mettrics])\n",
    "tf_matrix.columns = ['r2', 'pearson', 'spearman']\n",
    "tf_matrix['model'] = ['onoff_original', 'just_green', 'tf_initialization', 'tf_freeze_weights']\n",
    "tf_matrix"
   ]
  },
  {
   "cell_type": "code",
   "execution_count": 41,
   "metadata": {},
   "outputs": [],
   "source": [
    "out_dir = 'data/'\n",
    "tf_matrix.to_csv(out_dir + '4b_tf_learning_metrics.csv')"
   ]
  },
  {
   "cell_type": "code",
   "execution_count": null,
   "metadata": {},
   "outputs": [],
   "source": []
  }
 ],
 "metadata": {
  "kernelspec": {
   "display_name": "Python 3",
   "language": "python",
   "name": "python3"
  },
  "language_info": {
   "codemirror_mode": {
    "name": "ipython",
    "version": 3
   },
   "file_extension": ".py",
   "mimetype": "text/x-python",
   "name": "python",
   "nbconvert_exporter": "python",
   "pygments_lexer": "ipython3",
   "version": "3.7.1"
  }
 },
 "nbformat": 4,
 "nbformat_minor": 2
}
