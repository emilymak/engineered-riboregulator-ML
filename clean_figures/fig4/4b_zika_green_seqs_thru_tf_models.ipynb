{
 "cells": [
  {
   "cell_type": "code",
   "execution_count": 1,
   "metadata": {},
   "outputs": [
    {
     "name": "stderr",
     "output_type": "stream",
     "text": [
      "Using TensorFlow backend.\n"
     ]
    }
   ],
   "source": [
    "# import statements \n",
    "import numpy as np\n",
    "import matplotlib.pyplot as plt\n",
    "import pandas as pd\n",
    "import tensorflow as tf\n",
    "from tensorflow.python.saved_model import tag_constants\n",
    "%matplotlib inline\n",
    "\n",
    "#import keras as keras\n",
    "from tensorflow.python import keras\n",
    "from keras.models import load_model\n",
    "\n",
    "from pysster.One_Hot_Encoder import One_Hot_Encoder\n",
    "from sklearn import preprocessing\n",
    "from keras.utils import to_categorical\n",
    "\n",
    "from keras import backend as K \n",
    "from scipy.stats import pearsonr, spearmanr "
   ]
  },
  {
   "cell_type": "markdown",
   "metadata": {},
   "source": [
    "# Part 1: Load in sequence data. \n",
    "## Change file_name here!"
   ]
  },
  {
   "cell_type": "code",
   "execution_count": 2,
   "metadata": {},
   "outputs": [
    {
     "name": "stdout",
     "output_type": "stream",
     "text": [
      "  Sensor Name                                    Sensor sequence  Rank\n",
      "0          1A  UCUUCAGCCUCCAUGUGUCAUUCUUCUCACUCUCAAGUUAUAGUUA...     6\n",
      "1          2A  AAAUUCCCCUUGUUUCUUUUCUCUUUUUCCCAUCAUGUUAUAGUUA...    14\n",
      "2          3A  UUUCGCUCUAUUCUCAUCAGUUUCAUGUCCUGUGUCGUUAUAGUUA...     8\n",
      "3          4A  GCUCCCCUUCUACUGAUCUCCACAUGAUGUUUUCCAGUUAUAGUUA...     5\n",
      "4          5A  AACUUCUUUAUUAUUUCCAUAGCCUCUUUUUUCCCCGUUAUAGUUA...    23\n"
     ]
    }
   ],
   "source": [
    "# Load in data\n",
    "data_dir = 'make_tf_learning_models/'\n",
    "sequence_file = 'Pardee2016_clean.xlsx'\n",
    "sequences = pd.read_excel(data_dir + sequence_file)\n",
    "print(sequences.head(5))"
   ]
  },
  {
   "cell_type": "code",
   "execution_count": 3,
   "metadata": {},
   "outputs": [],
   "source": [
    "seqs = sequences['Sensor sequence']\n",
    "ranks = sequences['Rank']"
   ]
  },
  {
   "cell_type": "code",
   "execution_count": 4,
   "metadata": {},
   "outputs": [],
   "source": [
    "seqs = [x[18:77] for x in seqs] # need to trim off extraneous bits"
   ]
  },
  {
   "cell_type": "markdown",
   "metadata": {},
   "source": [
    "# Part 2. Transform Data. One-hot encode sequences and extact target on and off values."
   ]
  },
  {
   "cell_type": "code",
   "execution_count": 5,
   "metadata": {},
   "outputs": [
    {
     "name": "stdout",
     "output_type": "stream",
     "text": [
      "input shape:  (24, 59, 4)\n",
      "modified shape:  (24, 59, 4)\n"
     ]
    }
   ],
   "source": [
    "from pysster.One_Hot_Encoder import One_Hot_Encoder\n",
    "alph_letters = 'AUCG'\n",
    "alph = list(alph_letters)\n",
    "\n",
    "# one-hot encode\n",
    "# modified code from Luis to get correct format for TPOT w/ our nt seq\n",
    "# use pysster (very fast and simple encoding)  \n",
    "one = One_Hot_Encoder(alph_letters)\n",
    "def _get_one_hot_encoding(seq):\n",
    "    one_hot_seq = one.encode(seq)                         \n",
    "    return one_hot_seq\n",
    "\n",
    "X = np.stack(\n",
    "    [_get_one_hot_encoding(s) for s in seqs]).astype(np.float32)\n",
    "nsamples, nx, ny = X.shape # have to flatten the one hot encoded into one dimension\n",
    "\n",
    "print('input shape: ', X.shape)\n",
    "# reformat for CNN \n",
    "alph_len = len(alph)\n",
    "seq_len = len(seqs[0])\n",
    "X = X.reshape(X.shape[0], seq_len, alph_len).astype('float32')\n",
    "print('modified shape: ', X.shape)"
   ]
  },
  {
   "cell_type": "code",
   "execution_count": 6,
   "metadata": {},
   "outputs": [],
   "source": [
    "#y = np.array(onoff_vals)\n",
    "\n",
    "# reshape\n",
    "#y = np.transpose(np.array([y]))\n",
    "#print('target shape: ', y.shape)"
   ]
  },
  {
   "cell_type": "markdown",
   "metadata": {},
   "source": [
    "# Part 3. Load in original KC onoff model. "
   ]
  },
  {
   "cell_type": "code",
   "execution_count": 7,
   "metadata": {},
   "outputs": [
    {
     "name": "stdout",
     "output_type": "stream",
     "text": [
      "WARNING:tensorflow:From /anaconda2/envs/clean_toehold_venv/lib/python3.7/site-packages/keras/backend/tensorflow_backend.py:541: The name tf.placeholder is deprecated. Please use tf.compat.v1.placeholder instead.\n",
      "\n",
      "WARNING:tensorflow:From /anaconda2/envs/clean_toehold_venv/lib/python3.7/site-packages/keras/backend/tensorflow_backend.py:4432: The name tf.random_uniform is deprecated. Please use tf.random.uniform instead.\n",
      "\n",
      "WARNING:tensorflow:From /anaconda2/envs/clean_toehold_venv/lib/python3.7/site-packages/keras/backend/tensorflow_backend.py:66: The name tf.get_default_graph is deprecated. Please use tf.compat.v1.get_default_graph instead.\n",
      "\n",
      "WARNING:tensorflow:From /anaconda2/envs/clean_toehold_venv/lib/python3.7/site-packages/keras/backend/tensorflow_backend.py:148: The name tf.placeholder_with_default is deprecated. Please use tf.compat.v1.placeholder_with_default instead.\n",
      "\n",
      "WARNING:tensorflow:From /anaconda2/envs/clean_toehold_venv/lib/python3.7/site-packages/keras/backend/tensorflow_backend.py:3733: calling dropout (from tensorflow.python.ops.nn_ops) with keep_prob is deprecated and will be removed in a future version.\n",
      "Instructions for updating:\n",
      "Please use `rate` instead of `keep_prob`. Rate should be set to `rate = 1 - keep_prob`.\n",
      "WARNING:tensorflow:From /anaconda2/envs/clean_toehold_venv/lib/python3.7/site-packages/keras/backend/tensorflow_backend.py:190: The name tf.get_default_session is deprecated. Please use tf.compat.v1.get_default_session instead.\n",
      "\n",
      "WARNING:tensorflow:From /anaconda2/envs/clean_toehold_venv/lib/python3.7/site-packages/keras/backend/tensorflow_backend.py:197: The name tf.ConfigProto is deprecated. Please use tf.compat.v1.ConfigProto instead.\n",
      "\n",
      "WARNING:tensorflow:From /anaconda2/envs/clean_toehold_venv/lib/python3.7/site-packages/keras/backend/tensorflow_backend.py:203: The name tf.Session is deprecated. Please use tf.compat.v1.Session instead.\n",
      "\n",
      "WARNING:tensorflow:From /anaconda2/envs/clean_toehold_venv/lib/python3.7/site-packages/keras/backend/tensorflow_backend.py:207: The name tf.global_variables is deprecated. Please use tf.compat.v1.global_variables instead.\n",
      "\n",
      "WARNING:tensorflow:From /anaconda2/envs/clean_toehold_venv/lib/python3.7/site-packages/keras/backend/tensorflow_backend.py:216: The name tf.is_variable_initialized is deprecated. Please use tf.compat.v1.is_variable_initialized instead.\n",
      "\n",
      "WARNING:tensorflow:From /anaconda2/envs/clean_toehold_venv/lib/python3.7/site-packages/keras/backend/tensorflow_backend.py:223: The name tf.variables_initializer is deprecated. Please use tf.compat.v1.variables_initializer instead.\n",
      "\n",
      "WARNING:tensorflow:From /anaconda2/envs/clean_toehold_venv/lib/python3.7/site-packages/keras/optimizers.py:793: The name tf.train.Optimizer is deprecated. Please use tf.compat.v1.train.Optimizer instead.\n",
      "\n",
      "WARNING:tensorflow:From /anaconda2/envs/clean_toehold_venv/lib/python3.7/site-packages/keras/backend/tensorflow_backend.py:1033: The name tf.assign_add is deprecated. Please use tf.compat.v1.assign_add instead.\n",
      "\n",
      "WARNING:tensorflow:From /anaconda2/envs/clean_toehold_venv/lib/python3.7/site-packages/keras/backend/tensorflow_backend.py:1020: The name tf.assign is deprecated. Please use tf.compat.v1.assign instead.\n",
      "\n"
     ]
    }
   ],
   "source": [
    "model_dir = 'models/'\n",
    "final_model_path = model_dir + 'onoff_original_model.h5'\n",
    "final_weights_path = model_dir + 'onoff_original_model_weights.h5'\n",
    "model = load_model(final_model_path)\n",
    "model.load_weights(final_weights_path)"
   ]
  },
  {
   "cell_type": "code",
   "execution_count": 8,
   "metadata": {},
   "outputs": [
    {
     "name": "stdout",
     "output_type": "stream",
     "text": [
      "WARNING:tensorflow:From /anaconda2/envs/clean_toehold_venv/lib/python3.7/site-packages/keras/backend/tensorflow_backend.py:107: The name tf.reset_default_graph is deprecated. Please use tf.compat.v1.reset_default_graph instead.\n",
      "\n"
     ]
    }
   ],
   "source": [
    "predictions = model.predict(X)\n",
    "on_preds = predictions\n",
    "sequences['simple_onoff_original_kc_preds'] = np.reshape(on_preds, [len(seqs),])\n",
    "K.clear_session()"
   ]
  },
  {
   "cell_type": "markdown",
   "metadata": {},
   "source": [
    "# Part 4. Load in model from purely Green seqs"
   ]
  },
  {
   "cell_type": "code",
   "execution_count": 9,
   "metadata": {},
   "outputs": [],
   "source": [
    "final_model_path = model_dir + 'only_green_trained_model.h5'\n",
    "final_weights_path = model_dir + 'only_green_trained_model_weights.h5'\n",
    "model = load_model(final_model_path)\n",
    "model.load_weights(final_weights_path)"
   ]
  },
  {
   "cell_type": "code",
   "execution_count": 10,
   "metadata": {},
   "outputs": [],
   "source": [
    "predictions = model.predict(X)\n",
    "on_preds = predictions\n",
    "sequences['green_onoff_preds'] = np.reshape(on_preds, [len(seqs),])\n",
    "K.clear_session()"
   ]
  },
  {
   "cell_type": "markdown",
   "metadata": {},
   "source": [
    "# Part 5. Load in tf model with initialization"
   ]
  },
  {
   "cell_type": "code",
   "execution_count": 11,
   "metadata": {},
   "outputs": [],
   "source": [
    "final_model_path = model_dir + 'initialization_weights_tf_onoff_model.h5'\n",
    "final_weights_path = model_dir + 'initialization_weights_tf_onoff_model_weights.h5'\n",
    "model = load_model(final_model_path)\n",
    "model.load_weights(final_weights_path)"
   ]
  },
  {
   "cell_type": "code",
   "execution_count": 12,
   "metadata": {},
   "outputs": [],
   "source": [
    "predictions = model.predict(X)\n",
    "on_preds = predictions\n",
    "sequences['weight_initialization_onoff_preds'] = np.reshape(on_preds, [len(seqs),])\n",
    "K.clear_session()"
   ]
  },
  {
   "cell_type": "markdown",
   "metadata": {},
   "source": [
    "# Part 6. Load in tf model with weight freezing"
   ]
  },
  {
   "cell_type": "code",
   "execution_count": 13,
   "metadata": {},
   "outputs": [],
   "source": [
    "final_model_path = model_dir + 'freeze_weights_tf_onoff_model.h5'\n",
    "final_weights_path = model_dir + 'freeze_weights_tf_onoff_model_weights.h5'\n",
    "model = load_model(final_model_path)\n",
    "model.load_weights(final_weights_path)"
   ]
  },
  {
   "cell_type": "code",
   "execution_count": 14,
   "metadata": {},
   "outputs": [],
   "source": [
    "predictions = model.predict(X)\n",
    "on_preds = predictions\n",
    "sequences['layer_freeze_onoff_preds'] = np.reshape(on_preds, [len(seqs),])"
   ]
  },
  {
   "cell_type": "markdown",
   "metadata": {},
   "source": [
    "# Part 7. Look at results"
   ]
  },
  {
   "cell_type": "code",
   "execution_count": 15,
   "metadata": {},
   "outputs": [
    {
     "data": {
      "text/html": [
       "<div>\n",
       "<style scoped>\n",
       "    .dataframe tbody tr th:only-of-type {\n",
       "        vertical-align: middle;\n",
       "    }\n",
       "\n",
       "    .dataframe tbody tr th {\n",
       "        vertical-align: top;\n",
       "    }\n",
       "\n",
       "    .dataframe thead th {\n",
       "        text-align: right;\n",
       "    }\n",
       "</style>\n",
       "<table border=\"1\" class=\"dataframe\">\n",
       "  <thead>\n",
       "    <tr style=\"text-align: right;\">\n",
       "      <th></th>\n",
       "      <th>Sensor Name</th>\n",
       "      <th>Sensor sequence</th>\n",
       "      <th>Rank</th>\n",
       "      <th>simple_onoff_original_kc_preds</th>\n",
       "      <th>green_onoff_preds</th>\n",
       "      <th>weight_initialization_onoff_preds</th>\n",
       "      <th>layer_freeze_onoff_preds</th>\n",
       "    </tr>\n",
       "  </thead>\n",
       "  <tbody>\n",
       "    <tr>\n",
       "      <th>0</th>\n",
       "      <td>1A</td>\n",
       "      <td>UCUUCAGCCUCCAUGUGUCAUUCUUCUCACUCUCAAGUUAUAGUUA...</td>\n",
       "      <td>6</td>\n",
       "      <td>0.423123</td>\n",
       "      <td>0.048257</td>\n",
       "      <td>0.142335</td>\n",
       "      <td>0.139655</td>\n",
       "    </tr>\n",
       "    <tr>\n",
       "      <th>1</th>\n",
       "      <td>2A</td>\n",
       "      <td>AAAUUCCCCUUGUUUCUUUUCUCUUUUUCCCAUCAUGUUAUAGUUA...</td>\n",
       "      <td>14</td>\n",
       "      <td>0.556059</td>\n",
       "      <td>0.218116</td>\n",
       "      <td>0.129653</td>\n",
       "      <td>0.057840</td>\n",
       "    </tr>\n",
       "    <tr>\n",
       "      <th>2</th>\n",
       "      <td>3A</td>\n",
       "      <td>UUUCGCUCUAUUCUCAUCAGUUUCAUGUCCUGUGUCGUUAUAGUUA...</td>\n",
       "      <td>8</td>\n",
       "      <td>0.401909</td>\n",
       "      <td>0.203600</td>\n",
       "      <td>0.151441</td>\n",
       "      <td>0.080758</td>\n",
       "    </tr>\n",
       "    <tr>\n",
       "      <th>3</th>\n",
       "      <td>4A</td>\n",
       "      <td>GCUCCCCUUCUACUGAUCUCCACAUGAUGUUUUCCAGUUAUAGUUA...</td>\n",
       "      <td>5</td>\n",
       "      <td>0.440283</td>\n",
       "      <td>0.187361</td>\n",
       "      <td>0.150465</td>\n",
       "      <td>0.082119</td>\n",
       "    </tr>\n",
       "    <tr>\n",
       "      <th>4</th>\n",
       "      <td>5A</td>\n",
       "      <td>AACUUCUUUAUUAUUUCCAUAGCCUCUUUUUUCCCCGUUAUAGUUA...</td>\n",
       "      <td>23</td>\n",
       "      <td>0.145280</td>\n",
       "      <td>0.133098</td>\n",
       "      <td>0.173248</td>\n",
       "      <td>0.036084</td>\n",
       "    </tr>\n",
       "  </tbody>\n",
       "</table>\n",
       "</div>"
      ],
      "text/plain": [
       "  Sensor Name                                    Sensor sequence  Rank  \\\n",
       "0          1A  UCUUCAGCCUCCAUGUGUCAUUCUUCUCACUCUCAAGUUAUAGUUA...     6   \n",
       "1          2A  AAAUUCCCCUUGUUUCUUUUCUCUUUUUCCCAUCAUGUUAUAGUUA...    14   \n",
       "2          3A  UUUCGCUCUAUUCUCAUCAGUUUCAUGUCCUGUGUCGUUAUAGUUA...     8   \n",
       "3          4A  GCUCCCCUUCUACUGAUCUCCACAUGAUGUUUUCCAGUUAUAGUUA...     5   \n",
       "4          5A  AACUUCUUUAUUAUUUCCAUAGCCUCUUUUUUCCCCGUUAUAGUUA...    23   \n",
       "\n",
       "   simple_onoff_original_kc_preds  green_onoff_preds  \\\n",
       "0                        0.423123           0.048257   \n",
       "1                        0.556059           0.218116   \n",
       "2                        0.401909           0.203600   \n",
       "3                        0.440283           0.187361   \n",
       "4                        0.145280           0.133098   \n",
       "\n",
       "   weight_initialization_onoff_preds  layer_freeze_onoff_preds  \n",
       "0                           0.142335                  0.139655  \n",
       "1                           0.129653                  0.057840  \n",
       "2                           0.151441                  0.080758  \n",
       "3                           0.150465                  0.082119  \n",
       "4                           0.173248                  0.036084  "
      ]
     },
     "execution_count": 15,
     "metadata": {},
     "output_type": "execute_result"
    }
   ],
   "source": [
    "sequences.head(5)"
   ]
  },
  {
   "cell_type": "code",
   "execution_count": 16,
   "metadata": {},
   "outputs": [],
   "source": [
    "def r2(preds_y, true_y):\n",
    "    return pearsonr(preds_y, true_y)[0] ** 2\n",
    "\n",
    "def compute_metrics(preds_y, true_y): \n",
    "    # calc spearman with the ranks : https://cmdlinetips.com/2019/08/how-to-compute-pearson-and-spearman-correlation-in-python/\n",
    "    spearman_corr = np.corrcoef(preds_y.rank(), true_y)[0]\n",
    "    return spearman_corr[1]"
   ]
  },
  {
   "cell_type": "code",
   "execution_count": 17,
   "metadata": {},
   "outputs": [
    {
     "name": "stdout",
     "output_type": "stream",
     "text": [
      "-0.01826086956521739\n",
      "-0.0608695652173913\n",
      "0.021739130434782605\n",
      "0.20173913043478262\n"
     ]
    }
   ],
   "source": [
    "ranks = [(25 - x) for x in ranks]\n",
    "onoff_vals = np.array(ranks)\n",
    "\n",
    "onoff_original_metrics = compute_metrics(sequences['simple_onoff_original_kc_preds'], onoff_vals)\n",
    "print(onoff_original_metrics)\n",
    "\n",
    "green_metrics = compute_metrics(sequences['green_onoff_preds'], onoff_vals)\n",
    "print(green_metrics)\n",
    "\n",
    "tf_init_metrics = compute_metrics(sequences['weight_initialization_onoff_preds'], onoff_vals)\n",
    "print(tf_init_metrics)\n",
    "\n",
    "tf_weight_mettrics = compute_metrics(sequences['layer_freeze_onoff_preds'], onoff_vals)\n",
    "print(tf_weight_mettrics)\n"
   ]
  },
  {
   "cell_type": "code",
   "execution_count": 18,
   "metadata": {},
   "outputs": [
    {
     "data": {
      "text/html": [
       "<div>\n",
       "<style scoped>\n",
       "    .dataframe tbody tr th:only-of-type {\n",
       "        vertical-align: middle;\n",
       "    }\n",
       "\n",
       "    .dataframe tbody tr th {\n",
       "        vertical-align: top;\n",
       "    }\n",
       "\n",
       "    .dataframe thead th {\n",
       "        text-align: right;\n",
       "    }\n",
       "</style>\n",
       "<table border=\"1\" class=\"dataframe\">\n",
       "  <thead>\n",
       "    <tr style=\"text-align: right;\">\n",
       "      <th></th>\n",
       "      <th>spearman</th>\n",
       "      <th>model</th>\n",
       "    </tr>\n",
       "  </thead>\n",
       "  <tbody>\n",
       "    <tr>\n",
       "      <th>0</th>\n",
       "      <td>-0.018261</td>\n",
       "      <td>onoff_original</td>\n",
       "    </tr>\n",
       "    <tr>\n",
       "      <th>1</th>\n",
       "      <td>-0.060870</td>\n",
       "      <td>just_green</td>\n",
       "    </tr>\n",
       "    <tr>\n",
       "      <th>2</th>\n",
       "      <td>0.021739</td>\n",
       "      <td>tf_initialization</td>\n",
       "    </tr>\n",
       "    <tr>\n",
       "      <th>3</th>\n",
       "      <td>0.201739</td>\n",
       "      <td>tf_freeze_weights</td>\n",
       "    </tr>\n",
       "  </tbody>\n",
       "</table>\n",
       "</div>"
      ],
      "text/plain": [
       "   spearman              model\n",
       "0 -0.018261     onoff_original\n",
       "1 -0.060870         just_green\n",
       "2  0.021739  tf_initialization\n",
       "3  0.201739  tf_freeze_weights"
      ]
     },
     "execution_count": 18,
     "metadata": {},
     "output_type": "execute_result"
    }
   ],
   "source": [
    "tf_matrix = pd.DataFrame([onoff_original_metrics, green_metrics, tf_init_metrics, tf_weight_mettrics])\n",
    "tf_matrix.columns = ['spearman']\n",
    "tf_matrix['model'] = ['onoff_original', 'just_green', 'tf_initialization', 'tf_freeze_weights']\n",
    "tf_matrix"
   ]
  },
  {
   "cell_type": "code",
   "execution_count": 19,
   "metadata": {},
   "outputs": [],
   "source": [
    "out_dir = 'cleaned_csvs/'\n",
    "tf_matrix.to_csv(out_dir + '4b_zika_tf_learning_metrics.csv')"
   ]
  },
  {
   "cell_type": "markdown",
   "metadata": {},
   "source": [
    "# Part 8: Make sure no overlap between these zika seqs and the ones used by the model"
   ]
  },
  {
   "cell_type": "code",
   "execution_count": 20,
   "metadata": {},
   "outputs": [],
   "source": [
    "# load in original data\n",
    "data_dir = '../../data/'\n",
    "# diff sheets, so need to read i/n \n",
    "file_name = 'newQC_toehold_data.csv'\n",
    "data_df = pd.read_csv(data_dir + file_name,sep=',')\n",
    "toeholds = list(data_df.loc[:, 'switch_sequence'])"
   ]
  },
  {
   "cell_type": "code",
   "execution_count": 21,
   "metadata": {},
   "outputs": [
    {
     "name": "stdout",
     "output_type": "stream",
     "text": [
      "seq is in original model data: False\n",
      "seq is in original model data: False\n",
      "seq is in original model data: False\n",
      "seq is in original model data: False\n",
      "seq is in original model data: False\n",
      "seq is in original model data: False\n",
      "seq is in original model data: False\n",
      "seq is in original model data: False\n",
      "seq is in original model data: False\n",
      "seq is in original model data: False\n",
      "seq is in original model data: False\n",
      "seq is in original model data: False\n",
      "seq is in original model data: False\n",
      "seq is in original model data: False\n",
      "seq is in original model data: False\n",
      "seq is in original model data: False\n",
      "seq is in original model data: False\n",
      "seq is in original model data: False\n",
      "seq is in original model data: False\n",
      "seq is in original model data: False\n",
      "seq is in original model data: False\n",
      "seq is in original model data: False\n",
      "seq is in original model data: False\n",
      "seq is in original model data: False\n"
     ]
    }
   ],
   "source": [
    "for seq in seqs:\n",
    "    test = seq in toeholds\n",
    "    print('seq is in original model data: ' + str(test))"
   ]
  }
 ],
 "metadata": {
  "kernelspec": {
   "display_name": "clean_toehold_venv",
   "language": "python",
   "name": "clean_toehold_venv"
  },
  "language_info": {
   "codemirror_mode": {
    "name": "ipython",
    "version": 3
   },
   "file_extension": ".py",
   "mimetype": "text/x-python",
   "name": "python",
   "nbconvert_exporter": "python",
   "pygments_lexer": "ipython3",
   "version": "3.7.6"
  }
 },
 "nbformat": 4,
 "nbformat_minor": 2
}
