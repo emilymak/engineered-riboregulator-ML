{
 "cells": [
  {
   "cell_type": "markdown",
   "metadata": {},
   "source": [
    "This is the model trained on only Green et al. 2014 data with the same architecture as the previously described CNN model. We don't expect this to be able to generalize well as there are only 168 data points."
   ]
  },
  {
   "cell_type": "code",
   "execution_count": 64,
   "metadata": {},
   "outputs": [],
   "source": [
    "# import statements \n",
    "\n",
    "import os\n",
    "\n",
    "import platform\n",
    "import random\n",
    "import shutil\n",
    "import sys\n",
    "\n",
    "import math\n",
    "import itertools\n",
    "import matplotlib.pyplot as plt\n",
    "\n",
    "import numpy as np\n",
    "import pandas as pd\n",
    "import seaborn as sns\n",
    "import sklearn.metrics\n",
    "import tensorflow as tf\n",
    "from tensorflow.python.saved_model import tag_constants\n",
    "from tqdm import tqdm_notebook as tqdm\n",
    "import keras\n",
    "from keras.models import load_model\n",
    "\n",
    "# some visualization imports\n",
    "from keras import activations\n",
    "\n",
    "# various imports for the keras model\n",
    "from keras.layers.core import Permute\n",
    "from keras import backend as K\n",
    "from keras.engine.topology import Layer\n",
    "import keras as keras\n",
    "from keras.callbacks import TensorBoard\n",
    "from keras import metrics as metrics\n",
    "from keras.models import Sequential, Model\n",
    "from keras.layers import Dense, Dropout, Activation, Flatten, Input, Conv1D, Concatenate\n",
    "from keras.optimizers import SGD\n",
    "from keras.regularizers import l2\n",
    "\n",
    "# evaluate performance w/ on and off regression separately \n",
    "from scipy.stats import pearsonr, spearmanr \n",
    "\n",
    "# imports for the grid search and kfold CV\n",
    "from sklearn.model_selection import KFold, train_test_split\n",
    "from sklearn.metrics import roc_auc_score\n",
    "from sklearn.metrics import precision_recall_curve, average_precision_score\n",
    "\n",
    "# data one-hot encoding imports\n",
    "from pysster.One_Hot_Encoder import One_Hot_Encoder\n",
    "from sklearn import preprocessing\n",
    "from keras.utils import to_categorical"
   ]
  },
  {
   "cell_type": "markdown",
   "metadata": {},
   "source": [
    "# Part 1: Load and clean up the data for use."
   ]
  },
  {
   "cell_type": "code",
   "execution_count": 65,
   "metadata": {},
   "outputs": [
    {
     "name": "stdout",
     "output_type": "stream",
     "text": [
      "   Unnamed: 0  Toehold ID                                   Toehold sequence  \\\n",
      "0          11          68  AATGTATGTAATAGTTCGTCGAGGTGTCCAAGCAGAGGAGATGGAC...   \n",
      "1         117         110  ATGATAATGTAGAGGTGCGGAGTGATTGTAAACAGAGGAGATACAA...   \n",
      "2         108         100  CGAAGTATTGTAAGGTGTAGTGTGCGTTGAGACAGAGGAGATCAAC...   \n",
      "3         122         116  TAAGTAAATGAAAGTGTATGTATGTTGCTGGACAGAGGAGACAGCA...   \n",
      "4          17         117  TCAATAAGGCGGAGTTCGTCGAGGTGCCTGAGCAGAGGAGACAGGC...   \n",
      "\n",
      "                    Switch region                         Trigger  Avg ONOFF  \\\n",
      "0  AATGTATGTAATAGTTCGTCGAGGTGTCCA  TGGACACCTCGACGAACTATTACATACATT       24.8   \n",
      "1  ATGATAATGTAGAGGTGCGGAGTGATTGTA  TACAATCACTCCGCACCTCTACATTATCAT        9.7   \n",
      "2  CGAAGTATTGTAAGGTGTAGTGTGCGTTGA  TCAACGCACACTACACCTTACAATACTTCG       13.6   \n",
      "3  TAAGTAAATGAAAGTGTATGTATGTTGCTG  CAGCAACATACATACACTTTCATTTACTTA        8.7   \n",
      "4  TCAATAAGGCGGAGTTCGTCGAGGTGCCTG  CAGGCACCTCGACGAACTCCGCCTTATTGA        8.5   \n",
      "\n",
      "   sdev ONOFF Toehold Rating  \n",
      "0         2.2            Bad  \n",
      "1         1.1            Bad  \n",
      "2         1.5            Bad  \n",
      "3         1.1            Bad  \n",
      "4         1.4            Bad  \n"
     ]
    }
   ],
   "source": [
    "# Load in data\n",
    "data_dir = ''\n",
    "sequence_file = 'Green2014_clean.csv'\n",
    "sequences = pd.read_csv(data_dir + sequence_file,sep=',')\n",
    "print(sequences.head(5))"
   ]
  },
  {
   "cell_type": "code",
   "execution_count": 66,
   "metadata": {},
   "outputs": [],
   "source": [
    "seqs = sequences['Toehold sequence']\n",
    "onoff_vals = np.array(sequences['Avg ONOFF'])\n",
    "onoff_vals = preprocessing.MinMaxScaler().fit_transform(onoff_vals.reshape(-1, 1)) #normalize"
   ]
  },
  {
   "cell_type": "markdown",
   "metadata": {},
   "source": [
    "# Part 2: Get data in the proper format for ML"
   ]
  },
  {
   "cell_type": "code",
   "execution_count": 67,
   "metadata": {},
   "outputs": [
    {
     "name": "stdout",
     "output_type": "stream",
     "text": [
      "input shape:  (168, 59, 4)\n",
      "modified shape:  (168, 59, 4)\n"
     ]
    }
   ],
   "source": [
    "from pysster.One_Hot_Encoder import One_Hot_Encoder\n",
    "alph_letters = 'ATCG'\n",
    "alph = list(alph_letters)\n",
    "\n",
    "# one-hot encode\n",
    "one = One_Hot_Encoder(alph_letters)\n",
    "def _get_one_hot_encoding(seq):\n",
    "    one_hot_seq = one.encode(seq)                         \n",
    "    return one_hot_seq\n",
    "\n",
    "X = np.stack([_get_one_hot_encoding(s) for s in seqs]).astype(np.float32)\n",
    "nsamples, nx, ny = X.shape # have to flatten the one hot encoded into one dimension\n",
    "\n",
    "# reformat for CNN if needed\n",
    "print('input shape: ', X.shape)\n",
    "alph_len = len(alph)\n",
    "seq_len = len(seqs[0])\n",
    "X = X.reshape(X.shape[0], seq_len, alph_len).astype('float32')\n",
    "print('modified shape: ', X.shape)"
   ]
  },
  {
   "cell_type": "code",
   "execution_count": 68,
   "metadata": {},
   "outputs": [
    {
     "name": "stdout",
     "output_type": "stream",
     "text": [
      "target shape:  (168, 1)\n"
     ]
    }
   ],
   "source": [
    "# reshape and normalize if needed (it is not needed)\n",
    "y = np.array(onoff_vals)\n",
    "print('target shape: ', y.shape)"
   ]
  },
  {
   "cell_type": "markdown",
   "metadata": {},
   "source": [
    "# Part 3. Set-up framework for model. Ensure needed parameters can be varied."
   ]
  },
  {
   "cell_type": "code",
   "execution_count": 69,
   "metadata": {},
   "outputs": [],
   "source": [
    "from keras import optimizers\n",
    "def twoheaded_conv1d(conv_layer_parameters, hidden_layers, dropout_rate = 0.2, reg_coeff = 0.0001,learning_rate=0.001, num_features = 59, num_channels = 4): \n",
    "    # num_features = seq length, num_channels = alphabet size (i.e. # nucleotides)\n",
    "    X_in = Input(shape=(num_features,num_channels),dtype='float32')\n",
    "    prior_layer = X_in \n",
    "    for idx, (kernel_width, num_filters) in enumerate(conv_layer_parameters):\n",
    "        conv_layer = Conv1D(filters=num_filters, kernel_size=kernel_width, padding='same', name='conv_'+str(idx))(prior_layer) # mimic a kmer\n",
    "        prior_layer = conv_layer\n",
    "    H = Flatten()(prior_layer)\n",
    "    for idx, h in enumerate(hidden_layers): \n",
    "        H = Dropout(dropout_rate)(H)\n",
    "        H = Dense(h, activation='relu', kernel_regularizer=l2(reg_coeff),name='dense_'+str(idx))(H)\n",
    "    out_on = Dense(1,activation=\"linear\",name='on_output')(H)\n",
    "    model = Model(inputs=[X_in], outputs=[out_on])\n",
    "    opt = optimizers.adam(lr = learning_rate)\n",
    "    model.compile(loss={'on_output': 'mse'},optimizer=opt,metrics=['mse'])\n",
    "    return model\n"
   ]
  },
  {
   "cell_type": "markdown",
   "metadata": {},
   "source": [
    "# Part 4. Define desired model features. Build sample model to view architecture."
   ]
  },
  {
   "cell_type": "code",
   "execution_count": 70,
   "metadata": {},
   "outputs": [
    {
     "name": "stdout",
     "output_type": "stream",
     "text": [
      "_________________________________________________________________\n",
      "Layer (type)                 Output Shape              Param #   \n",
      "=================================================================\n",
      "input_16 (InputLayer)        (None, 59, 4)             0         \n",
      "_________________________________________________________________\n",
      "conv_0 (Conv1D)              (None, 59, 10)            210       \n",
      "_________________________________________________________________\n",
      "conv_1 (Conv1D)              (None, 59, 5)             155       \n",
      "_________________________________________________________________\n",
      "flatten_16 (Flatten)         (None, 295)               0         \n",
      "_________________________________________________________________\n",
      "dropout_46 (Dropout)         (None, 295)               0         \n",
      "_________________________________________________________________\n",
      "dense_0 (Dense)              (None, 150)               44400     \n",
      "_________________________________________________________________\n",
      "dropout_47 (Dropout)         (None, 150)               0         \n",
      "_________________________________________________________________\n",
      "dense_1 (Dense)              (None, 60)                9060      \n",
      "_________________________________________________________________\n",
      "dropout_48 (Dropout)         (None, 60)                0         \n",
      "_________________________________________________________________\n",
      "dense_2 (Dense)              (None, 15)                915       \n",
      "_________________________________________________________________\n",
      "on_output (Dense)            (None, 1)                 16        \n",
      "=================================================================\n",
      "Total params: 54,756\n",
      "Trainable params: 54,756\n",
      "Non-trainable params: 0\n",
      "_________________________________________________________________\n"
     ]
    }
   ],
   "source": [
    "# [(kernel_width_layer1, #filters_layer1), (kernel_width_layer2, #filters_layer2), ...]\n",
    "conv_layer_parameters = [(5,10), (3,5)]\n",
    "hidden_layer_choices = {5: (150, 60, 15),} # dependent on # filters in final convolutional layer before MLP \n",
    "hidden_layers = hidden_layer_choices[5]\n",
    "dropout_rate = 0.1\n",
    "l2_reg_coeff = 0.0001\n",
    "learning_rate = 0.0005 \n",
    "\n",
    "# build sample master model (to be trained completely later)\n",
    "sample_model = twoheaded_conv1d(conv_layer_parameters=conv_layer_parameters, hidden_layers= hidden_layers, \n",
    "                         dropout_rate=dropout_rate, reg_coeff=l2_reg_coeff, \n",
    "                         learning_rate= learning_rate)\n",
    "\n",
    "# print model architecture \n",
    "sample_model.summary()"
   ]
  },
  {
   "cell_type": "markdown",
   "metadata": {},
   "source": [
    "# Part 5. Run K-Fold CV to ensure reliability of performance metrics. For on and off values. "
   ]
  },
  {
   "cell_type": "code",
   "execution_count": 71,
   "metadata": {},
   "outputs": [],
   "source": [
    "# define kfold object \n",
    "num_folds = 5 # really don't need to run 10 folds here since data is so tiny\n",
    "seed = 0 # set for reproducability \n",
    "random.seed(seed)\n",
    "kfold = KFold(n_splits=num_folds, shuffle=True, random_state= 0)\n",
    "\n",
    "# define parameters for training \n",
    "num_epochs = 150\n",
    "patience = int(num_epochs * .1)"
   ]
  },
  {
   "cell_type": "code",
   "execution_count": 72,
   "metadata": {},
   "outputs": [],
   "source": [
    "# functions to evaluate the model\n",
    "\n",
    "def r2(preds_y, true_y):\n",
    "    return pearsonr(preds_y, true_y)[0] ** 2\n",
    "\n",
    "def compute_metrics(preds_y, true_y): \n",
    "    r2_score = r2(preds_y, true_y)[0]\n",
    "    pearson_corr = pearsonr(preds_y, true_y)[0][0]\n",
    "    spearman_corr = spearmanr(preds_y, true_y)[0]\n",
    "    print('R2: ', r2_score)\n",
    "    print('Pearson: ', pearson_corr)\n",
    "    print('Spearman: ', spearman_corr)\n",
    "    return [r2_score, pearson_corr, spearman_corr]\n",
    "\n",
    "def print_summary_results(avg_metrics, std_metrics): \n",
    "    print('Average:')\n",
    "    print('\\tR2:', avg_metrics[0], '\\n\\tPearson:', avg_metrics[1],'\\n\\tSpearman:', avg_metrics[2],)\n",
    "    print('Standard deviation:')\n",
    "    print('\\tR2:', std_metrics[0], '\\n\\tPearson:', std_metrics[1],'\\n\\tSpearman:', std_metrics[2],)\n",
    "    "
   ]
  },
  {
   "cell_type": "code",
   "execution_count": 73,
   "metadata": {},
   "outputs": [
    {
     "name": "stdout",
     "output_type": "stream",
     "text": [
      "Beginning fold # 0\n",
      "--- ON/OFF Metrics ---\n",
      "R2:  0.007461835930195169\n",
      "Pearson:  -0.08638191900042028\n",
      "Spearman:  -0.07847947520459901\n",
      "Beginning fold # 1\n",
      "--- ON/OFF Metrics ---\n",
      "R2:  0.060966856704937816\n",
      "Pearson:  0.24691467494852917\n",
      "Spearman:  0.14705882352941177\n",
      "Beginning fold # 2\n",
      "--- ON/OFF Metrics ---\n",
      "R2:  0.40303155479837793\n",
      "Pearson:  0.6348476626706425\n",
      "Spearman:  0.1361128398079764\n",
      "Beginning fold # 3\n",
      "--- ON/OFF Metrics ---\n",
      "R2:  0.23168635828049927\n",
      "Pearson:  0.4813380914497618\n",
      "Spearman:  0.27696078431372556\n",
      "Beginning fold # 4\n",
      "--- ON/OFF Metrics ---\n",
      "R2:  0.31140850741985876\n",
      "Pearson:  0.5580398797755038\n",
      "Spearman:  0.5343137254901961\n"
     ]
    }
   ],
   "source": [
    "# run kfold \n",
    "cv_scores_on=[]\n",
    "preds_on = []\n",
    "true_on = []\n",
    "fold_count=0\n",
    "for train, test in kfold.split(X, y): \n",
    "    print('Beginning fold #', fold_count)\n",
    "    # create model w/ parameters as defined\n",
    "    # NOTE: create a model from scratch each time to ensure no weights are carried over per fold  \n",
    "    kfold_model = twoheaded_conv1d(conv_layer_parameters=conv_layer_parameters, hidden_layers= hidden_layers, \n",
    "                             dropout_rate=dropout_rate, reg_coeff=l2_reg_coeff, \n",
    "                             learning_rate= learning_rate)\n",
    "    \n",
    "    # split data again for validation set (to be used w/ early stopping)\n",
    "    X_val, X_test, y_val, y_test = train_test_split(X[test], y[test], train_size = 0.5, test_size = 0.5)\n",
    "    \n",
    "    # train the model\n",
    "    early_stopping = keras.callbacks.EarlyStopping(monitor='val_loss', min_delta=0.0, patience=patience, verbose=0, mode='auto')\n",
    "    kfold_model.fit(X[train], [y[train][:,0]],epochs=num_epochs, batch_size=128,verbose=0, validation_data=(X_val, [y_val[:,0]]), callbacks=[early_stopping])\n",
    "\n",
    "    # evaluate the model\n",
    "    y_preds = np.array(kfold_model.predict(X_test))\n",
    "    \n",
    "    # get ON/OFF metrics (mark as on_metrics for simplicity)\n",
    "    print('--- ON/OFF Metrics ---')\n",
    "    on_metrics = compute_metrics(y_preds,np.expand_dims(y_test[:,0], 1))\n",
    "    cv_scores_on.append(on_metrics)\n",
    "    preds_on.append(np.squeeze(y_preds))\n",
    "    true_on.append(y_test[:,0])\n",
    "    \n",
    "    # delete model to ensure no weights are carried over \n",
    "    del kfold_model\n",
    "\n",
    "    fold_count += 1\n",
    "    \n",
    "out_dir = 'metrics/'    \n",
    "np.savetxt(out_dir + 'only_green_trained_preds.csv', preds_on, delimiter=\",\")\n",
    "np.savetxt(out_dir + 'only_green_trained_true.csv', true_on, delimiter=\",\")"
   ]
  },
  {
   "cell_type": "markdown",
   "metadata": {},
   "source": [
    "# Part 6. Compute average metrics.\n"
   ]
  },
  {
   "cell_type": "code",
   "execution_count": 74,
   "metadata": {},
   "outputs": [],
   "source": [
    "avg_metric_folds_on = np.mean(cv_scores_on, axis = 0) # avg over columns \n",
    "std_metric_folds_on = np.std(cv_scores_on, axis = 0) # st dev over columns"
   ]
  },
  {
   "cell_type": "code",
   "execution_count": 75,
   "metadata": {},
   "outputs": [
    {
     "name": "stdout",
     "output_type": "stream",
     "text": [
      "--- ON/OFF Metrics ---\n",
      "Average:\n",
      "\tR2: 0.20291102262677377 \n",
      "\tPearson: 0.3669516779688034 \n",
      "\tSpearman: 0.20319333958734215\n",
      "Standard deviation:\n",
      "\tR2: 0.14899428335654766 \n",
      "\tPearson: 0.2612613416919032 \n",
      "\tSpearman: 0.20103372741828057\n"
     ]
    }
   ],
   "source": [
    "print('--- ON/OFF Metrics ---')\n",
    "print_summary_results(avg_metric_folds_on, std_metric_folds_on)"
   ]
  },
  {
   "cell_type": "markdown",
   "metadata": {},
   "source": [
    "# Part 7. Train model and save for future use.\n"
   ]
  },
  {
   "cell_type": "code",
   "execution_count": 76,
   "metadata": {},
   "outputs": [],
   "source": [
    "# train on more of the data (no testing - use metrics from kfold as final metrics)\n",
    "# have small held-out data for early stopping\n",
    "\n",
    "# split data again for validation set (to be used w/ early stopping)\n",
    "train_size = 0.851\n",
    "X_train, X_val, y_train, y_val = train_test_split(X, y, train_size = train_size, test_size = 1-train_size)\n",
    "\n",
    "# define parameters for training \n",
    "num_epochs = 150\n",
    "patience = int(num_epochs * .1)"
   ]
  },
  {
   "cell_type": "code",
   "execution_count": 77,
   "metadata": {},
   "outputs": [],
   "source": [
    "# build model\n",
    "model = twoheaded_conv1d(conv_layer_parameters=conv_layer_parameters, hidden_layers= hidden_layers, \n",
    "                         dropout_rate=dropout_rate, reg_coeff=l2_reg_coeff, \n",
    "                         learning_rate= learning_rate)"
   ]
  },
  {
   "cell_type": "code",
   "execution_count": 78,
   "metadata": {},
   "outputs": [
    {
     "name": "stdout",
     "output_type": "stream",
     "text": [
      "Train on 142 samples, validate on 26 samples\n",
      "Epoch 1/150\n",
      " - 2s - loss: 0.5507 - mean_squared_error: 0.5199 - val_loss: 0.2512 - val_mean_squared_error: 0.2203\n",
      "Epoch 2/150\n",
      " - 0s - loss: 0.2555 - mean_squared_error: 0.2246 - val_loss: 0.1453 - val_mean_squared_error: 0.1145\n",
      "Epoch 3/150\n",
      " - 0s - loss: 0.1270 - mean_squared_error: 0.0961 - val_loss: 0.1072 - val_mean_squared_error: 0.0764\n",
      "Epoch 4/150\n",
      " - 0s - loss: 0.1063 - mean_squared_error: 0.0755 - val_loss: 0.0933 - val_mean_squared_error: 0.0625\n",
      "Epoch 5/150\n",
      " - 0s - loss: 0.0924 - mean_squared_error: 0.0615 - val_loss: 0.0892 - val_mean_squared_error: 0.0584\n",
      "Epoch 6/150\n",
      " - 0s - loss: 0.0850 - mean_squared_error: 0.0542 - val_loss: 0.0884 - val_mean_squared_error: 0.0576\n",
      "Epoch 7/150\n",
      " - 0s - loss: 0.0845 - mean_squared_error: 0.0536 - val_loss: 0.0893 - val_mean_squared_error: 0.0585\n",
      "Epoch 8/150\n",
      " - 0s - loss: 0.0844 - mean_squared_error: 0.0536 - val_loss: 0.0902 - val_mean_squared_error: 0.0594\n",
      "Epoch 9/150\n",
      " - 0s - loss: 0.0881 - mean_squared_error: 0.0573 - val_loss: 0.0902 - val_mean_squared_error: 0.0594\n",
      "Epoch 10/150\n",
      " - 0s - loss: 0.0836 - mean_squared_error: 0.0528 - val_loss: 0.0899 - val_mean_squared_error: 0.0591\n",
      "Epoch 11/150\n",
      " - 0s - loss: 0.0818 - mean_squared_error: 0.0510 - val_loss: 0.0897 - val_mean_squared_error: 0.0589\n",
      "Epoch 12/150\n",
      " - 0s - loss: 0.0840 - mean_squared_error: 0.0532 - val_loss: 0.0893 - val_mean_squared_error: 0.0585\n",
      "Epoch 13/150\n",
      " - 0s - loss: 0.0819 - mean_squared_error: 0.0512 - val_loss: 0.0887 - val_mean_squared_error: 0.0580\n",
      "Epoch 14/150\n",
      " - 0s - loss: 0.0779 - mean_squared_error: 0.0472 - val_loss: 0.0885 - val_mean_squared_error: 0.0578\n",
      "Epoch 15/150\n",
      " - 0s - loss: 0.0749 - mean_squared_error: 0.0442 - val_loss: 0.0885 - val_mean_squared_error: 0.0578\n",
      "Epoch 16/150\n",
      " - 0s - loss: 0.0814 - mean_squared_error: 0.0507 - val_loss: 0.0885 - val_mean_squared_error: 0.0578\n",
      "Epoch 17/150\n",
      " - 0s - loss: 0.0819 - mean_squared_error: 0.0512 - val_loss: 0.0885 - val_mean_squared_error: 0.0578\n",
      "Epoch 18/150\n",
      " - 0s - loss: 0.0715 - mean_squared_error: 0.0408 - val_loss: 0.0884 - val_mean_squared_error: 0.0577\n",
      "Epoch 19/150\n",
      " - 0s - loss: 0.0777 - mean_squared_error: 0.0471 - val_loss: 0.0876 - val_mean_squared_error: 0.0569\n",
      "Epoch 20/150\n",
      " - 0s - loss: 0.0700 - mean_squared_error: 0.0394 - val_loss: 0.0863 - val_mean_squared_error: 0.0556\n",
      "Epoch 21/150\n",
      " - 0s - loss: 0.0709 - mean_squared_error: 0.0403 - val_loss: 0.0852 - val_mean_squared_error: 0.0545\n",
      "Epoch 22/150\n",
      " - 0s - loss: 0.0706 - mean_squared_error: 0.0399 - val_loss: 0.0844 - val_mean_squared_error: 0.0538\n",
      "Epoch 23/150\n",
      " - 0s - loss: 0.0707 - mean_squared_error: 0.0400 - val_loss: 0.0839 - val_mean_squared_error: 0.0533\n",
      "Epoch 24/150\n",
      " - 0s - loss: 0.0631 - mean_squared_error: 0.0325 - val_loss: 0.0835 - val_mean_squared_error: 0.0529\n",
      "Epoch 25/150\n",
      " - 0s - loss: 0.0712 - mean_squared_error: 0.0406 - val_loss: 0.0832 - val_mean_squared_error: 0.0527\n",
      "Epoch 26/150\n",
      " - 0s - loss: 0.0708 - mean_squared_error: 0.0403 - val_loss: 0.0830 - val_mean_squared_error: 0.0525\n",
      "Epoch 27/150\n",
      " - 0s - loss: 0.0670 - mean_squared_error: 0.0365 - val_loss: 0.0826 - val_mean_squared_error: 0.0520\n",
      "Epoch 28/150\n",
      " - 0s - loss: 0.0657 - mean_squared_error: 0.0351 - val_loss: 0.0821 - val_mean_squared_error: 0.0516\n",
      "Epoch 29/150\n",
      " - 0s - loss: 0.0681 - mean_squared_error: 0.0376 - val_loss: 0.0819 - val_mean_squared_error: 0.0514\n",
      "Epoch 30/150\n",
      " - 0s - loss: 0.0623 - mean_squared_error: 0.0317 - val_loss: 0.0817 - val_mean_squared_error: 0.0512\n",
      "Epoch 31/150\n",
      " - 0s - loss: 0.0661 - mean_squared_error: 0.0357 - val_loss: 0.0815 - val_mean_squared_error: 0.0510\n",
      "Epoch 32/150\n",
      " - 0s - loss: 0.0608 - mean_squared_error: 0.0303 - val_loss: 0.0813 - val_mean_squared_error: 0.0509\n",
      "Epoch 33/150\n",
      " - 0s - loss: 0.0671 - mean_squared_error: 0.0367 - val_loss: 0.0809 - val_mean_squared_error: 0.0504\n",
      "Epoch 34/150\n",
      " - 0s - loss: 0.0632 - mean_squared_error: 0.0328 - val_loss: 0.0802 - val_mean_squared_error: 0.0498\n",
      "Epoch 35/150\n",
      " - 0s - loss: 0.0621 - mean_squared_error: 0.0316 - val_loss: 0.0796 - val_mean_squared_error: 0.0492\n",
      "Epoch 36/150\n",
      " - 0s - loss: 0.0639 - mean_squared_error: 0.0335 - val_loss: 0.0792 - val_mean_squared_error: 0.0488\n",
      "Epoch 37/150\n",
      " - 0s - loss: 0.0641 - mean_squared_error: 0.0337 - val_loss: 0.0788 - val_mean_squared_error: 0.0484\n",
      "Epoch 38/150\n",
      " - 0s - loss: 0.0635 - mean_squared_error: 0.0331 - val_loss: 0.0784 - val_mean_squared_error: 0.0480\n",
      "Epoch 39/150\n",
      " - 0s - loss: 0.0600 - mean_squared_error: 0.0296 - val_loss: 0.0780 - val_mean_squared_error: 0.0477\n",
      "Epoch 40/150\n",
      " - 0s - loss: 0.0618 - mean_squared_error: 0.0315 - val_loss: 0.0778 - val_mean_squared_error: 0.0474\n",
      "Epoch 41/150\n",
      " - 0s - loss: 0.0572 - mean_squared_error: 0.0268 - val_loss: 0.0776 - val_mean_squared_error: 0.0472\n",
      "Epoch 42/150\n",
      " - 0s - loss: 0.0592 - mean_squared_error: 0.0289 - val_loss: 0.0774 - val_mean_squared_error: 0.0471\n",
      "Epoch 43/150\n",
      " - 0s - loss: 0.0574 - mean_squared_error: 0.0271 - val_loss: 0.0773 - val_mean_squared_error: 0.0470\n",
      "Epoch 44/150\n",
      " - 0s - loss: 0.0535 - mean_squared_error: 0.0232 - val_loss: 0.0773 - val_mean_squared_error: 0.0471\n",
      "Epoch 45/150\n",
      " - 0s - loss: 0.0586 - mean_squared_error: 0.0283 - val_loss: 0.0772 - val_mean_squared_error: 0.0469\n",
      "Epoch 46/150\n",
      " - 0s - loss: 0.0572 - mean_squared_error: 0.0269 - val_loss: 0.0768 - val_mean_squared_error: 0.0466\n",
      "Epoch 47/150\n",
      " - 0s - loss: 0.0539 - mean_squared_error: 0.0237 - val_loss: 0.0764 - val_mean_squared_error: 0.0462\n",
      "Epoch 48/150\n",
      " - 0s - loss: 0.0550 - mean_squared_error: 0.0248 - val_loss: 0.0760 - val_mean_squared_error: 0.0457\n",
      "Epoch 49/150\n",
      " - 0s - loss: 0.0545 - mean_squared_error: 0.0243 - val_loss: 0.0756 - val_mean_squared_error: 0.0454\n",
      "Epoch 50/150\n",
      " - 0s - loss: 0.0546 - mean_squared_error: 0.0244 - val_loss: 0.0754 - val_mean_squared_error: 0.0452\n",
      "Epoch 51/150\n",
      " - 0s - loss: 0.0532 - mean_squared_error: 0.0230 - val_loss: 0.0753 - val_mean_squared_error: 0.0451\n",
      "Epoch 52/150\n",
      " - 0s - loss: 0.0498 - mean_squared_error: 0.0197 - val_loss: 0.0752 - val_mean_squared_error: 0.0451\n",
      "Epoch 53/150\n",
      " - 0s - loss: 0.0540 - mean_squared_error: 0.0239 - val_loss: 0.0753 - val_mean_squared_error: 0.0451\n",
      "Epoch 54/150\n",
      " - 0s - loss: 0.0530 - mean_squared_error: 0.0228 - val_loss: 0.0754 - val_mean_squared_error: 0.0453\n",
      "Epoch 55/150\n",
      " - 0s - loss: 0.0545 - mean_squared_error: 0.0244 - val_loss: 0.0755 - val_mean_squared_error: 0.0454\n",
      "Epoch 56/150\n",
      " - 0s - loss: 0.0508 - mean_squared_error: 0.0207 - val_loss: 0.0756 - val_mean_squared_error: 0.0455\n",
      "Epoch 57/150\n",
      " - 0s - loss: 0.0510 - mean_squared_error: 0.0209 - val_loss: 0.0756 - val_mean_squared_error: 0.0455\n",
      "Epoch 58/150\n",
      " - 0s - loss: 0.0505 - mean_squared_error: 0.0204 - val_loss: 0.0754 - val_mean_squared_error: 0.0453\n",
      "Epoch 59/150\n",
      " - 0s - loss: 0.0525 - mean_squared_error: 0.0225 - val_loss: 0.0751 - val_mean_squared_error: 0.0451\n",
      "Epoch 60/150\n",
      " - 0s - loss: 0.0480 - mean_squared_error: 0.0179 - val_loss: 0.0748 - val_mean_squared_error: 0.0448\n",
      "Epoch 61/150\n",
      " - 0s - loss: 0.0469 - mean_squared_error: 0.0169 - val_loss: 0.0743 - val_mean_squared_error: 0.0443\n",
      "Epoch 62/150\n",
      " - 0s - loss: 0.0534 - mean_squared_error: 0.0234 - val_loss: 0.0740 - val_mean_squared_error: 0.0440\n",
      "Epoch 63/150\n",
      " - 0s - loss: 0.0481 - mean_squared_error: 0.0181 - val_loss: 0.0737 - val_mean_squared_error: 0.0437\n",
      "Epoch 64/150\n",
      " - 0s - loss: 0.0524 - mean_squared_error: 0.0225 - val_loss: 0.0733 - val_mean_squared_error: 0.0434\n",
      "Epoch 65/150\n",
      " - 0s - loss: 0.0491 - mean_squared_error: 0.0192 - val_loss: 0.0731 - val_mean_squared_error: 0.0432\n",
      "Epoch 66/150\n",
      " - 0s - loss: 0.0480 - mean_squared_error: 0.0181 - val_loss: 0.0730 - val_mean_squared_error: 0.0430\n",
      "Epoch 67/150\n",
      " - 0s - loss: 0.0507 - mean_squared_error: 0.0207 - val_loss: 0.0729 - val_mean_squared_error: 0.0429\n",
      "Epoch 68/150\n",
      " - 0s - loss: 0.0513 - mean_squared_error: 0.0214 - val_loss: 0.0727 - val_mean_squared_error: 0.0428\n",
      "Epoch 69/150\n",
      " - 0s - loss: 0.0453 - mean_squared_error: 0.0154 - val_loss: 0.0726 - val_mean_squared_error: 0.0427\n",
      "Epoch 70/150\n",
      " - 0s - loss: 0.0518 - mean_squared_error: 0.0219 - val_loss: 0.0726 - val_mean_squared_error: 0.0427\n",
      "Epoch 71/150\n",
      " - 0s - loss: 0.0456 - mean_squared_error: 0.0157 - val_loss: 0.0725 - val_mean_squared_error: 0.0427\n"
     ]
    },
    {
     "name": "stdout",
     "output_type": "stream",
     "text": [
      "Epoch 72/150\n",
      " - 0s - loss: 0.0467 - mean_squared_error: 0.0168 - val_loss: 0.0723 - val_mean_squared_error: 0.0425\n",
      "Epoch 73/150\n",
      " - 0s - loss: 0.0481 - mean_squared_error: 0.0183 - val_loss: 0.0722 - val_mean_squared_error: 0.0424\n",
      "Epoch 74/150\n",
      " - 0s - loss: 0.0470 - mean_squared_error: 0.0171 - val_loss: 0.0724 - val_mean_squared_error: 0.0426\n",
      "Epoch 75/150\n",
      " - 0s - loss: 0.0437 - mean_squared_error: 0.0139 - val_loss: 0.0729 - val_mean_squared_error: 0.0431\n",
      "Epoch 76/150\n",
      " - 0s - loss: 0.0464 - mean_squared_error: 0.0166 - val_loss: 0.0734 - val_mean_squared_error: 0.0437\n",
      "Epoch 77/150\n",
      " - 0s - loss: 0.0462 - mean_squared_error: 0.0164 - val_loss: 0.0738 - val_mean_squared_error: 0.0440\n",
      "Epoch 78/150\n",
      " - 0s - loss: 0.0432 - mean_squared_error: 0.0134 - val_loss: 0.0739 - val_mean_squared_error: 0.0442\n",
      "Epoch 79/150\n",
      " - 0s - loss: 0.0469 - mean_squared_error: 0.0172 - val_loss: 0.0740 - val_mean_squared_error: 0.0442\n",
      "Epoch 80/150\n",
      " - 0s - loss: 0.0416 - mean_squared_error: 0.0119 - val_loss: 0.0742 - val_mean_squared_error: 0.0445\n",
      "Epoch 81/150\n",
      " - 0s - loss: 0.0437 - mean_squared_error: 0.0140 - val_loss: 0.0746 - val_mean_squared_error: 0.0449\n",
      "Epoch 82/150\n",
      " - 0s - loss: 0.0434 - mean_squared_error: 0.0137 - val_loss: 0.0747 - val_mean_squared_error: 0.0450\n",
      "Epoch 83/150\n",
      " - 0s - loss: 0.0436 - mean_squared_error: 0.0139 - val_loss: 0.0749 - val_mean_squared_error: 0.0452\n",
      "Epoch 84/150\n",
      " - 0s - loss: 0.0443 - mean_squared_error: 0.0147 - val_loss: 0.0751 - val_mean_squared_error: 0.0455\n",
      "Epoch 85/150\n",
      " - 0s - loss: 0.0447 - mean_squared_error: 0.0150 - val_loss: 0.0754 - val_mean_squared_error: 0.0458\n",
      "Epoch 86/150\n",
      " - 0s - loss: 0.0395 - mean_squared_error: 0.0099 - val_loss: 0.0758 - val_mean_squared_error: 0.0461\n",
      "Epoch 87/150\n",
      " - 0s - loss: 0.0414 - mean_squared_error: 0.0118 - val_loss: 0.0761 - val_mean_squared_error: 0.0464\n",
      "Epoch 88/150\n",
      " - 0s - loss: 0.0404 - mean_squared_error: 0.0108 - val_loss: 0.0763 - val_mean_squared_error: 0.0467\n",
      "Epoch 00088: early stopping\n"
     ]
    },
    {
     "data": {
      "text/plain": [
       "<keras.callbacks.History at 0x13af77630>"
      ]
     },
     "execution_count": 78,
     "metadata": {},
     "output_type": "execute_result"
    }
   ],
   "source": [
    "# train model\n",
    "early_stopping = keras.callbacks.EarlyStopping(monitor='val_loss', min_delta=0.0, patience=patience, verbose=2, mode='auto')\n",
    "model.fit(X_train, [y_train[:,0]],epochs=num_epochs, batch_size=128,verbose=2, validation_data=(X_val, [y_val[:,0]]), callbacks=[early_stopping])\n"
   ]
  },
  {
   "cell_type": "code",
   "execution_count": 79,
   "metadata": {},
   "outputs": [],
   "source": [
    "# save model (architecture + weights) \n",
    "out_dir = '../models/'\n",
    "model.save(out_dir + 'only_green_trained_model.h5')\n",
    "model.save_weights(out_dir + 'only_green_trained_model_weights.h5')"
   ]
  }
 ],
 "metadata": {
  "kernelspec": {
   "display_name": "Python 3",
   "language": "python",
   "name": "python3"
  },
  "language_info": {
   "codemirror_mode": {
    "name": "ipython",
    "version": 3
   },
   "file_extension": ".py",
   "mimetype": "text/x-python",
   "name": "python",
   "nbconvert_exporter": "python",
   "pygments_lexer": "ipython3",
   "version": "3.7.1"
  }
 },
 "nbformat": 4,
 "nbformat_minor": 2
}
