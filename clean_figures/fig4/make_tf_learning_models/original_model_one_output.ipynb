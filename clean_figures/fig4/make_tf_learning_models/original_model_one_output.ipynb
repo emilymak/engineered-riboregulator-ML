{
 "cells": [
  {
   "cell_type": "markdown",
   "metadata": {},
   "source": [
    "This is the model trained on Angenent-Mari et al. 2020 data. Revised from figures 2 and 3 to be just a single output node, ON/OFF ratio, rather than ON and OFF values separately as to be compatible with Green et al. normalized data."
   ]
  },
  {
   "cell_type": "code",
   "execution_count": 32,
   "metadata": {},
   "outputs": [],
   "source": [
    "# import statements \n",
    "\n",
    "import os\n",
    "\n",
    "import platform\n",
    "import random\n",
    "import shutil\n",
    "import sys\n",
    "\n",
    "import math\n",
    "import itertools\n",
    "import matplotlib.pyplot as plt\n",
    "\n",
    "import numpy as np\n",
    "import pandas as pd\n",
    "import seaborn as sns\n",
    "import sklearn.metrics\n",
    "import tensorflow as tf\n",
    "from tensorflow.python.saved_model import tag_constants\n",
    "from tqdm import tqdm_notebook as tqdm\n",
    "import keras\n",
    "\n",
    "# some visualization imports\n",
    "from keras import activations\n",
    "\n",
    "# various imports for the keras model\n",
    "from keras.layers.core import Permute\n",
    "from keras import backend as K\n",
    "from keras.engine.topology import Layer\n",
    "import keras as keras\n",
    "from keras.callbacks import TensorBoard\n",
    "from keras import metrics as metrics\n",
    "from keras.models import Sequential, Model\n",
    "from keras.layers import Dense, Dropout, Activation, Flatten, Input, Conv1D, Concatenate\n",
    "from keras.optimizers import SGD\n",
    "from keras.regularizers import l2\n",
    "\n",
    "# evaluate performance w/ on and off regression separately \n",
    "from scipy.stats import pearsonr, spearmanr \n",
    "\n",
    "# imports for the grid search and kfold CV\n",
    "from sklearn.model_selection import KFold, train_test_split\n",
    "from sklearn.metrics import roc_auc_score\n",
    "from sklearn.metrics import precision_recall_curve, average_precision_score\n",
    "\n",
    "# data one-hot encoding imports\n",
    "from pysster.One_Hot_Encoder import One_Hot_Encoder\n",
    "from sklearn import preprocessing\n",
    "from keras.utils import to_categorical\n"
   ]
  },
  {
   "cell_type": "markdown",
   "metadata": {},
   "source": [
    "# Part 1: Load in data. Filter and sample to avoid bias from expiremental errors. "
   ]
  },
  {
   "cell_type": "code",
   "execution_count": 33,
   "metadata": {},
   "outputs": [
    {
     "data": {
      "text/html": [
       "<div>\n",
       "<style scoped>\n",
       "    .dataframe tbody tr th:only-of-type {\n",
       "        vertical-align: middle;\n",
       "    }\n",
       "\n",
       "    .dataframe tbody tr th {\n",
       "        vertical-align: top;\n",
       "    }\n",
       "\n",
       "    .dataframe thead th {\n",
       "        text-align: right;\n",
       "    }\n",
       "</style>\n",
       "<table border=\"1\" class=\"dataframe\">\n",
       "  <thead>\n",
       "    <tr style=\"text-align: right;\">\n",
       "      <th></th>\n",
       "      <th>off_id</th>\n",
       "      <th>on_id</th>\n",
       "      <th>source_sequence</th>\n",
       "      <th>sequence_id</th>\n",
       "      <th>pre_seq</th>\n",
       "      <th>promoter</th>\n",
       "      <th>trigger</th>\n",
       "      <th>loop1</th>\n",
       "      <th>switch</th>\n",
       "      <th>loop2</th>\n",
       "      <th>...</th>\n",
       "      <th>stem2</th>\n",
       "      <th>linker</th>\n",
       "      <th>post_linker</th>\n",
       "      <th>on_value</th>\n",
       "      <th>off_value</th>\n",
       "      <th>onoff_value</th>\n",
       "      <th>on_qc</th>\n",
       "      <th>off_qc</th>\n",
       "      <th>onoff_qc</th>\n",
       "      <th>switch_sequence</th>\n",
       "    </tr>\n",
       "  </thead>\n",
       "  <tbody>\n",
       "    <tr>\n",
       "      <th>0</th>\n",
       "      <td>AACCAAACACACAAACGCACAAAAAAAAAAAAAAAAAATGGAAAAC...</td>\n",
       "      <td>AACTGTTTTCCATTTTTTTTTTTTTTTTTTAACCAAACACACAAAC...</td>\n",
       "      <td>smallpox</td>\n",
       "      <td>smallpox_tile_2626</td>\n",
       "      <td>CTCTGGGCTAACTGTCGCGC</td>\n",
       "      <td>TAATACGACTCACTATAGGG</td>\n",
       "      <td>AACTGTTTTCCATTTTTTTTTTTTTTTTTT</td>\n",
       "      <td>AACCAAACACACAAACGCAC</td>\n",
       "      <td>AAAAAAAAAAAAAAAAAATGGAAAACAGTT</td>\n",
       "      <td>AACAGAGGAGA</td>\n",
       "      <td>...</td>\n",
       "      <td>CCATTTTTT</td>\n",
       "      <td>AACCTGGCGGCAGCGCAAAAGATGCG</td>\n",
       "      <td>TAAAGGAGAA</td>\n",
       "      <td>NaN</td>\n",
       "      <td>0.333333</td>\n",
       "      <td>NaN</td>\n",
       "      <td>NaN</td>\n",
       "      <td>NaN</td>\n",
       "      <td>NaN</td>\n",
       "      <td>AAAAAAAAAAAAAAAAAATGGAAAACAGTTAACAGAGGAGAAACTG...</td>\n",
       "    </tr>\n",
       "    <tr>\n",
       "      <th>1</th>\n",
       "      <td>AACCAAACACACAAACGCACAAAAAAAAAAAAATGGAAAACAGTTA...</td>\n",
       "      <td>TTAGTAACTGTTTTCCATTTTTTTTTTTTTAACCAAACACACAAAC...</td>\n",
       "      <td>smallpox</td>\n",
       "      <td>smallpox_tile_2625</td>\n",
       "      <td>CTCTGGGCTAACTGTCGCGC</td>\n",
       "      <td>TAATACGACTCACTATAGGG</td>\n",
       "      <td>TTAGTAACTGTTTTCCATTTTTTTTTTTTT</td>\n",
       "      <td>AACCAAACACACAAACGCAC</td>\n",
       "      <td>AAAAAAAAAAAAATGGAAAACAGTTACTAA</td>\n",
       "      <td>AACAGAGGAGA</td>\n",
       "      <td>...</td>\n",
       "      <td>GTTTTCCAT</td>\n",
       "      <td>AACCTGGCGGCAGCGCAAAAGATGCG</td>\n",
       "      <td>TAAAGGAGAA</td>\n",
       "      <td>NaN</td>\n",
       "      <td>NaN</td>\n",
       "      <td>NaN</td>\n",
       "      <td>NaN</td>\n",
       "      <td>NaN</td>\n",
       "      <td>NaN</td>\n",
       "      <td>AAAAAAAAAAAAATGGAAAACAGTTACTAAAACAGAGGAGATTAGT...</td>\n",
       "    </tr>\n",
       "    <tr>\n",
       "      <th>2</th>\n",
       "      <td>AACCAAACACACAAACGCACAAAAAAAAATTACTACTATTGTTAAT...</td>\n",
       "      <td>CTAAATTAACAATAGTAGTAATTTTTTTTTAACCAAACACACAAAC...</td>\n",
       "      <td>smallpox</td>\n",
       "      <td>smallpox_tile_4951</td>\n",
       "      <td>CTCTGGGCTAACTGTCGCGC</td>\n",
       "      <td>TAATACGACTCACTATAGGG</td>\n",
       "      <td>CTAAATTAACAATAGTAGTAATTTTTTTTT</td>\n",
       "      <td>AACCAAACACACAAACGCAC</td>\n",
       "      <td>AAAAAAAAATTACTACTATTGTTAATTTAG</td>\n",
       "      <td>AACAGAGGAGA</td>\n",
       "      <td>...</td>\n",
       "      <td>CAATAGTAG</td>\n",
       "      <td>AACCTGGCGGCAGCGCAAAAGATGCG</td>\n",
       "      <td>TAAAGGAGAA</td>\n",
       "      <td>0.068295</td>\n",
       "      <td>0.000000</td>\n",
       "      <td>0.068295</td>\n",
       "      <td>2.0</td>\n",
       "      <td>1.1</td>\n",
       "      <td>1.1</td>\n",
       "      <td>AAAAAAAAATTACTACTATTGTTAATTTAGAACAGAGGAGACTAAA...</td>\n",
       "    </tr>\n",
       "  </tbody>\n",
       "</table>\n",
       "<p>3 rows × 22 columns</p>\n",
       "</div>"
      ],
      "text/plain": [
       "                                              off_id  \\\n",
       "0  AACCAAACACACAAACGCACAAAAAAAAAAAAAAAAAATGGAAAAC...   \n",
       "1  AACCAAACACACAAACGCACAAAAAAAAAAAAATGGAAAACAGTTA...   \n",
       "2  AACCAAACACACAAACGCACAAAAAAAAATTACTACTATTGTTAAT...   \n",
       "\n",
       "                                               on_id source_sequence  \\\n",
       "0  AACTGTTTTCCATTTTTTTTTTTTTTTTTTAACCAAACACACAAAC...        smallpox   \n",
       "1  TTAGTAACTGTTTTCCATTTTTTTTTTTTTAACCAAACACACAAAC...        smallpox   \n",
       "2  CTAAATTAACAATAGTAGTAATTTTTTTTTAACCAAACACACAAAC...        smallpox   \n",
       "\n",
       "          sequence_id               pre_seq              promoter  \\\n",
       "0  smallpox_tile_2626  CTCTGGGCTAACTGTCGCGC  TAATACGACTCACTATAGGG   \n",
       "1  smallpox_tile_2625  CTCTGGGCTAACTGTCGCGC  TAATACGACTCACTATAGGG   \n",
       "2  smallpox_tile_4951  CTCTGGGCTAACTGTCGCGC  TAATACGACTCACTATAGGG   \n",
       "\n",
       "                          trigger                 loop1  \\\n",
       "0  AACTGTTTTCCATTTTTTTTTTTTTTTTTT  AACCAAACACACAAACGCAC   \n",
       "1  TTAGTAACTGTTTTCCATTTTTTTTTTTTT  AACCAAACACACAAACGCAC   \n",
       "2  CTAAATTAACAATAGTAGTAATTTTTTTTT  AACCAAACACACAAACGCAC   \n",
       "\n",
       "                           switch        loop2  \\\n",
       "0  AAAAAAAAAAAAAAAAAATGGAAAACAGTT  AACAGAGGAGA   \n",
       "1  AAAAAAAAAAAAATGGAAAACAGTTACTAA  AACAGAGGAGA   \n",
       "2  AAAAAAAAATTACTACTATTGTTAATTTAG  AACAGAGGAGA   \n",
       "\n",
       "                         ...                              stem2  \\\n",
       "0                        ...                          CCATTTTTT   \n",
       "1                        ...                          GTTTTCCAT   \n",
       "2                        ...                          CAATAGTAG   \n",
       "\n",
       "                       linker post_linker  on_value off_value  onoff_value  \\\n",
       "0  AACCTGGCGGCAGCGCAAAAGATGCG  TAAAGGAGAA       NaN  0.333333          NaN   \n",
       "1  AACCTGGCGGCAGCGCAAAAGATGCG  TAAAGGAGAA       NaN       NaN          NaN   \n",
       "2  AACCTGGCGGCAGCGCAAAAGATGCG  TAAAGGAGAA  0.068295  0.000000     0.068295   \n",
       "\n",
       "   on_qc  off_qc  onoff_qc                                    switch_sequence  \n",
       "0    NaN     NaN       NaN  AAAAAAAAAAAAAAAAAATGGAAAACAGTTAACAGAGGAGAAACTG...  \n",
       "1    NaN     NaN       NaN  AAAAAAAAAAAAATGGAAAACAGTTACTAAAACAGAGGAGATTAGT...  \n",
       "2    2.0     1.1       1.1  AAAAAAAAATTACTACTATTGTTAATTTAGAACAGAGGAGACTAAA...  \n",
       "\n",
       "[3 rows x 22 columns]"
      ]
     },
     "execution_count": 33,
     "metadata": {},
     "output_type": "execute_result"
    }
   ],
   "source": [
    "data_dir = '../../../data/'\n",
    "file_name = 'newQC_toehold_data.csv'\n",
    "data_df = pd.read_csv(data_dir + file_name,sep=',')\n",
    "data_df.head(3)"
   ]
  },
  {
   "cell_type": "code",
   "execution_count": 34,
   "metadata": {},
   "outputs": [
    {
     "name": "stdout",
     "output_type": "stream",
     "text": [
      "Number of remaining sequences:  91534\n"
     ]
    }
   ],
   "source": [
    "qc_cutoff=1.1\n",
    "data_df = data_df[data_df['on_qc'] >= qc_cutoff].reset_index()\n",
    "data_df = data_df[data_df['off_qc'] >= qc_cutoff].reset_index()\n",
    "toehold_seqs = data_df['switch_sequence']\n",
    "seq_len = len(toehold_seqs[0])\n",
    "print('Number of remaining sequences: ', len(data_df))"
   ]
  },
  {
   "cell_type": "markdown",
   "metadata": {},
   "source": [
    "Now downsample data to avoid bias."
   ]
  },
  {
   "cell_type": "code",
   "execution_count": 38,
   "metadata": {},
   "outputs": [],
   "source": [
    "on_value_bin_labels = np.arange(1000)\n",
    "on_value_bins = pd.cut(data_df['on_value'], bins=1000, labels=on_value_bin_labels)\n",
    "bin_floor_on = math.floor(data_df['on_value'].value_counts(bins=1000).mean())\n",
    "\n",
    "\n",
    "off_value_bin_labels = np.arange(1000)\n",
    "off_value_bins = pd.cut(data_df['off_value'], bins=1000, labels=off_value_bin_labels)\n",
    "bin_floor_off = math.floor(data_df['off_value'].value_counts(bins=1000).mean())"
   ]
  },
  {
   "cell_type": "code",
   "execution_count": 39,
   "metadata": {},
   "outputs": [],
   "source": [
    "# Going through the 1000 bin counts and preventing no more than \n",
    "# the mean number of counts in each bin, then adding all of the indicies\n",
    "# of the bins to a list for the on and off values\n",
    "sample_ids_on = []\n",
    "for bin_label in on_value_bin_labels:\n",
    "    bin_indices = on_value_bins[on_value_bins == bin_label].index\n",
    "    bin_num = bin_indices.size\n",
    "    if bin_num > bin_floor_on:\n",
    "        sample = np.random.choice(bin_indices, size=bin_floor_on, replace=False)\n",
    "    else:\n",
    "        sample = bin_indices\n",
    "    sample_ids_on.append(sample.tolist())  \n",
    "\n",
    "sample_ids_off = []\n",
    "for bin_label in off_value_bin_labels:\n",
    "    bin_indices = off_value_bins[off_value_bins == bin_label].index\n",
    "    bin_num = bin_indices.size\n",
    "    if bin_num > bin_floor_off:\n",
    "        sample = np.random.choice(bin_indices, size=bin_floor_off, replace=False)\n",
    "    else:\n",
    "        sample = bin_indices\n",
    "    sample_ids_off.append(sample.tolist()) "
   ]
  },
  {
   "cell_type": "code",
   "execution_count": 40,
   "metadata": {},
   "outputs": [
    {
     "name": "stdout",
     "output_type": "stream",
     "text": [
      "New number of remaining seqs: 81073\n"
     ]
    }
   ],
   "source": [
    "# Breaking down list of lists into one list\n",
    "sample_on = itertools.chain.from_iterable(sample_ids_on)\n",
    "sample_off = itertools.chain.from_iterable(sample_ids_off)\n",
    "\n",
    "# take intersection of sample_ids_on and sample_ids_off \n",
    "sample_ids_union = set(sample_on).union(sample_off)\n",
    "sub_df = data_df.loc[sample_ids_union].reset_index(drop=True)\n",
    "\n",
    "print('New number of remaining seqs:', len(sub_df))"
   ]
  },
  {
   "cell_type": "code",
   "execution_count": 41,
   "metadata": {},
   "outputs": [],
   "source": [
    "# update parameters to match original (in order to not break later code w/ new sampling)\n",
    "data_df = sub_df\n",
    "toehold_seqs = data_df['switch_sequence']"
   ]
  },
  {
   "cell_type": "markdown",
   "metadata": {},
   "source": [
    "# Part 2. Transform Data. One-hot encode sequences and extact target on and off values."
   ]
  },
  {
   "cell_type": "code",
   "execution_count": 44,
   "metadata": {},
   "outputs": [
    {
     "name": "stdout",
     "output_type": "stream",
     "text": [
      "input shape:  (81073, 59, 4)\n",
      "modified shape:  (81073, 59, 4)\n",
      "target shape:  (81073, 1)\n"
     ]
    }
   ],
   "source": [
    "alph_letters = sorted('ATCG')\n",
    "alph = list(alph_letters)\n",
    "\n",
    "# one-hot encode\n",
    "one = One_Hot_Encoder(alph_letters)\n",
    "def _get_one_hot_encoding(seq):\n",
    "    one_hot_seq = one.encode(seq)                         \n",
    "    return one_hot_seq\n",
    "\n",
    "# now convert the data into one_hot_encoding \n",
    "input_col_name = 'switch_sequence'#'switch'\n",
    "X = np.stack([_get_one_hot_encoding(s) for s in toehold_seqs]).astype(np.float32)\n",
    "\n",
    "# reformat for CNN if needed\n",
    "print('input shape: ', X.shape)\n",
    "alph_len = len(alph)\n",
    "seq_len = len(data_df[input_col_name][0])\n",
    "X = X.reshape(X.shape[0], seq_len, alph_len).astype('float32')\n",
    "print('modified shape: ', X.shape)\n",
    "\n",
    "# reformat target valus\n",
    "y = np.array(data_df['onoff_value'].astype(np.float32))\n",
    "y = np.transpose(np.array([y]))\n",
    "print('target shape: ', y.shape)"
   ]
  },
  {
   "cell_type": "markdown",
   "metadata": {},
   "source": [
    "# Part 3. Set-up framework for model. Ensure needed parameters can be varied."
   ]
  },
  {
   "cell_type": "code",
   "execution_count": 45,
   "metadata": {},
   "outputs": [],
   "source": [
    "from keras import optimizers\n",
    "def twoheaded_conv1d(conv_layer_parameters, hidden_layers, dropout_rate = 0.2, reg_coeff = 0.0001,learning_rate=0.001, num_features = 59, num_channels = 4): \n",
    "    # num_features = seq length, num_channels = alphabet size (i.e. # nucleotides)\n",
    "    X_in = Input(shape=(num_features,num_channels),dtype='float32')\n",
    "    prior_layer = X_in \n",
    "    for idx, (kernel_width, num_filters) in enumerate(conv_layer_parameters):\n",
    "        conv_layer = Conv1D(filters=num_filters, kernel_size=kernel_width, padding='same', name='conv_'+str(idx))(prior_layer) # mimic a kmer\n",
    "        prior_layer = conv_layer\n",
    "    H = Flatten()(prior_layer)\n",
    "    for idx, h in enumerate(hidden_layers): \n",
    "        H = Dropout(dropout_rate)(H)\n",
    "        H = Dense(h, activation='relu', kernel_regularizer=l2(reg_coeff),name='dense_'+str(idx))(H)\n",
    "    out_on = Dense(1,activation=\"linear\",name='on_output')(H)\n",
    "    model = Model(inputs=[X_in], outputs=[out_on])\n",
    "    opt = optimizers.adam(lr = learning_rate)\n",
    "    model.compile(loss={'on_output': 'mse'},optimizer=opt,metrics=['mse'])\n",
    "    return model\n"
   ]
  },
  {
   "cell_type": "markdown",
   "metadata": {},
   "source": [
    "# Part 4. Define desired model features. Build sample model to view architecture."
   ]
  },
  {
   "cell_type": "code",
   "execution_count": 46,
   "metadata": {},
   "outputs": [
    {
     "name": "stdout",
     "output_type": "stream",
     "text": [
      "_________________________________________________________________\n",
      "Layer (type)                 Output Shape              Param #   \n",
      "=================================================================\n",
      "input_11 (InputLayer)        (None, 59, 4)             0         \n",
      "_________________________________________________________________\n",
      "conv_0 (Conv1D)              (None, 59, 10)            210       \n",
      "_________________________________________________________________\n",
      "conv_1 (Conv1D)              (None, 59, 5)             155       \n",
      "_________________________________________________________________\n",
      "flatten_11 (Flatten)         (None, 295)               0         \n",
      "_________________________________________________________________\n",
      "dropout_31 (Dropout)         (None, 295)               0         \n",
      "_________________________________________________________________\n",
      "dense_0 (Dense)              (None, 150)               44400     \n",
      "_________________________________________________________________\n",
      "dropout_32 (Dropout)         (None, 150)               0         \n",
      "_________________________________________________________________\n",
      "dense_1 (Dense)              (None, 60)                9060      \n",
      "_________________________________________________________________\n",
      "dropout_33 (Dropout)         (None, 60)                0         \n",
      "_________________________________________________________________\n",
      "dense_2 (Dense)              (None, 15)                915       \n",
      "_________________________________________________________________\n",
      "on_output (Dense)            (None, 1)                 16        \n",
      "=================================================================\n",
      "Total params: 54,756\n",
      "Trainable params: 54,756\n",
      "Non-trainable params: 0\n",
      "_________________________________________________________________\n"
     ]
    }
   ],
   "source": [
    "# [(kernel_width_layer1, #filters_layer1), (kernel_width_layer2, #filters_layer2), ...]\n",
    "conv_layer_parameters = [(5,10), (3,5)]\n",
    "hidden_layer_choices = {5: (150, 60, 15),} # dependent on # filters in final convolutional layer before MLP \n",
    "\n",
    "hidden_layers = hidden_layer_choices[5]\n",
    "dropout_rate = 0.1\n",
    "l2_reg_coeff = 0.0001\n",
    "learning_rate = 0.0005 \n",
    "\n",
    "# build sample master model (to be trained completely later)\n",
    "sample_model = twoheaded_conv1d(conv_layer_parameters=conv_layer_parameters, hidden_layers= hidden_layers, \n",
    "                         dropout_rate=dropout_rate, reg_coeff=l2_reg_coeff, \n",
    "                         learning_rate= learning_rate)\n",
    "\n",
    "# print model architecture \n",
    "sample_model.summary()"
   ]
  },
  {
   "cell_type": "markdown",
   "metadata": {},
   "source": [
    "# Part 5. Run K-Fold CV to ensure reliability of performance metrics. For on and off values. "
   ]
  },
  {
   "cell_type": "code",
   "execution_count": 47,
   "metadata": {},
   "outputs": [],
   "source": [
    "# define kfold object \n",
    "num_folds = 10\n",
    "seed = 0 # set for reproducability \n",
    "random.seed(seed)\n",
    "kfold = KFold(n_splits=num_folds, shuffle=True, random_state= 0)\n",
    "\n",
    "# define parameters for training \n",
    "num_epochs = 150\n",
    "patience = int(num_epochs * .1)"
   ]
  },
  {
   "cell_type": "code",
   "execution_count": 48,
   "metadata": {},
   "outputs": [],
   "source": [
    "# functions to evaluate the model\n",
    "\n",
    "def r2(preds_y, true_y):\n",
    "    return pearsonr(preds_y, true_y)[0] ** 2\n",
    "\n",
    "def compute_metrics(preds_y, true_y): \n",
    "    r2_score = r2(preds_y, true_y)[0]\n",
    "    pearson_corr = pearsonr(preds_y, true_y)[0][0]\n",
    "    spearman_corr = spearmanr(preds_y, true_y)[0]\n",
    "    print('R2: ', r2_score)\n",
    "    print('Pearson: ', pearson_corr)\n",
    "    print('Spearman: ', spearman_corr)\n",
    "    return [r2_score, pearson_corr, spearman_corr]\n",
    "\n",
    "def print_summary_results(avg_metrics, std_metrics): \n",
    "    print('Average:')\n",
    "    print('\\tR2:', avg_metrics[0], '\\n\\tPearson:', avg_metrics[1],'\\n\\tSpearman:', avg_metrics[2],)\n",
    "    print('Standard deviation:')\n",
    "    print('\\tR2:', std_metrics[0], '\\n\\tPearson:', std_metrics[1],'\\n\\tSpearman:', std_metrics[2],)\n",
    "    "
   ]
  },
  {
   "cell_type": "code",
   "execution_count": 49,
   "metadata": {
    "scrolled": false
   },
   "outputs": [
    {
     "name": "stdout",
     "output_type": "stream",
     "text": [
      "Beginning fold # 0\n",
      "--- ON/OFF Metrics ---\n",
      "R2:  0.3969207\n",
      "Pearson:  0.63001645\n",
      "Spearman:  0.6418700564162919\n",
      "Beginning fold # 1\n",
      "--- ON/OFF Metrics ---\n",
      "R2:  0.37557307\n",
      "Pearson:  0.6128402\n",
      "Spearman:  0.6319624560342898\n",
      "Beginning fold # 2\n",
      "--- ON/OFF Metrics ---\n",
      "R2:  0.38244346\n",
      "Pearson:  0.6184201\n",
      "Spearman:  0.6356469118124106\n",
      "Beginning fold # 3\n",
      "--- ON/OFF Metrics ---\n",
      "R2:  0.37436205\n",
      "Pearson:  0.61185133\n",
      "Spearman:  0.6253720155837936\n",
      "Beginning fold # 4\n",
      "--- ON/OFF Metrics ---\n",
      "R2:  0.3861642\n",
      "Pearson:  0.6214211\n",
      "Spearman:  0.6362803860570859\n",
      "Beginning fold # 5\n",
      "--- ON/OFF Metrics ---\n",
      "R2:  0.3669557\n",
      "Pearson:  0.6057687\n",
      "Spearman:  0.6194198543089242\n",
      "Beginning fold # 6\n",
      "--- ON/OFF Metrics ---\n",
      "R2:  0.37086862\n",
      "Pearson:  0.60898983\n",
      "Spearman:  0.628269196287876\n",
      "Beginning fold # 7\n",
      "--- ON/OFF Metrics ---\n",
      "R2:  0.37558025\n",
      "Pearson:  0.612846\n",
      "Spearman:  0.6248741766782452\n",
      "Beginning fold # 8\n",
      "--- ON/OFF Metrics ---\n",
      "R2:  0.39025554\n",
      "Pearson:  0.62470436\n",
      "Spearman:  0.6387467160485212\n",
      "Beginning fold # 9\n",
      "--- ON/OFF Metrics ---\n",
      "R2:  0.38690436\n",
      "Pearson:  0.6220164\n",
      "Spearman:  0.6315765369047014\n"
     ]
    }
   ],
   "source": [
    "# run kfold \n",
    "cv_scores_on=[]\n",
    "preds_on = []\n",
    "true_on = []\n",
    "fold_count=0\n",
    "for train, test in kfold.split(X, y): \n",
    "    print('Beginning fold #', fold_count)\n",
    "    # create model w/ parameters as defined\n",
    "    # NOTE: create a model from scratch each time to ensure no weights are carried over per fold  \n",
    "    kfold_model = twoheaded_conv1d(conv_layer_parameters=conv_layer_parameters, hidden_layers= hidden_layers, \n",
    "                             dropout_rate=dropout_rate, reg_coeff=l2_reg_coeff, \n",
    "                             learning_rate= learning_rate)\n",
    "    \n",
    "    # split data again for validation set (to be used w/ early stopping)\n",
    "    X_val, X_test, y_val, y_test = train_test_split(X[test], y[test], train_size = 0.5, test_size = 0.5)\n",
    "    \n",
    "    # train the model\n",
    "    early_stopping = keras.callbacks.EarlyStopping(monitor='val_loss', min_delta=0.0, patience=patience, verbose=0, mode='auto')\n",
    "    kfold_model.fit(X[train], [y[train][:,0]],epochs=num_epochs, batch_size=128,verbose=0, validation_data=(X_val, [y_val[:,0]]), callbacks=[early_stopping])\n",
    "\n",
    "    # evaluate the model\n",
    "    y_preds = np.array(kfold_model.predict(X_test))\n",
    "    \n",
    "    # get ON/OFF metrics (mark as on_metrics for simplicity)\n",
    "    print('--- ON/OFF Metrics ---')\n",
    "    on_metrics = compute_metrics(y_preds,np.expand_dims(y_test[:,0], 1))\n",
    "    cv_scores_on.append(on_metrics)  \n",
    "    preds_on.append(np.squeeze(y_preds))\n",
    "    true_on.append(y_test[:,0])\n",
    "    \n",
    "    # delete model to ensure no weights are carried over \n",
    "    del kfold_model\n",
    "\n",
    "    fold_count += 1\n",
    "out_dir = 'metrics/'  \n",
    "np.savetxt(out_dir + 'original_revised_onoff_preds.csv', preds_on, delimiter=\",\")\n",
    "np.savetxt(out_dir + 'original_revised_onoff_true.csv', true_on, delimiter=\",\")"
   ]
  },
  {
   "cell_type": "markdown",
   "metadata": {},
   "source": [
    "# Part 6. Compute average metrics.\n"
   ]
  },
  {
   "cell_type": "code",
   "execution_count": 50,
   "metadata": {},
   "outputs": [],
   "source": [
    "avg_metric_folds_on = np.mean(cv_scores_on, axis = 0) # avg over columns \n",
    "std_metric_folds_on = np.std(cv_scores_on, axis = 0) # st dev over columns"
   ]
  },
  {
   "cell_type": "code",
   "execution_count": 51,
   "metadata": {},
   "outputs": [
    {
     "name": "stdout",
     "output_type": "stream",
     "text": [
      "--- ON/OFF Metrics ---\n",
      "Average:\n",
      "\tR2: 0.38060279488563536 \n",
      "\tPearson: 0.6168874442577362 \n",
      "\tSpearman: 0.631401830613214\n",
      "Standard deviation:\n",
      "\tR2: 0.008966298325177488 \n",
      "\tPearson: 0.0072578161278113 \n",
      "\tSpearman: 0.006618512094393616\n"
     ]
    }
   ],
   "source": [
    "print('--- ON/OFF Metrics ---')\n",
    "print_summary_results(avg_metric_folds_on, std_metric_folds_on)"
   ]
  },
  {
   "cell_type": "markdown",
   "metadata": {},
   "source": [
    "# Part 7. Train model and save for future use.\n"
   ]
  },
  {
   "cell_type": "code",
   "execution_count": 52,
   "metadata": {},
   "outputs": [],
   "source": [
    "# train on more of the data (no testing - use metrics from kfold as final metrics)\n",
    "# have small held-out data for eearly stopping\n",
    "\n",
    "# split data again for validation set (to be used w/ early stopping)\n",
    "train_size = 0.851\n",
    "X_train, X_val, y_train, y_val = train_test_split(X, y, train_size = train_size, test_size = 1-train_size)\n",
    "\n",
    "# define parameters for training \n",
    "num_epochs = 150\n",
    "patience = int(num_epochs * .1)"
   ]
  },
  {
   "cell_type": "code",
   "execution_count": 53,
   "metadata": {},
   "outputs": [],
   "source": [
    "# build model\n",
    "model = twoheaded_conv1d(conv_layer_parameters=conv_layer_parameters, hidden_layers= hidden_layers, \n",
    "                         dropout_rate=dropout_rate, reg_coeff=l2_reg_coeff, \n",
    "                         learning_rate= learning_rate)"
   ]
  },
  {
   "cell_type": "code",
   "execution_count": 54,
   "metadata": {},
   "outputs": [
    {
     "name": "stdout",
     "output_type": "stream",
     "text": [
      "Train on 68993 samples, validate on 12080 samples\n",
      "Epoch 1/150\n",
      " - 6s - loss: 0.0925 - mean_squared_error: 0.0663 - val_loss: 0.0794 - val_mean_squared_error: 0.0574\n",
      "Epoch 2/150\n",
      " - 3s - loss: 0.0766 - mean_squared_error: 0.0579 - val_loss: 0.0719 - val_mean_squared_error: 0.0562\n",
      "Epoch 3/150\n",
      " - 3s - loss: 0.0689 - mean_squared_error: 0.0552 - val_loss: 0.0665 - val_mean_squared_error: 0.0546\n",
      "Epoch 4/150\n",
      " - 3s - loss: 0.0642 - mean_squared_error: 0.0536 - val_loss: 0.0597 - val_mean_squared_error: 0.0504\n",
      "Epoch 5/150\n",
      " - 3s - loss: 0.0602 - mean_squared_error: 0.0517 - val_loss: 0.0571 - val_mean_squared_error: 0.0494\n",
      "Epoch 6/150\n",
      " - 3s - loss: 0.0572 - mean_squared_error: 0.0501 - val_loss: 0.0557 - val_mean_squared_error: 0.0492\n",
      "Epoch 7/150\n",
      " - 3s - loss: 0.0550 - mean_squared_error: 0.0489 - val_loss: 0.0522 - val_mean_squared_error: 0.0465\n",
      "Epoch 8/150\n",
      " - 3s - loss: 0.0532 - mean_squared_error: 0.0478 - val_loss: 0.0521 - val_mean_squared_error: 0.0470\n",
      "Epoch 9/150\n",
      " - 3s - loss: 0.0524 - mean_squared_error: 0.0476 - val_loss: 0.0505 - val_mean_squared_error: 0.0459\n",
      "Epoch 10/150\n",
      " - 3s - loss: 0.0514 - mean_squared_error: 0.0469 - val_loss: 0.0497 - val_mean_squared_error: 0.0454\n",
      "Epoch 11/150\n",
      " - 3s - loss: 0.0507 - mean_squared_error: 0.0466 - val_loss: 0.0494 - val_mean_squared_error: 0.0453\n",
      "Epoch 12/150\n",
      " - 3s - loss: 0.0502 - mean_squared_error: 0.0462 - val_loss: 0.0497 - val_mean_squared_error: 0.0459\n",
      "Epoch 13/150\n",
      " - 3s - loss: 0.0501 - mean_squared_error: 0.0462 - val_loss: 0.0498 - val_mean_squared_error: 0.0460\n",
      "Epoch 14/150\n",
      " - 3s - loss: 0.0497 - mean_squared_error: 0.0459 - val_loss: 0.0492 - val_mean_squared_error: 0.0454\n",
      "Epoch 15/150\n",
      " - 3s - loss: 0.0495 - mean_squared_error: 0.0457 - val_loss: 0.0498 - val_mean_squared_error: 0.0460\n",
      "Epoch 16/150\n",
      " - 3s - loss: 0.0492 - mean_squared_error: 0.0454 - val_loss: 0.0489 - val_mean_squared_error: 0.0452\n",
      "Epoch 17/150\n",
      " - 3s - loss: 0.0489 - mean_squared_error: 0.0451 - val_loss: 0.0495 - val_mean_squared_error: 0.0458\n",
      "Epoch 18/150\n",
      " - 3s - loss: 0.0485 - mean_squared_error: 0.0448 - val_loss: 0.0499 - val_mean_squared_error: 0.0461\n",
      "Epoch 19/150\n",
      " - 3s - loss: 0.0481 - mean_squared_error: 0.0443 - val_loss: 0.0487 - val_mean_squared_error: 0.0450\n",
      "Epoch 20/150\n",
      " - 3s - loss: 0.0479 - mean_squared_error: 0.0442 - val_loss: 0.0486 - val_mean_squared_error: 0.0449\n",
      "Epoch 21/150\n",
      " - 3s - loss: 0.0477 - mean_squared_error: 0.0439 - val_loss: 0.0484 - val_mean_squared_error: 0.0447\n",
      "Epoch 22/150\n",
      " - 3s - loss: 0.0477 - mean_squared_error: 0.0439 - val_loss: 0.0487 - val_mean_squared_error: 0.0450\n",
      "Epoch 23/150\n",
      " - 3s - loss: 0.0475 - mean_squared_error: 0.0436 - val_loss: 0.0487 - val_mean_squared_error: 0.0449\n",
      "Epoch 24/150\n",
      " - 3s - loss: 0.0473 - mean_squared_error: 0.0434 - val_loss: 0.0488 - val_mean_squared_error: 0.0449\n",
      "Epoch 25/150\n",
      " - 3s - loss: 0.0473 - mean_squared_error: 0.0434 - val_loss: 0.0486 - val_mean_squared_error: 0.0447\n",
      "Epoch 26/150\n",
      " - 3s - loss: 0.0472 - mean_squared_error: 0.0433 - val_loss: 0.0487 - val_mean_squared_error: 0.0448\n",
      "Epoch 27/150\n",
      " - 3s - loss: 0.0469 - mean_squared_error: 0.0430 - val_loss: 0.0490 - val_mean_squared_error: 0.0450\n",
      "Epoch 28/150\n",
      " - 3s - loss: 0.0471 - mean_squared_error: 0.0431 - val_loss: 0.0489 - val_mean_squared_error: 0.0449\n",
      "Epoch 29/150\n",
      " - 3s - loss: 0.0469 - mean_squared_error: 0.0429 - val_loss: 0.0489 - val_mean_squared_error: 0.0449\n",
      "Epoch 30/150\n",
      " - 4s - loss: 0.0470 - mean_squared_error: 0.0429 - val_loss: 0.0489 - val_mean_squared_error: 0.0448\n",
      "Epoch 31/150\n",
      " - 3s - loss: 0.0468 - mean_squared_error: 0.0427 - val_loss: 0.0494 - val_mean_squared_error: 0.0453\n",
      "Epoch 32/150\n",
      " - 3s - loss: 0.0467 - mean_squared_error: 0.0425 - val_loss: 0.0493 - val_mean_squared_error: 0.0452\n",
      "Epoch 33/150\n",
      " - 3s - loss: 0.0466 - mean_squared_error: 0.0424 - val_loss: 0.0495 - val_mean_squared_error: 0.0454\n",
      "Epoch 34/150\n",
      " - 3s - loss: 0.0464 - mean_squared_error: 0.0422 - val_loss: 0.0489 - val_mean_squared_error: 0.0447\n",
      "Epoch 35/150\n",
      " - 3s - loss: 0.0463 - mean_squared_error: 0.0421 - val_loss: 0.0493 - val_mean_squared_error: 0.0451\n",
      "Epoch 36/150\n",
      " - 3s - loss: 0.0465 - mean_squared_error: 0.0423 - val_loss: 0.0493 - val_mean_squared_error: 0.0451\n",
      "Epoch 00036: early stopping\n"
     ]
    },
    {
     "data": {
      "text/plain": [
       "<keras.callbacks.History at 0x15b5de278>"
      ]
     },
     "execution_count": 54,
     "metadata": {},
     "output_type": "execute_result"
    }
   ],
   "source": [
    "# train model\n",
    "early_stopping = keras.callbacks.EarlyStopping(monitor='val_loss', min_delta=0.0, patience=patience, verbose=2, mode='auto')\n",
    "model.fit(X_train, [y_train[:,0]],epochs=num_epochs, batch_size=128,verbose=2, validation_data=(X_val, [y_val[:,0]]), callbacks=[early_stopping])\n"
   ]
  },
  {
   "cell_type": "code",
   "execution_count": 55,
   "metadata": {},
   "outputs": [],
   "source": [
    "# save model (architecture + weights) \n",
    "out_dir = '../models/'\n",
    "model.save(out_dir + 'onoff_original_model.h5')\n",
    "model.save_weights(out_dir + 'onoff_original_model_weights.h5')"
   ]
  },
  {
   "cell_type": "code",
   "execution_count": null,
   "metadata": {},
   "outputs": [],
   "source": []
  }
 ],
 "metadata": {
  "anaconda-cloud": {},
  "kernelspec": {
   "display_name": "Python 3",
   "language": "python",
   "name": "python3"
  },
  "language_info": {
   "codemirror_mode": {
    "name": "ipython",
    "version": 3
   },
   "file_extension": ".py",
   "mimetype": "text/x-python",
   "name": "python",
   "nbconvert_exporter": "python",
   "pygments_lexer": "ipython3",
   "version": "3.7.1"
  }
 },
 "nbformat": 4,
 "nbformat_minor": 2
}
