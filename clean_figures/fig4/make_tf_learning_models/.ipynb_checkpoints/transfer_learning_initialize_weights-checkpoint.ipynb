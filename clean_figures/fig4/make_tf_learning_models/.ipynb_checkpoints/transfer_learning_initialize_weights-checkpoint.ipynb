{
 "cells": [
  {
   "cell_type": "markdown",
   "metadata": {},
   "source": [
    "Goal: train, evaluate, and save a single model architecture."
   ]
  },
  {
   "cell_type": "code",
   "execution_count": 37,
   "metadata": {},
   "outputs": [],
   "source": [
    "# import statements \n",
    "\n",
    "import os\n",
    "\n",
    "import platform\n",
    "import random\n",
    "import shutil\n",
    "import sys\n",
    "\n",
    "import math\n",
    "import itertools\n",
    "import matplotlib.pyplot as plt\n",
    "\n",
    "import numpy as np\n",
    "import pandas as pd\n",
    "import seaborn as sns\n",
    "import sklearn.metrics\n",
    "import tensorflow as tf\n",
    "from tensorflow.python.saved_model import tag_constants\n",
    "from tqdm import tqdm_notebook as tqdm\n",
    "import keras\n",
    "from keras.models import load_model\n",
    "\n",
    "# some visualization imports\n",
    "from keras import activations\n",
    "\n",
    "# various imports for the keras model\n",
    "from keras.layers.core import Permute\n",
    "from keras import backend as K\n",
    "from keras.engine.topology import Layer\n",
    "import keras as keras\n",
    "from keras.callbacks import TensorBoard\n",
    "from keras import metrics as metrics\n",
    "from keras.models import Sequential, Model\n",
    "from keras.layers import Dense, Dropout, Activation, Flatten, Input, Conv1D, Concatenate\n",
    "from keras.optimizers import SGD\n",
    "from keras.regularizers import l2\n",
    "\n",
    "# evaluate performance w/ on and off regression separately \n",
    "from scipy.stats import pearsonr, spearmanr \n",
    "\n",
    "# imports for the grid search and kfold CV\n",
    "from sklearn.model_selection import KFold, train_test_split\n",
    "from sklearn.metrics import roc_auc_score\n",
    "from sklearn.metrics import precision_recall_curve, average_precision_score\n",
    "\n",
    "# data one-hot encoding imports\n",
    "from pysster.One_Hot_Encoder import One_Hot_Encoder\n",
    "from sklearn import preprocessing\n",
    "from keras.utils import to_categorical\n"
   ]
  },
  {
   "cell_type": "markdown",
   "metadata": {},
   "source": [
    "# Part 1: Load in data."
   ]
  },
  {
   "cell_type": "code",
   "execution_count": 38,
   "metadata": {},
   "outputs": [
    {
     "name": "stdout",
     "output_type": "stream",
     "text": [
      "   Unnamed: 0  Toehold ID                                   Toehold sequence  \\\n",
      "0          11          68  AATGTATGTAATAGTTCGTCGAGGTGTCCAAGCAGAGGAGATGGAC...   \n",
      "1         117         110  ATGATAATGTAGAGGTGCGGAGTGATTGTAAACAGAGGAGATACAA...   \n",
      "2         108         100  CGAAGTATTGTAAGGTGTAGTGTGCGTTGAGACAGAGGAGATCAAC...   \n",
      "3         122         116  TAAGTAAATGAAAGTGTATGTATGTTGCTGGACAGAGGAGACAGCA...   \n",
      "4          17         117  TCAATAAGGCGGAGTTCGTCGAGGTGCCTGAGCAGAGGAGACAGGC...   \n",
      "\n",
      "                    Switch region                         Trigger  Avg ONOFF  \\\n",
      "0  AATGTATGTAATAGTTCGTCGAGGTGTCCA  TGGACACCTCGACGAACTATTACATACATT       24.8   \n",
      "1  ATGATAATGTAGAGGTGCGGAGTGATTGTA  TACAATCACTCCGCACCTCTACATTATCAT        9.7   \n",
      "2  CGAAGTATTGTAAGGTGTAGTGTGCGTTGA  TCAACGCACACTACACCTTACAATACTTCG       13.6   \n",
      "3  TAAGTAAATGAAAGTGTATGTATGTTGCTG  CAGCAACATACATACACTTTCATTTACTTA        8.7   \n",
      "4  TCAATAAGGCGGAGTTCGTCGAGGTGCCTG  CAGGCACCTCGACGAACTCCGCCTTATTGA        8.5   \n",
      "\n",
      "   sdev ONOFF Toehold Rating  \n",
      "0         2.2            Bad  \n",
      "1         1.1            Bad  \n",
      "2         1.5            Bad  \n",
      "3         1.1            Bad  \n",
      "4         1.4            Bad  \n"
     ]
    }
   ],
   "source": [
    "# Load in data\n",
    "data_dir = ''\n",
    "sequence_file = 'Green2014_clean.csv'\n",
    "sequences = pd.read_csv(data_dir + sequence_file,sep=',')\n",
    "print(sequences.head(5))"
   ]
  },
  {
   "cell_type": "code",
   "execution_count": 39,
   "metadata": {},
   "outputs": [],
   "source": [
    "seqs = sequences['Toehold sequence']\n",
    "onoff_vals = np.array(sequences['Avg ONOFF'])\n",
    "onoff_vals = preprocessing.MinMaxScaler().fit_transform(onoff_vals.reshape(-1, 1)) #normalize"
   ]
  },
  {
   "cell_type": "markdown",
   "metadata": {},
   "source": [
    "# Part 2. Transform Data. One-hot encode sequences and extact target on and off values."
   ]
  },
  {
   "cell_type": "code",
   "execution_count": 40,
   "metadata": {},
   "outputs": [
    {
     "name": "stdout",
     "output_type": "stream",
     "text": [
      "input shape:  (168, 59, 4)\n",
      "modified shape:  (168, 59, 4)\n"
     ]
    }
   ],
   "source": [
    "from pysster.One_Hot_Encoder import One_Hot_Encoder\n",
    "alph_letters = 'ATCG'\n",
    "alph = list(alph_letters)\n",
    "\n",
    "# one-hot encode\n",
    "one = One_Hot_Encoder(alph_letters)\n",
    "def _get_one_hot_encoding(seq):\n",
    "    one_hot_seq = one.encode(seq)                         \n",
    "    return one_hot_seq\n",
    "\n",
    "X = np.stack([_get_one_hot_encoding(s) for s in seqs]).astype(np.float32)\n",
    "nsamples, nx, ny = X.shape # have to flatten the one hot encoded into one dimension\n",
    "\n",
    "# reformat for CNN if needed\n",
    "print('input shape: ', X.shape)\n",
    "alph_len = len(alph)\n",
    "seq_len = len(seqs[0])\n",
    "X = X.reshape(X.shape[0], seq_len, alph_len).astype('float32')\n",
    "print('modified shape: ', X.shape)"
   ]
  },
  {
   "cell_type": "code",
   "execution_count": 41,
   "metadata": {},
   "outputs": [
    {
     "name": "stdout",
     "output_type": "stream",
     "text": [
      "target shape:  (168, 1)\n"
     ]
    }
   ],
   "source": [
    "# reshape and normalize target vals if needed (it is not needed)\n",
    "y = np.array(onoff_vals)\n",
    "print('target shape: ', y.shape)"
   ]
  },
  {
   "cell_type": "markdown",
   "metadata": {},
   "source": [
    "# Part 3. Set-up framework for model. Ensure needed parameters can be varied."
   ]
  },
  {
   "cell_type": "code",
   "execution_count": 42,
   "metadata": {},
   "outputs": [],
   "source": [
    "from keras import optimizers\n",
    "def twoheaded_conv1d(transfer_model, conv_layer_parameters, hidden_layers, dropout_rate = 0.2, reg_coeff = 0.0001,learning_rate=0.001, num_features = seq_len, num_channels = 4): \n",
    "    # num_features = seq length, num_channels = alphabet size (i.e. # nucleotides)\n",
    "    X_in = Input(shape=(num_features,num_channels),dtype='float32')\n",
    "    prior_layer = X_in \n",
    "    if conv_layer_parameters != None: # add in initialization here\n",
    "        for idx, (kernel_width, num_filters) in enumerate(conv_layer_parameters):\n",
    "            transfer_weights = transfer_model.layers[idx+1].get_weights()\n",
    "            # When adding a new layer, you can define the argument \"weights\", a list that contains initial w and b with shape speicified.\n",
    "            conv_layer = Conv1D(filters=num_filters, weights = transfer_weights, kernel_size=kernel_width, padding='same', name='conv_'+str(idx))(prior_layer) # mimic a kmer\n",
    "            prior_layer = conv_layer\n",
    "    H = Flatten()(prior_layer)\n",
    "    # have to do some bookkeeeping on the number of layers here\n",
    "    num_conv_layers_in_tf_model = 2\n",
    "    num_addl_to_add_to_correct_for_dropout_layers = 2\n",
    "    for idx, h in enumerate(hidden_layers): \n",
    "        idx_num = idx+num_conv_layers_in_tf_model+num_addl_to_add_to_correct_for_dropout_layers+1\n",
    "        transfer_weights = transfer_model.layers[idx_num].get_weights()\n",
    "        H = Dropout(dropout_rate)(H)\n",
    "        H = Dense(h, activation='relu', weights=transfer_weights, kernel_regularizer=l2(reg_coeff),name='dense_'+str(idx))(H)\n",
    "        num_addl_to_add_to_correct_for_dropout_layers = num_addl_to_add_to_correct_for_dropout_layers + 1\n",
    "    out_on = Dense(1,activation=\"linear\",name='on_output')(H)\n",
    "    model = Model(inputs=[X_in], outputs=[out_on])\n",
    "    opt = optimizers.adam(lr = learning_rate)\n",
    "    model.compile(loss={'on_output': 'mse'},optimizer=opt,metrics=['mse'])\n",
    "    return model"
   ]
  },
  {
   "cell_type": "markdown",
   "metadata": {},
   "source": [
    "# Part 4a: Load trained model to do transfer learning on"
   ]
  },
  {
   "cell_type": "code",
   "execution_count": 43,
   "metadata": {},
   "outputs": [
    {
     "name": "stdout",
     "output_type": "stream",
     "text": [
      "_________________________________________________________________\n",
      "Layer (type)                 Output Shape              Param #   \n",
      "=================================================================\n",
      "input_22 (InputLayer)        (None, 59, 4)             0         \n",
      "_________________________________________________________________\n",
      "conv_0 (Conv1D)              (None, 59, 10)            210       \n",
      "_________________________________________________________________\n",
      "conv_1 (Conv1D)              (None, 59, 5)             155       \n",
      "_________________________________________________________________\n",
      "flatten_22 (Flatten)         (None, 295)               0         \n",
      "_________________________________________________________________\n",
      "dropout_64 (Dropout)         (None, 295)               0         \n",
      "_________________________________________________________________\n",
      "dense_0 (Dense)              (None, 150)               44400     \n",
      "_________________________________________________________________\n",
      "dropout_65 (Dropout)         (None, 150)               0         \n",
      "_________________________________________________________________\n",
      "dense_1 (Dense)              (None, 60)                9060      \n",
      "_________________________________________________________________\n",
      "dropout_66 (Dropout)         (None, 60)                0         \n",
      "_________________________________________________________________\n",
      "dense_2 (Dense)              (None, 15)                915       \n",
      "_________________________________________________________________\n",
      "on_output (Dense)            (None, 1)                 16        \n",
      "=================================================================\n",
      "Total params: 54,756\n",
      "Trainable params: 54,756\n",
      "Non-trainable params: 0\n",
      "_________________________________________________________________\n"
     ]
    }
   ],
   "source": [
    "transfer_model_dir = '../models/'\n",
    "transfer_final_model_path = transfer_model_dir + 'onoff_original_model.h5'\n",
    "transfer_final_weights_path = transfer_model_dir + 'onoff_original_model_weights.h5'\n",
    "transfer_model = load_model(transfer_final_model_path)\n",
    "transfer_model.load_weights(transfer_final_weights_path)\n",
    "\n",
    "# visually inspect architecture\n",
    "transfer_model.summary()"
   ]
  },
  {
   "cell_type": "markdown",
   "metadata": {},
   "source": [
    "# Part 4b. Define desired model features. Build sample model to view architecture. Should be same as TF learning model."
   ]
  },
  {
   "cell_type": "code",
   "execution_count": 44,
   "metadata": {},
   "outputs": [
    {
     "name": "stdout",
     "output_type": "stream",
     "text": [
      "_________________________________________________________________\n",
      "Layer (type)                 Output Shape              Param #   \n",
      "=================================================================\n",
      "input_15 (InputLayer)        (None, 59, 4)             0         \n",
      "_________________________________________________________________\n",
      "conv_0 (Conv1D)              (None, 59, 10)            210       \n",
      "_________________________________________________________________\n",
      "conv_1 (Conv1D)              (None, 59, 5)             155       \n",
      "_________________________________________________________________\n",
      "flatten_15 (Flatten)         (None, 295)               0         \n",
      "_________________________________________________________________\n",
      "dropout_41 (Dropout)         (None, 295)               0         \n",
      "_________________________________________________________________\n",
      "dense_0 (Dense)              (None, 150)               44400     \n",
      "_________________________________________________________________\n",
      "dropout_42 (Dropout)         (None, 150)               0         \n",
      "_________________________________________________________________\n",
      "dense_1 (Dense)              (None, 60)                9060      \n",
      "_________________________________________________________________\n",
      "dropout_43 (Dropout)         (None, 60)                0         \n",
      "_________________________________________________________________\n",
      "dense_2 (Dense)              (None, 15)                915       \n",
      "_________________________________________________________________\n",
      "on_output (Dense)            (None, 1)                 16        \n",
      "=================================================================\n",
      "Total params: 54,756\n",
      "Trainable params: 54,756\n",
      "Non-trainable params: 0\n",
      "_________________________________________________________________\n"
     ]
    }
   ],
   "source": [
    "# [(kernel_width_layer1, #filters_layer1), (kernel_width_layer2, #filters_layer2), ...]\n",
    "conv_layer_parameters = [(5,10), (3,5)]\n",
    "hidden_layer_choices = {5: (150, 60, 15),} # dependent on # filters in final convolutional layer before MLP \n",
    "hidden_layers = hidden_layer_choices[5]\n",
    "dropout_rate = 0.1\n",
    "l2_reg_coeff = 0.0001\n",
    "learning_rate = 0.0005 \n",
    "\n",
    "# build sample master model (to be trained completely later)\n",
    "sample_model = twoheaded_conv1d(transfer_model, conv_layer_parameters=conv_layer_parameters, hidden_layers= hidden_layers, \n",
    "                         dropout_rate=dropout_rate, reg_coeff=l2_reg_coeff, \n",
    "                         learning_rate= learning_rate)\n",
    "\n",
    "# print model architecture \n",
    "sample_model.summary()"
   ]
  },
  {
   "cell_type": "markdown",
   "metadata": {},
   "source": [
    "# Part 5. Run K-Fold CV to ensure reliability of performance metrics. For on and off values. "
   ]
  },
  {
   "cell_type": "code",
   "execution_count": 45,
   "metadata": {},
   "outputs": [],
   "source": [
    "# define kfold object \n",
    "num_folds = 5 # smaller than 10 because 168 data points\n",
    "seed = 0 # set for reproducability \n",
    "random.seed(seed)\n",
    "kfold = KFold(n_splits=num_folds, shuffle=True, random_state= 0)\n",
    "\n",
    "# define parameters for training \n",
    "num_epochs = 150\n",
    "patience = int(num_epochs * .1)"
   ]
  },
  {
   "cell_type": "code",
   "execution_count": 46,
   "metadata": {},
   "outputs": [],
   "source": [
    "# functions to evaluate the model\n",
    "\n",
    "def r2(preds_y, true_y):\n",
    "    return pearsonr(preds_y, true_y)[0] ** 2\n",
    "\n",
    "def compute_metrics(preds_y, true_y): \n",
    "    r2_score = r2(preds_y, true_y)[0]\n",
    "    pearson_corr = pearsonr(preds_y, true_y)[0][0]\n",
    "    spearman_corr = spearmanr(preds_y, true_y)[0]\n",
    "    print('R2: ', r2_score)\n",
    "    print('Pearson: ', pearson_corr)\n",
    "    print('Spearman: ', spearman_corr)\n",
    "    return [r2_score, pearson_corr, spearman_corr]\n",
    "\n",
    "def print_summary_results(avg_metrics, std_metrics): \n",
    "    print('Average:')\n",
    "    print('\\tR2:', avg_metrics[0], '\\n\\tPearson:', avg_metrics[1],'\\n\\tSpearman:', avg_metrics[2],)\n",
    "    print('Standard deviation:')\n",
    "    print('\\tR2:', std_metrics[0], '\\n\\tPearson:', std_metrics[1],'\\n\\tSpearman:', std_metrics[2],)\n",
    "    "
   ]
  },
  {
   "cell_type": "code",
   "execution_count": 47,
   "metadata": {
    "scrolled": false
   },
   "outputs": [
    {
     "name": "stdout",
     "output_type": "stream",
     "text": [
      "Beginning fold # 0\n",
      "--- ON/OFF Metrics ---\n",
      "R2:  0.1341704587430273\n",
      "Pearson:  0.3662928592574899\n",
      "Spearman:  0.4721030930276659\n",
      "Beginning fold # 1\n",
      "--- ON/OFF Metrics ---\n",
      "R2:  nan\n",
      "Pearson:  nan\n",
      "Spearman:  nan\n",
      "Beginning fold # 2\n"
     ]
    },
    {
     "name": "stderr",
     "output_type": "stream",
     "text": [
      "/Library/Frameworks/Python.framework/Versions/3.7/lib/python3.7/site-packages/scipy/stats/stats.py:3010: RuntimeWarning: invalid value encountered in true_divide\n",
      "  r = r_num / r_den\n",
      "/Library/Frameworks/Python.framework/Versions/3.7/lib/python3.7/site-packages/numpy/lib/function_base.py:2400: RuntimeWarning: invalid value encountered in true_divide\n",
      "  c /= stddev[:, None]\n",
      "/Library/Frameworks/Python.framework/Versions/3.7/lib/python3.7/site-packages/numpy/lib/function_base.py:2401: RuntimeWarning: invalid value encountered in true_divide\n",
      "  c /= stddev[None, :]\n",
      "/Library/Frameworks/Python.framework/Versions/3.7/lib/python3.7/site-packages/scipy/stats/_distn_infrastructure.py:879: RuntimeWarning: invalid value encountered in greater\n",
      "  return (self.a < x) & (x < self.b)\n",
      "/Library/Frameworks/Python.framework/Versions/3.7/lib/python3.7/site-packages/scipy/stats/_distn_infrastructure.py:879: RuntimeWarning: invalid value encountered in less\n",
      "  return (self.a < x) & (x < self.b)\n",
      "/Library/Frameworks/Python.framework/Versions/3.7/lib/python3.7/site-packages/scipy/stats/_distn_infrastructure.py:1821: RuntimeWarning: invalid value encountered in less_equal\n",
      "  cond2 = cond0 & (x <= self.a)\n"
     ]
    },
    {
     "name": "stdout",
     "output_type": "stream",
     "text": [
      "--- ON/OFF Metrics ---\n",
      "R2:  0.05581321100963245\n",
      "Pearson:  0.23624819789711085\n",
      "Spearman:  -0.004904967200287438\n",
      "Beginning fold # 3\n",
      "--- ON/OFF Metrics ---\n",
      "R2:  0.6763076163878489\n",
      "Pearson:  0.8223792412189457\n",
      "Spearman:  0.3651960784313726\n",
      "Beginning fold # 4\n",
      "--- ON/OFF Metrics ---\n",
      "R2:  0.07046505683972894\n",
      "Pearson:  0.2654525510137903\n",
      "Spearman:  0.09068627450980393\n"
     ]
    }
   ],
   "source": [
    "# run kfold \n",
    "cv_scores_on=[]\n",
    "preds_on = []\n",
    "true_on = []\n",
    "fold_count=0\n",
    "for train, test in kfold.split(X, y): \n",
    "    print('Beginning fold #', fold_count)\n",
    "    # create model w/ parameters as defined\n",
    "    # NOTE: create a model from scratch each time to ensure no weights are carried over per fold  \n",
    "    kfold_model = twoheaded_conv1d(transfer_model, conv_layer_parameters=conv_layer_parameters, hidden_layers= hidden_layers, \n",
    "                             dropout_rate=dropout_rate, reg_coeff=l2_reg_coeff, \n",
    "                             learning_rate= learning_rate)\n",
    "    \n",
    "    # split data again for validation set (to be used w/ early stopping)\n",
    "    X_val, X_test, y_val, y_test = train_test_split(X[test], y[test], train_size = 0.5, test_size = 0.5)\n",
    "    \n",
    "    # train the model\n",
    "    early_stopping = keras.callbacks.EarlyStopping(monitor='val_loss', min_delta=0.0, patience=patience, verbose=0, mode='auto')\n",
    "    kfold_model.fit(X[train], [y[train][:,0]],epochs=num_epochs, batch_size=128,verbose=0, validation_data=(X_val, [y_val[:,0]]), callbacks=[early_stopping])\n",
    "\n",
    "    # evaluate the model\n",
    "    y_preds = np.array(kfold_model.predict(X_test))\n",
    "    \n",
    "    # get ON/OFF metrics (mark as on_metrics for simplicity)\n",
    "    print('--- ON/OFF Metrics ---')\n",
    "    on_metrics = compute_metrics(y_preds,np.expand_dims(y_test[:,0], 1))\n",
    "    cv_scores_on.append(on_metrics)\n",
    "    preds_on.append(np.squeeze(y_preds))\n",
    "    true_on.append(y_test[:,0])\n",
    "    \n",
    "    # delete model to ensure no weights are carried over \n",
    "    del kfold_model\n",
    "\n",
    "    fold_count += 1\n",
    "\n",
    "out_dir = 'metrics/'\n",
    "np.savetxt(out_dir + 'initialization_weights_tf_onoff_preds.csv', preds_on, delimiter=\",\")\n",
    "np.savetxt(out_dir + 'initialization_weights_tf_onoff_true.csv', true_on, delimiter=\",\")"
   ]
  },
  {
   "cell_type": "markdown",
   "metadata": {},
   "source": [
    "# Part 6. Compute average metrics.\n"
   ]
  },
  {
   "cell_type": "code",
   "execution_count": 48,
   "metadata": {},
   "outputs": [],
   "source": [
    "avg_metric_folds_on = np.mean(cv_scores_on, axis = 0) # avg over columns \n",
    "std_metric_folds_on = np.std(cv_scores_on, axis = 0) # st dev over columns"
   ]
  },
  {
   "cell_type": "code",
   "execution_count": 2,
   "metadata": {},
   "outputs": [
    {
     "name": "stdout",
     "output_type": "stream",
     "text": [
      "--- ON/OFF Metrics ---\n"
     ]
    }
   ],
   "source": [
    "print('--- ON/OFF Metrics ---')\n",
    "# print_summary_results(avg_metric_folds_on, std_metric_folds_on)\n",
    "# all NaN because of fold #1\n",
    "# this happened because the batchs were so small- ignore the one fold that got messed up\n",
    "# and just train on whole batch"
   ]
  },
  {
   "cell_type": "markdown",
   "metadata": {},
   "source": [
    "# Part 7. Train model and save for future use.\n"
   ]
  },
  {
   "cell_type": "code",
   "execution_count": 50,
   "metadata": {},
   "outputs": [],
   "source": [
    "# train on more of the data (no testing - use metrics from kfold as final metrics)\n",
    "# have small held-out data for early stopping\n",
    "\n",
    "# split data again for validation set (to be used w/ early stopping)\n",
    "train_size = 0.851\n",
    "X_train, X_val, y_train, y_val = train_test_split(X, y, train_size = train_size, test_size = 1-train_size)\n",
    "\n",
    "# define parameters for training \n",
    "num_epochs = 150\n",
    "patience = int(num_epochs * .1)"
   ]
  },
  {
   "cell_type": "code",
   "execution_count": 51,
   "metadata": {},
   "outputs": [],
   "source": [
    "# build model\n",
    "model = twoheaded_conv1d(transfer_model, conv_layer_parameters=conv_layer_parameters, hidden_layers= hidden_layers, \n",
    "                         dropout_rate=dropout_rate, reg_coeff=l2_reg_coeff, \n",
    "                         learning_rate= learning_rate)"
   ]
  },
  {
   "cell_type": "code",
   "execution_count": 52,
   "metadata": {},
   "outputs": [
    {
     "name": "stdout",
     "output_type": "stream",
     "text": [
      "Train on 142 samples, validate on 26 samples\n",
      "Epoch 1/150\n",
      " - 2s - loss: 0.0949 - mean_squared_error: 0.0907 - val_loss: 0.0260 - val_mean_squared_error: 0.0218\n",
      "Epoch 2/150\n",
      " - 0s - loss: 0.0838 - mean_squared_error: 0.0797 - val_loss: 0.0222 - val_mean_squared_error: 0.0180\n",
      "Epoch 3/150\n",
      " - 0s - loss: 0.0775 - mean_squared_error: 0.0734 - val_loss: 0.0195 - val_mean_squared_error: 0.0153\n",
      "Epoch 4/150\n",
      " - 0s - loss: 0.0738 - mean_squared_error: 0.0696 - val_loss: 0.0186 - val_mean_squared_error: 0.0145\n",
      "Epoch 5/150\n",
      " - 0s - loss: 0.0725 - mean_squared_error: 0.0684 - val_loss: 0.0181 - val_mean_squared_error: 0.0140\n",
      "Epoch 6/150\n",
      " - 0s - loss: 0.0712 - mean_squared_error: 0.0671 - val_loss: 0.0175 - val_mean_squared_error: 0.0134\n",
      "Epoch 7/150\n",
      " - 0s - loss: 0.0705 - mean_squared_error: 0.0665 - val_loss: 0.0169 - val_mean_squared_error: 0.0129\n",
      "Epoch 8/150\n",
      " - 0s - loss: 0.0689 - mean_squared_error: 0.0649 - val_loss: 0.0163 - val_mean_squared_error: 0.0123\n",
      "Epoch 9/150\n",
      " - 0s - loss: 0.0674 - mean_squared_error: 0.0633 - val_loss: 0.0156 - val_mean_squared_error: 0.0116\n",
      "Epoch 10/150\n",
      " - 0s - loss: 0.0660 - mean_squared_error: 0.0620 - val_loss: 0.0149 - val_mean_squared_error: 0.0109\n",
      "Epoch 11/150\n",
      " - 0s - loss: 0.0639 - mean_squared_error: 0.0599 - val_loss: 0.0140 - val_mean_squared_error: 0.0101\n",
      "Epoch 12/150\n",
      " - 0s - loss: 0.0614 - mean_squared_error: 0.0575 - val_loss: 0.0132 - val_mean_squared_error: 0.0093\n",
      "Epoch 13/150\n",
      " - 0s - loss: 0.0593 - mean_squared_error: 0.0554 - val_loss: 0.0127 - val_mean_squared_error: 0.0088\n",
      "Epoch 14/150\n",
      " - 0s - loss: 0.0566 - mean_squared_error: 0.0528 - val_loss: 0.0125 - val_mean_squared_error: 0.0086\n",
      "Epoch 15/150\n",
      " - 0s - loss: 0.0548 - mean_squared_error: 0.0509 - val_loss: 0.0129 - val_mean_squared_error: 0.0091\n",
      "Epoch 16/150\n",
      " - 0s - loss: 0.0527 - mean_squared_error: 0.0489 - val_loss: 0.0142 - val_mean_squared_error: 0.0103\n",
      "Epoch 17/150\n",
      " - 0s - loss: 0.0515 - mean_squared_error: 0.0477 - val_loss: 0.0164 - val_mean_squared_error: 0.0126\n",
      "Epoch 18/150\n",
      " - 0s - loss: 0.0499 - mean_squared_error: 0.0461 - val_loss: 0.0189 - val_mean_squared_error: 0.0151\n",
      "Epoch 19/150\n",
      " - 0s - loss: 0.0493 - mean_squared_error: 0.0455 - val_loss: 0.0210 - val_mean_squared_error: 0.0172\n",
      "Epoch 20/150\n",
      " - 0s - loss: 0.0467 - mean_squared_error: 0.0429 - val_loss: 0.0223 - val_mean_squared_error: 0.0186\n",
      "Epoch 21/150\n",
      " - 0s - loss: 0.0488 - mean_squared_error: 0.0450 - val_loss: 0.0218 - val_mean_squared_error: 0.0181\n",
      "Epoch 22/150\n",
      " - 0s - loss: 0.0476 - mean_squared_error: 0.0439 - val_loss: 0.0201 - val_mean_squared_error: 0.0164\n",
      "Epoch 23/150\n",
      " - 0s - loss: 0.0465 - mean_squared_error: 0.0428 - val_loss: 0.0180 - val_mean_squared_error: 0.0143\n",
      "Epoch 24/150\n",
      " - 0s - loss: 0.0446 - mean_squared_error: 0.0409 - val_loss: 0.0161 - val_mean_squared_error: 0.0124\n",
      "Epoch 25/150\n",
      " - 0s - loss: 0.0457 - mean_squared_error: 0.0420 - val_loss: 0.0147 - val_mean_squared_error: 0.0110\n",
      "Epoch 26/150\n",
      " - 0s - loss: 0.0444 - mean_squared_error: 0.0407 - val_loss: 0.0137 - val_mean_squared_error: 0.0101\n",
      "Epoch 27/150\n",
      " - 0s - loss: 0.0455 - mean_squared_error: 0.0419 - val_loss: 0.0132 - val_mean_squared_error: 0.0096\n",
      "Epoch 28/150\n",
      " - 0s - loss: 0.0437 - mean_squared_error: 0.0401 - val_loss: 0.0132 - val_mean_squared_error: 0.0096\n",
      "Epoch 29/150\n",
      " - 0s - loss: 0.0417 - mean_squared_error: 0.0381 - val_loss: 0.0135 - val_mean_squared_error: 0.0100\n",
      "Epoch 00029: early stopping\n"
     ]
    },
    {
     "data": {
      "text/plain": [
       "<keras.callbacks.History at 0x131d6e0b8>"
      ]
     },
     "execution_count": 52,
     "metadata": {},
     "output_type": "execute_result"
    }
   ],
   "source": [
    "# train model\n",
    "early_stopping = keras.callbacks.EarlyStopping(monitor='val_loss', min_delta=0.0, patience=patience, verbose=2, mode='auto')\n",
    "model.fit(X_train, [y_train[:,0]],epochs=num_epochs, batch_size=128,verbose=2, validation_data=(X_val, [y_val[:,0]]), callbacks=[early_stopping])\n"
   ]
  },
  {
   "cell_type": "code",
   "execution_count": 53,
   "metadata": {},
   "outputs": [],
   "source": [
    "# save model (architecture + weights) \n",
    "out_dir = '../models/'\n",
    "model.save(out_dir + 'initialization_weights_tf_onoff_model.h5')\n",
    "model.save_weights(out_dir + 'initialization_weights_tf_onoff_model_weights.h5')"
   ]
  },
  {
   "cell_type": "code",
   "execution_count": null,
   "metadata": {},
   "outputs": [],
   "source": []
  }
 ],
 "metadata": {
  "anaconda-cloud": {},
  "kernelspec": {
   "display_name": "Python 3",
   "language": "python",
   "name": "python3"
  },
  "language_info": {
   "codemirror_mode": {
    "name": "ipython",
    "version": 3
   },
   "file_extension": ".py",
   "mimetype": "text/x-python",
   "name": "python",
   "nbconvert_exporter": "python",
   "pygments_lexer": "ipython3",
   "version": "3.7.1"
  }
 },
 "nbformat": 4,
 "nbformat_minor": 2
}
